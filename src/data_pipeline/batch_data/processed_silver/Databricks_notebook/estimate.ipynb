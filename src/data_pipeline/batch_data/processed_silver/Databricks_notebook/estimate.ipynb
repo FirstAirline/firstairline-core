{
 "cells": [
  {
   "cell_type": "code",
   "execution_count": 0,
   "metadata": {
    "application/vnd.databricks.v1+cell": {
     "cellMetadata": {
      "byteLimit": 2048000,
      "rowLimit": 10000
     },
     "inputWidgets": {},
     "nuid": "a0d06db8-9db1-4b63-8dea-48c95e859a4f",
     "showTitle": false,
     "tableResultSettingsMap": {},
     "title": ""
    }
   },
   "outputs": [],
   "source": [
    "from pyspark.sql import Row\n",
    "from pyspark.sql.functions import lit, when, count, lpad, col, sum as _sum, expr, broadcast\n",
    "from pyspark.sql import functions as F\n",
    "from pyspark.sql.functions import round\n",
    "from pyspark.sql.types import StructType, StructField, StringType, IntegerType, DateType\n",
    "from datetime import datetime, timedelta"
   ]
  },
  {
   "cell_type": "code",
   "execution_count": 0,
   "metadata": {
    "application/vnd.databricks.v1+cell": {
     "cellMetadata": {
      "byteLimit": 2048000,
      "rowLimit": 10000
     },
     "inputWidgets": {},
     "nuid": "c5a14ebc-5484-494d-a8f0-26be7bfa2b19",
     "showTitle": false,
     "tableResultSettingsMap": {},
     "title": ""
    }
   },
   "outputs": [],
   "source": [
    "# 1. 데이터 로드 및 전처리\n",
    "time_df = spark.table(\"`1team-postgresql-connection_catalog`.silver.silver_hourly\")\n",
    "month_df = spark.table(\"`1team-postgresql-connection_catalog`.silver.silver_monthly\")\n",
    "week_df = spark.table(\"`1team-postgresql-connection_catalog`.silver.silver_weekday\")\n",
    "airline_df = spark.table(\"`1team-postgresql-connection_catalog`.silver.silver_airline\")\n",
    "flight_df = spark.table(\"`1team-postgresql-connection_catalog`.silver.silver_flight_info\")\n",
    "\n",
    "time_df.display()\n",
    "month_df.display()\n",
    "week_df.display()\n",
    "airline_df.display()\n",
    "flight_df.display()"
   ]
  },
  {
   "cell_type": "code",
   "execution_count": 0,
   "metadata": {
    "application/vnd.databricks.v1+cell": {
     "cellMetadata": {
      "byteLimit": 2048000,
      "rowLimit": 10000
     },
     "inputWidgets": {},
     "nuid": "016314f5-687f-4aaa-8d93-97953395cb2e",
     "showTitle": false,
     "tableResultSettingsMap": {},
     "title": ""
    }
   },
   "outputs": [],
   "source": [
    "# 2. 데이터 형식 변환 : 1 -> 01\n",
    "time_df = time_df.withColumn(\n",
    "    \"month\",\n",
    "    lpad(col(\"month\"), 2, \"0\")\n",
    ")\n",
    "month_df = month_df.withColumn(\n",
    "    \"month\",\n",
    "    lpad(col(\"month\"), 2, \"0\")\n",
    ")\n",
    "flight_df = flight_df.withColumn(\n",
    "    \"month\",\n",
    "    lpad(col(\"month\"), 2, \"0\")\n",
    ")\n",
    "\n",
    "time_df = time_df.withColumn(\n",
    "    \"day\",\n",
    "    lpad(col(\"day\"), 2, \"0\")\n",
    ")\n",
    "month_df = month_df.withColumn(\n",
    "    \"day\",\n",
    "    lpad(col(\"day\"), 2, \"0\")\n",
    ")\n",
    "flight_df = flight_df.withColumn(\n",
    "    \"day\",\n",
    "    lpad(col(\"day\"), 2, \"0\")\n",
    ")\n",
    "\n",
    "time_df.display()\n",
    "month_df.display()\n",
    "flight_df.display()"
   ]
  },
  {
   "cell_type": "code",
   "execution_count": 0,
   "metadata": {
    "application/vnd.databricks.v1+cell": {
     "cellMetadata": {
      "byteLimit": 2048000,
      "rowLimit": 10000
     },
     "inputWidgets": {},
     "nuid": "af5f139e-d6e6-4d56-a4c5-adf7232da0c5",
     "showTitle": false,
     "tableResultSettingsMap": {},
     "title": ""
    }
   },
   "outputs": [],
   "source": [
    "# 3. 데이터 형식 변환 : 한글, 숫자 -> 영어\n",
    "week_df = week_df.withColumn(\n",
    "    \"weekday\",\n",
    "    when(col(\"weekday\") == \"월요일\", \"Monday\")\n",
    "    .when(col(\"weekday\") == \"화요일\", \"Tuesday\")\n",
    "    .when(col(\"weekday\") == \"수요일\", \"Wednesday\")\n",
    "    .when(col(\"weekday\") == \"목요일\", \"Thursday\")\n",
    "    .when(col(\"weekday\") == \"금요일\", \"Friday\")\n",
    "    .when(col(\"weekday\") == \"토요일\", \"Saturday\")\n",
    "    .when(col(\"weekday\") == \"일요일\", \"Sunday\")\n",
    ")\n",
    "flight_df = flight_df.withColumn(\n",
    "    \"day_of_week\",\n",
    "    when(col(\"day_of_week\") == \"2\", \"Monday\")\n",
    "    .when(col(\"day_of_week\") == \"3\", \"Tuesday\")\n",
    "    .when(col(\"day_of_week\") == \"4\", \"Wednesday\")\n",
    "    .when(col(\"day_of_week\") == \"5\", \"Thursday\")\n",
    "    .when(col(\"day_of_week\") == \"6\", \"Friday\")\n",
    "    .when(col(\"day_of_week\") == \"7\", \"Saturday\")\n",
    "    .when(col(\"day_of_week\") == \"1\", \"Sunday\")\n",
    ")\n",
    "\n",
    "week_df.display()\n",
    "flight_df.display()"
   ]
  },
  {
   "cell_type": "code",
   "execution_count": 0,
   "metadata": {
    "application/vnd.databricks.v1+cell": {
     "cellMetadata": {
      "byteLimit": 2048000,
      "rowLimit": 10000
     },
     "inputWidgets": {},
     "nuid": "8f1757e8-7195-42b1-9265-4381a5dc4c00",
     "showTitle": false,
     "tableResultSettingsMap": {},
     "title": ""
    }
   },
   "outputs": [],
   "source": [
    "# 4. 데이터 변환 : 조기 출발 시 출발 시간을 계획 시각으로 변환\n",
    "flight_df = flight_df.withColumn(\n",
    "    \"departure_time\",\n",
    "    when(col(\"scheduled_time\") > col(\"departure_time\"), col(\"scheduled_time\"))\n",
    "    .otherwise(col(\"departure_time\"))\n",
    ")\n",
    "\n",
    "flight_df = flight_df.withColumn(\n",
    "    \"delayed_time\",\n",
    "    when(col(\"scheduled_time\") == col(\"departure_time\"), \"0\")\n",
    "    .otherwise(col(\"delayed_time\"))\n",
    ")\n",
    "\n",
    "flight_df.display()"
   ]
  },
  {
   "cell_type": "code",
   "execution_count": 0,
   "metadata": {
    "application/vnd.databricks.v1+cell": {
     "cellMetadata": {
      "byteLimit": 2048000,
      "rowLimit": 10000
     },
     "inputWidgets": {},
     "nuid": "6d83ae0e-3da3-4dff-ac15-5f5d88d88907",
     "showTitle": false,
     "tableResultSettingsMap": {},
     "title": ""
    }
   },
   "outputs": [],
   "source": [
    "# 5. 컬럼 추가 : 계획 시각, 출발 시각 열 추가\n",
    "flight_df = flight_df.withColumn(\"departure_hour\", F.substring(\"departure_time\", 1, 2))\n",
    "flight_df = flight_df.withColumn(\"scheduled_hour\", F.substring(\"scheduled_time\", 1, 2))\n",
    "\n",
    "flight_df.display()"
   ]
  },
  {
   "cell_type": "code",
   "execution_count": 0,
   "metadata": {
    "application/vnd.databricks.v1+cell": {
     "cellMetadata": {
      "byteLimit": 2048000,
      "rowLimit": 10000
     },
     "inputWidgets": {},
     "nuid": "39d2f20f-39ab-4248-a4dc-557a8ad5022b",
     "showTitle": false,
     "tableResultSettingsMap": {},
     "title": ""
    }
   },
   "outputs": [],
   "source": [
    "flight_df.count()"
   ]
  },
  {
   "cell_type": "code",
   "execution_count": 0,
   "metadata": {
    "application/vnd.databricks.v1+cell": {
     "cellMetadata": {
      "byteLimit": 2048000,
      "rowLimit": 10000
     },
     "inputWidgets": {},
     "nuid": "db6a631a-6367-4cd1-b710-4fec07de1926",
     "showTitle": false,
     "tableResultSettingsMap": {},
     "title": ""
    }
   },
   "outputs": [],
   "source": [
    "# 6. 날짜 생성\n",
    "month_year_pairs = month_df.select(\"year\", \"month\").distinct().collect()\n",
    "\n",
    "date_list = []\n",
    "for row in month_year_pairs:\n",
    "    y, m = int(row['year']), int(row['month'])\n",
    "    start_date = datetime(y, m, 1)\n",
    "    # 다음달 첫날 - 1일 = 말일\n",
    "    if m == 12:\n",
    "        end_date = datetime(y + 1, 1, 1) - timedelta(days=1)\n",
    "    else:\n",
    "        end_date = datetime(y, m + 1, 1) - timedelta(days=1)\n",
    "    \n",
    "    while start_date <= end_date:\n",
    "        date_list.append((y, f\"{m:02}\", start_date.strftime(\"%Y-%m-%d\"), start_date.strftime(\"%A\")))  # ISO date, 요일\n",
    "        start_date += timedelta(days=1)\n",
    "\n",
    "date_schema = StructType([\n",
    "    StructField(\"year\", StringType()),\n",
    "    StructField(\"month\", StringType()),\n",
    "    StructField(\"date\", StringType()),\n",
    "    StructField(\"weekday\", StringType())\n",
    "])\n",
    "\n",
    "date_df = spark.createDataFrame(date_list, schema=date_schema)\n",
    "\n",
    "date_df.display()"
   ]
  },
  {
   "cell_type": "code",
   "execution_count": 0,
   "metadata": {
    "application/vnd.databricks.v1+cell": {
     "cellMetadata": {
      "byteLimit": 2048000,
      "rowLimit": 10000
     },
     "inputWidgets": {},
     "nuid": "d45dfeb1-c5a0-4291-bc47-bcb37dc25749",
     "showTitle": false,
     "tableResultSettingsMap": {},
     "title": ""
    }
   },
   "outputs": [],
   "source": [
    "# 7. 시간대 정의 (0~23시 기준)\n",
    "hours = [(f\"{h:02}\",) for h in range(24)]\n",
    "hour_schema = StructType([StructField(\"hour\", StringType())])\n",
    "hour_df = spark.createDataFrame(hours, hour_schema)\n",
    "\n",
    "hour_df.display()"
   ]
  },
  {
   "cell_type": "code",
   "execution_count": 0,
   "metadata": {
    "application/vnd.databricks.v1+cell": {
     "cellMetadata": {
      "byteLimit": 2048000,
      "rowLimit": 10000
     },
     "inputWidgets": {},
     "nuid": "855710fd-0229-4f9f-9b40-4372b29f41bf",
     "showTitle": false,
     "tableResultSettingsMap": {
      "0": {
       "dataGridStateBlob": "{\"version\":1,\"tableState\":{\"columnPinning\":{\"left\":[\"#row_number#\"],\"right\":[]},\"columnSizing\":{\"airline\":164},\"columnVisibility\":{}},\"settings\":{\"columns\":{}},\"syncTimestamp\":1752457590569}",
       "filterBlob": null,
       "queryPlanFiltersBlob": null,
       "tableResultIndex": 0
      }
     },
     "title": ""
    }
   },
   "outputs": [],
   "source": [
    "# 8. 항공사 목록\n",
    "airline_list_df = airline_df.select(\"year\", \"month\", \"airline\").distinct()\n",
    "\n",
    "airline_list_df.display()"
   ]
  },
  {
   "cell_type": "code",
   "execution_count": 0,
   "metadata": {
    "application/vnd.databricks.v1+cell": {
     "cellMetadata": {
      "byteLimit": 2048000,
      "rowLimit": 10000
     },
     "inputWidgets": {},
     "nuid": "f593276a-026a-4346-a36b-848d48ce1891",
     "showTitle": false,
     "tableResultSettingsMap": {},
     "title": ""
    }
   },
   "outputs": [],
   "source": [
    "# 9. 누락된 항공사 처리\n",
    "missing_airlines = [\n",
    "    \"공군기\", \"아틀라스화물항공\", \"에어아시아 엑스\", \"투르크메니스탄 항공\", \"아메리젯인터내셔널\", \"사우디아라비아 항공\",\n",
    "    \"장쑤징동화물항공사\", \"실크웨이항공\", \"프랑스항공\", \"독일항공\", \"미얀마 항공\", \"유피에스화물항공\", \"폴라에어카고 월드와이드\",\n",
    "    \"상해항공\", \"기타\", \"타이거 에어 타이완(스마트캣)\", \"에어홍콩화물항공\", \"DHL\", \"화물기\", \"스리랑칸항공\", \"뱀부항공\",\n",
    "    \"천진에어라인\", \"사우디아라비아항공\", \"젯스타 에어웨이즈\", \"네덜란드항공\", \"옴니 에어 인터내셔널\", \"브루나이항공\",\n",
    "    \"페덱스화물항공\", \"카고룩스 이탈리아\", \"핀란드항공\", \"말린도항공\", \"기타타\", \"전일본공수 주식회사\", \"하이난항공\", \n",
    "    \"말레이시아항공\", \"웨스턴글로벌항공\", \"싱가폴항공\", \"에티오피안항공\", \"에어인디아\", \"어썸카고\", \"에어아스타나항공\",\n",
    "    \"한에어시스템즈\", \"카놋샤크항공\", \"내셔널 항공\", \"스쿠트타이거\", \"에어아시아버하드\", \"중국길상항공\", \"에어로케이항공(주)\",\n",
    "    \"천진항공화물\", \"대만구항공\", \"롱하오 항공\", \"마스에어\", \"순풍항공\"\n",
    "]\n",
    "\n",
    "ym_df = airline_list_df.select(\"year\", \"month\").distinct()\n",
    "\n",
    "# 누락된 항공사 목록 → DataFrame\n",
    "missing_airlines_df = spark.createDataFrame([(a,) for a in missing_airlines], [\"airline\"])\n",
    "\n",
    "# year, month 조합과 cross join\n",
    "manual_df = ym_df.crossJoin(missing_airlines_df)\n",
    "\n",
    "# 기존 airline_list_df와 합치기\n",
    "airline_list_df_fixed = airline_list_df.unionByName(manual_df).dropDuplicates([\"year\", \"month\", \"airline\"])"
   ]
  },
  {
   "cell_type": "code",
   "execution_count": 0,
   "metadata": {
    "application/vnd.databricks.v1+cell": {
     "cellMetadata": {
      "byteLimit": 2048000,
      "rowLimit": 10000
     },
     "inputWidgets": {},
     "nuid": "f244166b-ef40-4ff6-a876-f173bc76a034",
     "showTitle": false,
     "tableResultSettingsMap": {
      "0": {
       "dataGridStateBlob": "{\"version\":1,\"tableState\":{\"columnPinning\":{\"left\":[\"#row_number#\"],\"right\":[]},\"columnSizing\":{},\"columnVisibility\":{}},\"settings\":{\"columns\":{}},\"syncTimestamp\":1752406831064}",
       "filterBlob": null,
       "queryPlanFiltersBlob": null,
       "tableResultIndex": 0
      }
     },
     "title": ""
    }
   },
   "outputs": [],
   "source": [
    "# 10. 모든 조합 만들기\n",
    "base_df = (\n",
    "    date_df\n",
    "    .join(hour_df, on=[], how=\"cross\")\n",
    "    .join(airline_list_df_fixed, on=['year', 'month'], how=\"cross\")\n",
    ")\n",
    "base_df = base_df.withColumnRenamed(\"hour\", \"scheduled_hour\")\n",
    "\n",
    "base_df.display()"
   ]
  },
  {
   "cell_type": "code",
   "execution_count": 0,
   "metadata": {
    "application/vnd.databricks.v1+cell": {
     "cellMetadata": {
      "byteLimit": 2048000,
      "rowLimit": 10000
     },
     "inputWidgets": {},
     "nuid": "abdf29af-2749-45fa-bfc0-80f1ca2112ee",
     "showTitle": false,
     "tableResultSettingsMap": {},
     "title": ""
    }
   },
   "outputs": [],
   "source": [
    "base_df.count()"
   ]
  },
  {
   "cell_type": "code",
   "execution_count": 0,
   "metadata": {
    "application/vnd.databricks.v1+cell": {
     "cellMetadata": {
      "byteLimit": 2048000,
      "rowLimit": 10000
     },
     "inputWidgets": {},
     "nuid": "a5d001b2-91fe-496c-87a5-d4dd6140f36e",
     "showTitle": false,
     "tableResultSettingsMap": {
      "0": {
       "dataGridStateBlob": "{\"version\":1,\"tableState\":{\"columnPinning\":{\"left\":[\"#row_number#\"],\"right\":[]},\"columnSizing\":{},\"columnVisibility\":{}},\"settings\":{\"columns\":{}},\"syncTimestamp\":1752401931858}",
       "filterBlob": null,
       "queryPlanFiltersBlob": null,
       "tableResultIndex": 0
      }
     },
     "title": ""
    }
   },
   "outputs": [],
   "source": [
    "# 11. 월별 데이터 조인\n",
    "base_df = base_df.join(broadcast(month_df.select(\"year\", \"month\", \"flight_arrival\", \"flight_departure\", \"flight_total\", \"passenger_arrival\", \"passenger_departure\", \"passenger_total\", \"cargo_arrival\", \"cargo_departure\", \"cargo_total\")),\n",
    "                        on=[\"year\", \"month\"], how=\"left\")\n",
    "\n",
    "base_df.display()"
   ]
  },
  {
   "cell_type": "code",
   "execution_count": 0,
   "metadata": {
    "application/vnd.databricks.v1+cell": {
     "cellMetadata": {
      "byteLimit": 2048000,
      "rowLimit": 10000
     },
     "inputWidgets": {},
     "nuid": "59e2eb4c-e820-498c-a762-edd172c19c22",
     "showTitle": false,
     "tableResultSettingsMap": {},
     "title": ""
    }
   },
   "outputs": [],
   "source": [
    "base_df.count()"
   ]
  },
  {
   "cell_type": "code",
   "execution_count": 0,
   "metadata": {
    "application/vnd.databricks.v1+cell": {
     "cellMetadata": {
      "byteLimit": 2048000,
      "rowLimit": 10000
     },
     "inputWidgets": {},
     "nuid": "47aec28d-7b5e-490e-80ed-c32d6f53f489",
     "showTitle": false,
     "tableResultSettingsMap": {},
     "title": ""
    }
   },
   "outputs": [],
   "source": [
    "# 12. 시간대 비율 계산\n",
    "# (1) 월별 총합을 기준으로 각 시간대별 비율 계산\n",
    "time_total_df = (\n",
    "    time_df.groupBy(\"year\", \"month\")\n",
    "    .agg(_sum(\"flight_arrival\").alias(\"time_flight_arrival_sum\"),\n",
    "         _sum(\"flight_departure\").alias(\"time_flight_departure_sum\"),\n",
    "         _sum(\"flight_total\").alias(\"time_flight_total_sum\"),\n",
    "         _sum(\"passenger_arrival\").alias(\"time_passenger_arrival_sum\"),\n",
    "         _sum(\"passenger_departure\").alias(\"time_passenger_departure_sum\"),\n",
    "         _sum(\"passenger_total\").alias(\"time_passenger_total_sum\"),\n",
    "         _sum(\"cargo_arrival\").alias(\"time_cargo_arrival_sum\"),\n",
    "         _sum(\"cargo_departure\").alias(\"time_cargo_departure_sum\"),\n",
    "         _sum(\"cargo_total\").alias(\"time_cargo_total_sum\"))\n",
    ")\n",
    "\n",
    "time_total_df.display()"
   ]
  },
  {
   "cell_type": "code",
   "execution_count": 0,
   "metadata": {
    "application/vnd.databricks.v1+cell": {
     "cellMetadata": {
      "byteLimit": 2048000,
      "rowLimit": 10000
     },
     "inputWidgets": {},
     "nuid": "f92c0e2d-33b8-4ff8-a72f-c1826584b4b9",
     "showTitle": false,
     "tableResultSettingsMap": {},
     "title": ""
    }
   },
   "outputs": [],
   "source": [
    "# (2) 시간대별 데이터에 총합 조인 후 비율 계산\n",
    "time_ratio_df = (\n",
    "    time_df\n",
    "    .join(time_total_df, on=[\"year\", \"month\"])\n",
    "    .withColumn(\"time_ratio_flight_arrival\", col(\"flight_arrival\") / col(\"time_flight_arrival_sum\"))\n",
    "    .withColumn(\"time_ratio_flight_departure\", col(\"flight_departure\") / col(\"time_flight_departure_sum\"))\n",
    "    .withColumn(\"time_ratio_flight_total\", col(\"flight_total\") / col(\"time_flight_total_sum\"))\n",
    "    .withColumn(\"time_ratio_passenger_arrival\", col(\"passenger_arrival\") / col(\"time_passenger_arrival_sum\"))\n",
    "    .withColumn(\"time_ratio_passenger_departure\", col(\"passenger_departure\") / col(\"time_passenger_departure_sum\"))\n",
    "    .withColumn(\"time_ratio_passenger_total\", col(\"passenger_total\") / col(\"time_passenger_total_sum\"))\n",
    "    .withColumn(\"time_ratio_cargo_arrival\", col(\"cargo_arrival\") / col(\"time_cargo_arrival_sum\"))\n",
    "    .withColumn(\"time_ratio_cargo_departure\", col(\"cargo_departure\") / col(\"time_cargo_departure_sum\"))\n",
    "    .withColumn(\"time_ratio_cargo_total\", col(\"cargo_total\") / col(\"time_cargo_total_sum\"))\n",
    "    .select(\"year\", \"month\", col(\"hour_of_day\").alias(\"scheduled_hour\"),\n",
    "            \"time_ratio_flight_arrival\", \"time_ratio_flight_departure\", \"time_ratio_flight_total\", \"time_ratio_passenger_arrival\", \"time_ratio_passenger_departure\", \"time_ratio_passenger_total\", \"time_ratio_cargo_arrival\", \"time_ratio_cargo_departure\", \"time_ratio_cargo_total\")\n",
    ")\n",
    "\n",
    "time_ratio_df.display()"
   ]
  },
  {
   "cell_type": "code",
   "execution_count": 0,
   "metadata": {
    "application/vnd.databricks.v1+cell": {
     "cellMetadata": {
      "byteLimit": 2048000,
      "rowLimit": 10000
     },
     "inputWidgets": {},
     "nuid": "b7473c04-fd76-4146-8b59-e02934a09222",
     "showTitle": false,
     "tableResultSettingsMap": {},
     "title": ""
    }
   },
   "outputs": [],
   "source": [
    "# 13. 요일별 비율 계산\n",
    "weekday_total_df = (\n",
    "    week_df.groupBy(\"year\", \"month\")\n",
    "    .agg(_sum(\"flight_arrivals\").alias(\"w_flight_arrival_sum\"),\n",
    "         _sum(\"flight_departures\").alias(\"w_flight_departure_sum\"),\n",
    "         _sum(\"flight_total\").alias(\"w_flight_total_sum\"),\n",
    "         _sum(\"passenger_arrivals\").alias(\"w_passenger_arrival_sum\"),\n",
    "         _sum(\"passenger_departures\").alias(\"w_passenger_departure_sum\"),\n",
    "         _sum(\"passenger_total\").alias(\"w_passenger_total_sum\"),\n",
    "         _sum(\"cargo_arrivals\").alias(\"w_cargo_arrival_sum\"),\n",
    "         _sum(\"cargo_departures\").alias(\"w_cargo_departure_sum\"),\n",
    "         _sum(\"cargo_total\").alias(\"w_cargo_total_sum\"))\n",
    ")\n",
    "\n",
    "weekday_total_df.display()"
   ]
  },
  {
   "cell_type": "code",
   "execution_count": 0,
   "metadata": {
    "application/vnd.databricks.v1+cell": {
     "cellMetadata": {
      "byteLimit": 2048000,
      "rowLimit": 10000
     },
     "inputWidgets": {},
     "nuid": "18d021a0-0442-416e-99f8-a840319c8b21",
     "showTitle": false,
     "tableResultSettingsMap": {},
     "title": ""
    }
   },
   "outputs": [],
   "source": [
    "weekday_ratio_df = (\n",
    "    week_df\n",
    "    .join(weekday_total_df, on=[\"year\", \"month\"])\n",
    "    .withColumn(\"weekday_ratio_flight_arrival\", col(\"flight_arrivals\") / col(\"w_flight_arrival_sum\"))\n",
    "    .withColumn(\"weekday_ratio_flight_departure\", col(\"flight_departures\") / col(\"w_flight_departure_sum\"))\n",
    "    .withColumn(\"weekday_ratio_flight_total\", col(\"flight_total\") / col(\"w_flight_total_sum\"))\n",
    "    .withColumn(\"weekday_ratio_passenger_arrival\", col(\"passenger_arrivals\") / col(\"w_passenger_arrival_sum\"))\n",
    "    .withColumn(\"weekday_ratio_passenger_departure\", col(\"passenger_departures\") / col(\"w_passenger_departure_sum\"))\n",
    "    .withColumn(\"weekday_ratio_passenger_total\", col(\"passenger_total\") / col(\"w_passenger_total_sum\"))\n",
    "    .withColumn(\"weekday_ratio_cargo_arrival\", col(\"cargo_arrivals\") / col(\"w_cargo_arrival_sum\"))\n",
    "    .withColumn(\"weekday_ratio_cargo_departure\", col(\"cargo_departures\") / col(\"w_cargo_departure_sum\"))\n",
    "    .withColumn(\"weekday_ratio_cargo_total\", col(\"cargo_total\") / col(\"w_cargo_total_sum\"))\n",
    "    .select(\"year\", \"month\", \"weekday\",\n",
    "            \"weekday_ratio_flight_arrival\", \"weekday_ratio_flight_departure\", \"weekday_ratio_flight_total\", \"weekday_ratio_passenger_arrival\", \"weekday_ratio_passenger_departure\", \"weekday_ratio_passenger_total\", \"weekday_ratio_cargo_arrival\", \"weekday_ratio_cargo_departure\", \"weekday_ratio_cargo_total\")\n",
    ")\n",
    "\n",
    "weekday_ratio_df.display()"
   ]
  },
  {
   "cell_type": "code",
   "execution_count": 0,
   "metadata": {
    "application/vnd.databricks.v1+cell": {
     "cellMetadata": {
      "byteLimit": 2048000,
      "rowLimit": 10000
     },
     "inputWidgets": {},
     "nuid": "c004a38c-2ec9-40fe-a334-617f1f1e516c",
     "showTitle": false,
     "tableResultSettingsMap": {},
     "title": ""
    }
   },
   "outputs": [],
   "source": [
    "# 14. 항공사별 비율 계산\n",
    "airline_total_df = (\n",
    "    airline_df.groupBy(\"year\", \"month\")\n",
    "    .agg(_sum(\"flight_arrivals\").alias(\"a_flight_arrival_sum\"),\n",
    "         _sum(\"flight_departures\").alias(\"a_flight_departure_sum\"),\n",
    "         _sum(\"flight_total\").alias(\"a_flight_total_sum\"),\n",
    "         _sum(\"passenger_arrivals\").alias(\"a_passenger_arrival_sum\"),\n",
    "         _sum(\"passenger_departures\").alias(\"a_passenger_departure_sum\"),\n",
    "         _sum(\"passenger_total\").alias(\"a_passenger_total_sum\"),\n",
    "         _sum(\"cargo_arrivals\").alias(\"a_cargo_arrival_sum\"),\n",
    "         _sum(\"cargo_departures\").alias(\"a_cargo_departure_sum\"),\n",
    "         _sum(\"cargo_total\").alias(\"a_cargo_total_sum\"))\n",
    ")\n",
    "\n",
    "airline_total_df.display()"
   ]
  },
  {
   "cell_type": "code",
   "execution_count": 0,
   "metadata": {
    "application/vnd.databricks.v1+cell": {
     "cellMetadata": {
      "byteLimit": 2048000,
      "rowLimit": 10000
     },
     "inputWidgets": {},
     "nuid": "06c713ec-c242-4ee2-8cb1-273f3a226f01",
     "showTitle": false,
     "tableResultSettingsMap": {},
     "title": ""
    }
   },
   "outputs": [],
   "source": [
    "airline_ratio_df = (\n",
    "    airline_df\n",
    "    .join(airline_total_df, on=[\"year\", \"month\"])\n",
    "    .withColumn(\"airline_ratio_flight_arrival\", col(\"flight_arrivals\") / col(\"a_flight_arrival_sum\"))\n",
    "    .withColumn(\"airline_ratio_flight_departure\", col(\"flight_departures\") / col(\"a_flight_departure_sum\"))\n",
    "    .withColumn(\"airline_ratio_flight_total\", col(\"flight_total\") / col(\"a_flight_total_sum\"))\n",
    "    .withColumn(\"airline_ratio_passenger_arrival\", col(\"passenger_arrivals\") / col(\"a_passenger_arrival_sum\"))\n",
    "    .withColumn(\"airline_ratio_passenger_departure\", col(\"passenger_departures\") / col(\"a_passenger_departure_sum\"))\n",
    "    .withColumn(\"airline_ratio_passenger_total\", col(\"passenger_total\") / col(\"a_passenger_total_sum\"))\n",
    "    .withColumn(\"airline_ratio_cargo_arrival\", col(\"cargo_arrivals\") / col(\"a_cargo_arrival_sum\"))\n",
    "    .withColumn(\"airline_ratio_cargo_departure\", col(\"cargo_departures\") / col(\"a_cargo_departure_sum\"))\n",
    "    .withColumn(\"airline_ratio_cargo_total\", col(\"cargo_total\") / col(\"a_cargo_total_sum\"))\n",
    "    .select(\"year\", \"month\", \"airline\",\n",
    "            \"airline_ratio_flight_arrival\", \"airline_ratio_flight_departure\", \"airline_ratio_flight_total\", \"airline_ratio_passenger_arrival\", \"airline_ratio_passenger_departure\", \"airline_ratio_passenger_total\", \"airline_ratio_cargo_arrival\", \"airline_ratio_cargo_departure\", \"airline_ratio_cargo_total\")\n",
    ")\n",
    "\n",
    "airline_ratio_df.display()"
   ]
  },
  {
   "cell_type": "code",
   "execution_count": 0,
   "metadata": {
    "application/vnd.databricks.v1+cell": {
     "cellMetadata": {
      "byteLimit": 2048000,
      "rowLimit": 10000
     },
     "inputWidgets": {},
     "nuid": "f8b48cb6-83f4-49ed-a3cf-050d31484667",
     "showTitle": false,
     "tableResultSettingsMap": {
      "0": {
       "dataGridStateBlob": "{\"version\":1,\"tableState\":{\"columnPinning\":{\"left\":[\"#row_number#\"],\"right\":[]},\"columnSizing\":{},\"columnVisibility\":{}},\"settings\":{\"columns\":{}},\"syncTimestamp\":1752401957701}",
       "filterBlob": null,
       "queryPlanFiltersBlob": null,
       "tableResultIndex": 0
      }
     },
     "title": ""
    }
   },
   "outputs": [],
   "source": [
    "# 15. 모든 비율 조인\n",
    "result_df = (\n",
    "    base_df\n",
    "    .join(time_ratio_df, on=[\"year\", \"month\", \"scheduled_hour\"], how=\"left\")\n",
    "    .join(weekday_ratio_df, on=[\"year\", \"month\", \"weekday\"], how=\"left\")\n",
    "    .join(airline_ratio_df, on=[\"year\", \"month\", \"airline\"], how=\"left\")\n",
    ")\n",
    "\n",
    "result_df.display()"
   ]
  },
  {
   "cell_type": "code",
   "execution_count": 0,
   "metadata": {
    "application/vnd.databricks.v1+cell": {
     "cellMetadata": {
      "byteLimit": 2048000,
      "rowLimit": 10000
     },
     "inputWidgets": {},
     "nuid": "31ba0024-0247-4169-b406-50d1c5510a27",
     "showTitle": false,
     "tableResultSettingsMap": {},
     "title": ""
    }
   },
   "outputs": [],
   "source": [
    "result_df.count()"
   ]
  },
  {
   "cell_type": "code",
   "execution_count": 0,
   "metadata": {
    "application/vnd.databricks.v1+cell": {
     "cellMetadata": {
      "byteLimit": 2048000,
      "rowLimit": 10000
     },
     "inputWidgets": {},
     "nuid": "ae0bc26c-12a3-413a-9198-ddc3c90719b2",
     "showTitle": false,
     "tableResultSettingsMap": {
      "0": {
       "dataGridStateBlob": "{\"version\":1,\"tableState\":{\"columnPinning\":{\"left\":[\"#row_number#\"],\"right\":[]},\"columnSizing\":{},\"columnVisibility\":{}},\"settings\":{\"columns\":{}},\"syncTimestamp\":1752395638129}",
       "filterBlob": null,
       "queryPlanFiltersBlob": null,
       "tableResultIndex": 0
      }
     },
     "title": ""
    }
   },
   "outputs": [],
   "source": [
    "# 16. 추정치 계산 (각 총합 × 비율 × 비율 × 비율)\n",
    "result_df = (result_df\n",
    "             .withColumn(\"estimated_flight_arrival\", col(\"flight_arrival\") * col(\"time_ratio_flight_arrival\") * col(\"weekday_ratio_flight_arrival\") * col(\"airline_ratio_flight_arrival\"))\n",
    "             .withColumn(\"estimated_flight_departure\", col(\"flight_departure\") * col(\"time_ratio_flight_departure\") * col(\"weekday_ratio_flight_departure\") * col(\"airline_ratio_flight_departure\"))\n",
    "             .withColumn(\"estimated_flight_total\", col(\"flight_total\") * col(\"time_ratio_flight_total\") * col(\"weekday_ratio_flight_total\") * col(\"airline_ratio_flight_total\"))\n",
    "             .withColumn(\"estimated_passenger_arrival\", col(\"passenger_arrival\") * col(\"time_ratio_passenger_arrival\") * col(\"weekday_ratio_passenger_arrival\") * col(\"airline_ratio_passenger_arrival\"))\n",
    "             .withColumn(\"estimated_passenger_departure\", col(\"passenger_departure\") * col(\"time_ratio_passenger_departure\") * col(\"weekday_ratio_passenger_departure\") * col(\"airline_ratio_passenger_departure\"))\n",
    "             .withColumn(\"estimated_passenger_total\", col(\"passenger_total\") * col(\"time_ratio_passenger_total\") * col(\"weekday_ratio_passenger_total\") * col(\"airline_ratio_passenger_total\"))\n",
    "             .withColumn(\"estimated_cargo_arrival\", col(\"cargo_arrival\") * col(\"time_ratio_cargo_arrival\") * col(\"weekday_ratio_cargo_arrival\") * col(\"airline_ratio_cargo_arrival\"))\n",
    "             .withColumn(\"estimated_cargo_departure\", col(\"cargo_departure\") * col(\"time_ratio_cargo_departure\") * col(\"weekday_ratio_cargo_departure\") * col(\"airline_ratio_cargo_departure\"))\n",
    "             .withColumn(\"estimated_cargo_total\", col(\"cargo_total\") * col(\"time_ratio_cargo_total\") * col(\"weekday_ratio_cargo_total\") * col(\"airline_ratio_cargo_total\"))\n",
    "             .withColumn(\"day\", F.substring(col(\"date\"), 9, 2))\n",
    "             )\n",
    "\n",
    "result_df.display()"
   ]
  },
  {
   "cell_type": "code",
   "execution_count": 0,
   "metadata": {
    "application/vnd.databricks.v1+cell": {
     "cellMetadata": {
      "byteLimit": 2048000,
      "rowLimit": 10000
     },
     "inputWidgets": {},
     "nuid": "e2c1a508-66a4-4714-a273-50dcfc60be3a",
     "showTitle": false,
     "tableResultSettingsMap": {},
     "title": ""
    }
   },
   "outputs": [],
   "source": [
    "result_df.count()"
   ]
  },
  {
   "cell_type": "code",
   "execution_count": 0,
   "metadata": {
    "application/vnd.databricks.v1+cell": {
     "cellMetadata": {
      "byteLimit": 2048000,
      "rowLimit": 10000
     },
     "inputWidgets": {},
     "nuid": "982e83ec-9215-46fc-84c3-aaae8eaaa619",
     "showTitle": false,
     "tableResultSettingsMap": {
      "0": {
       "dataGridStateBlob": "{\"version\":1,\"tableState\":{\"columnPinning\":{\"left\":[\"#row_number#\"],\"right\":[]},\"columnSizing\":{\"airline\":139},\"columnVisibility\":{}},\"settings\":{\"columns\":{}},\"syncTimestamp\":1752406827533}",
       "filterBlob": null,
       "queryPlanFiltersBlob": null,
       "tableResultIndex": 0
      }
     },
     "title": ""
    }
   },
   "outputs": [],
   "source": [
    "# 17. 실제 비행 데이터와 조인\n",
    "flight_df2 = flight_df.drop('date')\n",
    "result_df2 = (\n",
    "    flight_df2\n",
    "    .join(result_df, on=[\"year\", \"month\", \"day\", \"scheduled_hour\", \"airline\"], how=\"left\")\n",
    ")\n",
    "\n",
    "result_df2.display()"
   ]
  },
  {
   "cell_type": "code",
   "execution_count": 0,
   "metadata": {
    "application/vnd.databricks.v1+cell": {
     "cellMetadata": {
      "byteLimit": 2048000,
      "rowLimit": 10000
     },
     "inputWidgets": {},
     "nuid": "b0ea8e4f-3483-4b90-b655-e253055dde21",
     "showTitle": false,
     "tableResultSettingsMap": {},
     "title": ""
    }
   },
   "outputs": [],
   "source": [
    "# 18. 월별 추정치 합계 구하기\n",
    "monthly_estimate_sum_df = result_df2.groupBy(\"year\", \"month\").agg(\n",
    "    _sum(\"estimated_flight_arrival\").alias(\"sum_est_flight_arrival\"),\n",
    "    _sum(\"estimated_flight_departure\").alias(\"sum_est_flight_departure\"),\n",
    "    _sum(\"estimated_flight_total\").alias(\"sum_est_flight_total\"),\n",
    "    _sum(\"estimated_passenger_arrival\").alias(\"sum_est_passenger_arrival\"),\n",
    "    _sum(\"estimated_passenger_departure\").alias(\"sum_est_passenger_departure\"),\n",
    "    _sum(\"estimated_passenger_total\").alias(\"sum_est_passenger_total\"),\n",
    "    _sum(\"estimated_cargo_arrival\").alias(\"sum_est_cargo_arrival\"),\n",
    "    _sum(\"estimated_cargo_departure\").alias(\"sum_est_cargo_departure\"),\n",
    "    _sum(\"estimated_cargo_total\").alias(\"sum_est_cargo_total\"),\n",
    ")\n",
    "\n",
    "monthly_estimate_sum_df.display()"
   ]
  },
  {
   "cell_type": "code",
   "execution_count": 0,
   "metadata": {
    "application/vnd.databricks.v1+cell": {
     "cellMetadata": {
      "byteLimit": 2048000,
      "rowLimit": 10000
     },
     "inputWidgets": {},
     "nuid": "e18bde47-78b8-4aad-9595-fcfde7bb7075",
     "showTitle": false,
     "tableResultSettingsMap": {},
     "title": ""
    }
   },
   "outputs": [],
   "source": [
    "# 19. 월별 보정 계수 계산\n",
    "scaling_df = (\n",
    "    monthly_estimate_sum_df\n",
    "    .join(month_df.select(\"year\", \"month\", \"flight_arrival\", \"flight_departure\", \"flight_total\", \"passenger_arrival\", \"passenger_departure\", \"passenger_total\", \"cargo_arrival\", \"cargo_departure\", \"cargo_total\"),\n",
    "          on=[\"year\", \"month\"])\n",
    "    .withColumn(\"scale_flight_arrival\", col(\"flight_arrival\") / col(\"sum_est_flight_arrival\"))\n",
    "    .withColumn(\"scale_flight_departure\", col(\"flight_departure\") / col(\"sum_est_flight_departure\"))\n",
    "    .withColumn(\"scale_flight_total\", col(\"flight_total\") / col(\"sum_est_flight_total\"))\n",
    "    .withColumn(\"scale_passenger_arrival\", col(\"passenger_arrival\") / col(\"sum_est_passenger_arrival\"))\n",
    "    .withColumn(\"scale_passenger_departure\", col(\"passenger_departure\") / col(\"sum_est_passenger_departure\"))\n",
    "    .withColumn(\"scale_passenger_total\", col(\"passenger_total\") / col(\"sum_est_passenger_total\"))\n",
    "    .withColumn(\"scale_cargo_arrival\", col(\"cargo_arrival\") / col(\"sum_est_cargo_arrival\"))\n",
    "    .withColumn(\"scale_cargo_departure\", col(\"cargo_departure\") / col(\"sum_est_cargo_departure\"))\n",
    "    .withColumn(\"scale_cargo_total\", col(\"cargo_total\") / col(\"sum_est_cargo_total\"))\n",
    "    .select(\"year\", \"month\", \"scale_flight_arrival\", \"scale_flight_departure\", \"scale_flight_total\", \"scale_passenger_arrival\", \"scale_passenger_departure\", \"scale_passenger_total\", \"scale_cargo_arrival\", \"scale_cargo_departure\", \"scale_cargo_total\")\n",
    ")\n",
    "\n",
    "scaling_df.display()"
   ]
  },
  {
   "cell_type": "code",
   "execution_count": 0,
   "metadata": {
    "application/vnd.databricks.v1+cell": {
     "cellMetadata": {
      "byteLimit": 2048000,
      "rowLimit": 10000
     },
     "inputWidgets": {},
     "nuid": "51e76677-9b25-43b0-b2c1-866653ceb969",
     "showTitle": false,
     "tableResultSettingsMap": {},
     "title": ""
    }
   },
   "outputs": [],
   "source": [
    "# 20. 최종 추정치 구하기\n",
    "final_df = (\n",
    "    result_df2\n",
    "    .join(scaling_df, on=[\"year\", \"month\"], how=\"inner\")\n",
    "    .withColumn(\"final_estimated_flight_arrival\", col(\"estimated_flight_arrival\") * col(\"scale_flight_arrival\"))\n",
    "    .withColumn(\"final_estimated_flight_departure\", col(\"estimated_flight_departure\") * col(\"scale_flight_departure\"))\n",
    "    .withColumn(\"final_estimated_flight_total\", col(\"estimated_flight_total\") * col(\"scale_flight_total\"))\n",
    "    .withColumn(\"final_estimated_passenger_arrival\", col(\"estimated_passenger_arrival\") * col(\"scale_passenger_arrival\"))\n",
    "    .withColumn(\"final_estimated_passenger_departure\", col(\"estimated_passenger_departure\") * col(\"scale_passenger_departure\"))\n",
    "    .withColumn(\"final_estimated_passenger_total\", col(\"estimated_passenger_total\") * col(\"scale_passenger_total\"))\n",
    "    .withColumn(\"final_estimated_cargo_arrival\", col(\"estimated_cargo_arrival\") * col(\"scale_cargo_arrival\"))\n",
    "    .withColumn(\"final_estimated_cargo_departure\", col(\"estimated_cargo_departure\") * col(\"scale_cargo_departure\"))\n",
    "    .withColumn(\"final_estimated_cargo_total\", col(\"estimated_cargo_total\") * col(\"scale_cargo_total\"))\n",
    ")\n",
    "\n",
    "final_df.display()"
   ]
  },
  {
   "cell_type": "code",
   "execution_count": 0,
   "metadata": {
    "application/vnd.databricks.v1+cell": {
     "cellMetadata": {
      "byteLimit": 2048000,
      "rowLimit": 10000
     },
     "collapsed": true,
     "inputWidgets": {},
     "nuid": "2db66dc8-f6b4-4ac3-bfdf-354ca71645ee",
     "showTitle": false,
     "tableResultSettingsMap": {},
     "title": ""
    }
   },
   "outputs": [],
   "source": [
    "final_df.count()"
   ]
  },
  {
   "cell_type": "code",
   "execution_count": 0,
   "metadata": {
    "application/vnd.databricks.v1+cell": {
     "cellMetadata": {
      "byteLimit": 2048000,
      "rowLimit": 10000
     },
     "inputWidgets": {},
     "nuid": "00e3fdb3-5988-4ebd-8afb-aaa5f646e325",
     "showTitle": false,
     "tableResultSettingsMap": {
      "0": {
       "dataGridStateBlob": "{\"version\":1,\"tableState\":{\"columnPinning\":{\"left\":[\"#row_number#\"],\"right\":[]},\"columnSizing\":{},\"columnVisibility\":{}},\"settings\":{\"columns\":{}},\"syncTimestamp\":1752405721963}",
       "filterBlob": null,
       "queryPlanFiltersBlob": null,
       "tableResultIndex": 0
      }
     },
     "title": ""
    }
   },
   "outputs": [],
   "source": [
    "# 21. 소수점 반올림 및 컬럼 처리\n",
    "final_df2 = (final_df\n",
    "            .withColumn(\"final_estimated_flight_arrival\", round(final_df.final_estimated_flight_arrival, 2))\n",
    "            .withColumn(\"final_estimated_flight_departure\", round(final_df.final_estimated_flight_departure, 2))\n",
    "            .withColumn(\"final_estimated_flight_total\", round(final_df.final_estimated_flight_total, 2))\n",
    "            .withColumn(\"final_estimated_passenger_arrival\", round(final_df.final_estimated_passenger_arrival, 2))\n",
    "            .withColumn(\"final_estimated_passenger_departure\", round(final_df.final_estimated_passenger_departure, 2))\n",
    "            .withColumn(\"final_estimated_passenger_total\", round(final_df.final_estimated_passenger_total, 2))\n",
    "            .withColumn(\"final_estimated_cargo_arrival\", round(final_df.final_estimated_cargo_arrival, 2))\n",
    "            .withColumn(\"final_estimated_cargo_departure\", round(final_df.final_estimated_cargo_departure, 2))\n",
    "            .withColumn(\"final_estimated_cargo_total\", round(final_df.final_estimated_cargo_total, 2))\n",
    "            )\n",
    "final_df2 = final_df2.drop('flight_arrival', 'flight_departure', 'flight_total', 'passenger_arrival', 'passenger_departure', 'passenger_total', 'cargo_arrival', 'cargo_departure', 'cargo_total', 'time_ratio_flight_arrival', 'time_ratio_flight_departure', 'time_ratio_flight_total', 'time_ratio_passenger_arrival', 'time_ratio_passenger_departure', 'time_ratio_passenger_total', 'time_ratio_cargo_arrival', 'time_ratio_cargo_departure', 'time_ratio_cargo_total', 'weekday_ratio_flight_arrival', 'weekday_ratio_flight_departure', 'weekday_ratio_flight_total', 'weekday_ratio_passenger_arrival', 'weekday_ratio_passenger_departure', 'weekday_ratio_passenger_total', 'weekday_ratio_cargo_arrival', 'weekday_ratio_cargo_departure', 'weekday_ratio_cargo_total', 'airline_ratio_flight_arrival', 'airline_ratio_flight_departure', 'airline_ratio_flight_total', 'airline_ratio_passenger_arrival', 'airline_ratio_passenger_departure', 'airline_ratio_passenger_total', 'airline_ratio_cargo_arrival', 'airline_ratio_cargo_departure', 'airline_ratio_cargo_total','estimated_flight_arrival', 'estimated_flight_departure', 'estimated_flight_total', 'estimated_passenger_arrival', 'estimated_passenger_departure', 'estimated_passenger_total', 'estimated_cargo_arrival', 'estimated_cargo_departure', 'estimated_cargo_total', 'scale_flight_arrival', 'scale_flight_departure', 'scale_flight_total', 'scale_passenger_arrival', 'scale_passenger_departure', 'scale_passenger_total', 'scale_cargo_arrival', 'scale_cargo_departure', 'scale_cargo_total')\n",
    "\n",
    "final_df2.display()"
   ]
  },
  {
   "cell_type": "code",
   "execution_count": 0,
   "metadata": {
    "application/vnd.databricks.v1+cell": {
     "cellMetadata": {
      "byteLimit": 2048000,
      "rowLimit": 10000
     },
     "inputWidgets": {},
     "nuid": "0dd655ae-dfa1-43c9-ad4e-db84647e56ea",
     "showTitle": false,
     "tableResultSettingsMap": {},
     "title": ""
    }
   },
   "outputs": [],
   "source": [
    "final_df2.count()"
   ]
  },
  {
   "cell_type": "code",
   "execution_count": 0,
   "metadata": {
    "application/vnd.databricks.v1+cell": {
     "cellMetadata": {
      "byteLimit": 2048000,
      "rowLimit": 10000
     },
     "inputWidgets": {},
     "nuid": "660eee5a-0426-4be7-935e-402e0153d99e",
     "showTitle": false,
     "tableResultSettingsMap": {},
     "title": ""
    }
   },
   "outputs": [],
   "source": [
    "flight_keys = (flight_df2\n",
    "    .select(\"year\", \"month\", \"day\", \"scheduled_hour\", \"airline\")\n",
    "    .distinct()\n",
    ")\n",
    "\n",
    "final_keys = (result_df\n",
    "    .select(\"year\", \"month\", \"day\", \"scheduled_hour\", \"airline\")\n",
    "    .distinct()\n",
    ")\n",
    "\n",
    "missing_keys = flight_keys.subtract(final_keys)\n",
    "missing_keys.cache().count()\n",
    "missing_keys.display()"
   ]
  },
  {
   "cell_type": "code",
   "execution_count": 0,
   "metadata": {
    "application/vnd.databricks.v1+cell": {
     "cellMetadata": {
      "byteLimit": 2048000,
      "rowLimit": 10000
     },
     "inputWidgets": {},
     "nuid": "ce35216c-1902-4ed6-9d9f-0432e016e64e",
     "showTitle": false,
     "tableResultSettingsMap": {},
     "title": ""
    }
   },
   "outputs": [],
   "source": [
    "missing_keys.select(\"airline\").distinct().exceptAll(final_keys.select(\"airline\").distinct()).display()"
   ]
  },
  {
   "cell_type": "code",
   "execution_count": 0,
   "metadata": {
    "application/vnd.databricks.v1+cell": {
     "cellMetadata": {
      "byteLimit": 2048000,
      "rowLimit": 10000
     },
     "inputWidgets": {},
     "nuid": "bbbcaca4-5558-475b-8b01-4daa157af8b3",
     "showTitle": false,
     "tableResultSettingsMap": {},
     "title": ""
    }
   },
   "outputs": [],
   "source": [
    "missing_keys.select(\"year\", \"month\", \"day\").distinct().exceptAll(final_keys.select(\"year\", \"month\", \"day\").distinct()).display()"
   ]
  },
  {
   "cell_type": "code",
   "execution_count": 0,
   "metadata": {
    "application/vnd.databricks.v1+cell": {
     "cellMetadata": {
      "byteLimit": 2048000,
      "rowLimit": 10000
     },
     "inputWidgets": {},
     "nuid": "843f7b63-d2d7-4e27-8919-c8b20eb34e5a",
     "showTitle": false,
     "tableResultSettingsMap": {},
     "title": ""
    }
   },
   "outputs": [],
   "source": [
    "missing_keys.select(\"scheduled_hour\").distinct().exceptAll(final_keys.select(\"scheduled_hour\").distinct()).display()"
   ]
  },
  {
   "cell_type": "code",
   "execution_count": 0,
   "metadata": {
    "application/vnd.databricks.v1+cell": {
     "cellMetadata": {
      "byteLimit": 2048000,
      "rowLimit": 10000
     },
     "inputWidgets": {},
     "nuid": "94204bb5-6fcc-4a13-a250-9f9f83976b9c",
     "showTitle": false,
     "tableResultSettingsMap": {},
     "title": ""
    }
   },
   "outputs": [],
   "source": [
    "flight_df.join(missing_keys, on=[\"year\", \"month\", \"day\", \"scheduled_hour\", \"airline\"], how=\"inner\").count()"
   ]
  },
  {
   "cell_type": "code",
   "execution_count": 0,
   "metadata": {
    "application/vnd.databricks.v1+cell": {
     "cellMetadata": {
      "byteLimit": 2048000,
      "rowLimit": 10000
     },
     "inputWidgets": {},
     "nuid": "605a4d77-0c91-4166-bef9-6473605ee856",
     "showTitle": false,
     "tableResultSettingsMap": {},
     "title": ""
    }
   },
   "outputs": [],
   "source": [
    "flight_df.join(missing_keys, on=[\"year\", \"month\", \"day\", \"scheduled_hour\", \"airline\"], how=\"inner\").display()"
   ]
  },
  {
   "cell_type": "code",
   "execution_count": 0,
   "metadata": {
    "application/vnd.databricks.v1+cell": {
     "cellMetadata": {
      "byteLimit": 2048000,
      "rowLimit": 10000
     },
     "inputWidgets": {},
     "nuid": "6b29a4ff-19cb-4107-9171-9fdf4ac20d46",
     "showTitle": false,
     "tableResultSettingsMap": {},
     "title": ""
    }
   },
   "outputs": [],
   "source": [
    "null_rows = final_df2.filter(\n",
    "    (col(\"final_estimated_flight_total\").isNull()) |\n",
    "    (col(\"final_estimated_passenger_total\").isNull()) |\n",
    "    (col(\"final_estimated_cargo_total\").isNull())\n",
    ")\n",
    "\n",
    "null_rows.select(\"year\", \"month\", \"day\", \"departure_hour\", \"airline\").display()"
   ]
  },
  {
   "cell_type": "code",
   "execution_count": 0,
   "metadata": {
    "application/vnd.databricks.v1+cell": {
     "cellMetadata": {
      "byteLimit": 2048000,
      "rowLimit": 10000
     },
     "inputWidgets": {},
     "nuid": "3fb33200-a3ac-4471-bd9b-dd60d3c04499",
     "showTitle": false,
     "tableResultSettingsMap": {},
     "title": ""
    }
   },
   "outputs": [],
   "source": [
    "null_rows.count()"
   ]
  },
  {
   "cell_type": "code",
   "execution_count": 0,
   "metadata": {
    "application/vnd.databricks.v1+cell": {
     "cellMetadata": {
      "byteLimit": 2048000,
      "rowLimit": 10000
     },
     "inputWidgets": {},
     "nuid": "ee505e99-7763-45d2-9503-073c4798d5ac",
     "showTitle": false,
     "tableResultSettingsMap": {},
     "title": ""
    }
   },
   "outputs": [],
   "source": [
    "final_df2.count()"
   ]
  },
  {
   "cell_type": "code",
   "execution_count": 0,
   "metadata": {
    "application/vnd.databricks.v1+cell": {
     "cellMetadata": {
      "byteLimit": 2048000,
      "rowLimit": 10000
     },
     "inputWidgets": {},
     "nuid": "46d8ccc6-19d0-469a-bbb4-d44b5728ee28",
     "showTitle": false,
     "tableResultSettingsMap": {},
     "title": ""
    }
   },
   "outputs": [],
   "source": [
    "holiday_df = spark.table(\"`1team-postgresql-connection_catalog`.silver.silver_holiday_list\")\n",
    "weather_df = spark.table(\"`1team-postgresql-connection_catalog`.silver.silver_temperature\")\n",
    "\n",
    "holiday_df.display()\n",
    "weather_df.display()"
   ]
  },
  {
   "cell_type": "code",
   "execution_count": 0,
   "metadata": {
    "application/vnd.databricks.v1+cell": {
     "cellMetadata": {
      "byteLimit": 2048000,
      "rowLimit": 10000
     },
     "inputWidgets": {},
     "nuid": "3f4bdb31-bc8c-42b5-b376-250d889351de",
     "showTitle": false,
     "tableResultSettingsMap": {},
     "title": ""
    }
   },
   "outputs": [],
   "source": [
    "holiday_df2 = holiday_df.drop('date', 'seq', 'date_name')\n",
    "weather_df2 = weather_df.drop('dotw', 'sea_level_pressure', 'spot_atmos_pressure', 'datetime')\n",
    "\n",
    "holiday_df2.display()\n",
    "weather_df2.display()"
   ]
  },
  {
   "cell_type": "code",
   "execution_count": 0,
   "metadata": {
    "application/vnd.databricks.v1+cell": {
     "cellMetadata": {
      "byteLimit": 2048000,
      "rowLimit": 10000
     },
     "inputWidgets": {},
     "nuid": "79ead265-9b4c-4c47-896c-3089f0d9384c",
     "showTitle": false,
     "tableResultSettingsMap": {
      "0": {
       "dataGridStateBlob": "{\"version\":1,\"tableState\":{\"columnPinning\":{\"left\":[\"#row_number#\"],\"right\":[]},\"columnSizing\":{},\"columnVisibility\":{}},\"settings\":{\"columns\":{}},\"syncTimestamp\":1752460362686}",
       "filterBlob": null,
       "queryPlanFiltersBlob": null,
       "tableResultIndex": 0
      }
     },
     "title": ""
    }
   },
   "outputs": [],
   "source": [
    "gold_df = final_df2.join(\n",
    "    holiday_df2.select(\"year\", \"month\", \"day\").withColumn(\"is_holiday\", F.lit(1)),\n",
    "    [\"year\", \"month\", \"day\"],\n",
    "    \"left\"\n",
    ").withColumn(\n",
    "    \"date_kind\",\n",
    "    F.when(F.col(\"is_holiday\").isNotNull(), \"01\").otherwise(\"02\")\n",
    ").drop(\"is_holiday\")\n",
    "\n",
    "\n",
    "gold_df.display()"
   ]
  },
  {
   "cell_type": "code",
   "execution_count": 0,
   "metadata": {
    "application/vnd.databricks.v1+cell": {
     "cellMetadata": {
      "byteLimit": 2048000,
      "rowLimit": 10000
     },
     "inputWidgets": {},
     "nuid": "078cfb7a-2f46-468b-aafc-b171d6b9de93",
     "showTitle": false,
     "tableResultSettingsMap": {},
     "title": ""
    }
   },
   "outputs": [],
   "source": [
    "gold_df_u.count()"
   ]
  },
  {
   "cell_type": "code",
   "execution_count": 0,
   "metadata": {
    "application/vnd.databricks.v1+cell": {
     "cellMetadata": {
      "byteLimit": 2048000,
      "rowLimit": 10000
     },
     "inputWidgets": {},
     "nuid": "cdd8d12a-1b81-4806-8645-67cc92395928",
     "showTitle": false,
     "tableResultSettingsMap": {},
     "title": ""
    }
   },
   "outputs": [],
   "source": [
    "weather_df2 = weather_df2.withColumnRenamed(\"time\", \"scheduled_hour\")\n",
    "weather_df2 = weather_df2.withColumn(\n",
    "    \"month\",\n",
    "    lpad(col(\"month\"), 2, \"0\")\n",
    ")\n",
    "\n",
    "gold_df = (\n",
    "    weather_df2\n",
    "    .join(gold_df, on=[\"year\", \"month\", \"scheduled_hour\", \"day\"], how=\"left\")\n",
    ")\n",
    "\n",
    "gold_df.display()"
   ]
  },
  {
   "cell_type": "code",
   "execution_count": 0,
   "metadata": {
    "application/vnd.databricks.v1+cell": {
     "cellMetadata": {
      "byteLimit": 2048000,
      "rowLimit": 10000
     },
     "inputWidgets": {},
     "nuid": "a3b39754-8a31-4323-aa74-7bcffa93a4be",
     "showTitle": false,
     "tableResultSettingsMap": {},
     "title": ""
    }
   },
   "outputs": [],
   "source": [
    "gold_df.count()"
   ]
  },
  {
   "cell_type": "code",
   "execution_count": 0,
   "metadata": {
    "application/vnd.databricks.v1+cell": {
     "cellMetadata": {
      "byteLimit": 2048000,
      "rowLimit": 10000
     },
     "inputWidgets": {},
     "nuid": "b2225bef-0307-4fdb-9e58-29072ecf194a",
     "showTitle": false,
     "tableResultSettingsMap": {},
     "title": ""
    }
   },
   "outputs": [],
   "source": [
    "host = \"1dt-2nd-team1-postgres.postgres.database.azure.com\"\n",
    "port = \"5432\"\n",
    "database = \"postgres\"\n",
    "user = \"azureuser\"\n",
    "password = \"asdASD123!@#\"\n",
    "jdbc_url = f\"jdbc:postgresql://{host}:{port}/{database}?sslmode=require\"\n",
    "\n",
    "gold_df.write \\\n",
    "    .format(\"jdbc\") \\\n",
    "    .option(\"url\", jdbc_url) \\\n",
    "    .option(\"dbtable\", \"gold.gold_v1\") \\\n",
    "    .option(\"user\", user) \\\n",
    "    .option(\"password\", password) \\\n",
    "    .option(\"driver\", \"org.postgresql.Driver\") \\\n",
    "    .mode(\"append\") \\\n",
    "    .save()"
   ]
  }
 ],
 "metadata": {
  "application/vnd.databricks.v1+notebook": {
   "computePreferences": null,
   "dashboards": [],
   "environmentMetadata": {
    "base_environment": "",
    "environment_version": "2"
   },
   "inputWidgetPreferences": null,
   "language": "python",
   "notebookMetadata": {
    "pythonIndentUnit": 4
   },
   "notebookName": "estimate",
   "widgets": {}
  },
  "language_info": {
   "name": "python"
  }
 },
 "nbformat": 4,
 "nbformat_minor": 0
}