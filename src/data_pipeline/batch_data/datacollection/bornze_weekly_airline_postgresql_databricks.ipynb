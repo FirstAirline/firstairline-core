{
 "cells": [
  {
   "cell_type": "code",
   "execution_count": 0,
   "metadata": {
    "application/vnd.databricks.v1+cell": {
     "cellMetadata": {
      "byteLimit": 2048000,
      "rowLimit": 10000
     },
     "inputWidgets": {},
     "nuid": "b3da4ed4-1cc8-42fc-b820-e9a3d7c44099",
     "showTitle": false,
     "tableResultSettingsMap": {
      "0": {
       "dataGridStateBlob": "{\"version\":1,\"tableState\":{\"columnPinning\":{\"left\":[\"#row_number#\"],\"right\":[]},\"columnSizing\":{},\"columnVisibility\":{}},\"settings\":{\"columns\":{}},\"syncTimestamp\":1752037372988}",
       "filterBlob": null,
       "queryPlanFiltersBlob": null,
       "tableResultIndex": 0
      }
     },
     "title": ""
    }
   },
   "outputs": [],
   "source": [
    "df_bronze_airline = spark.table(\"`1team-postgresql-connection_catalog`.bronze.bronze_airline_202307_202506\")\n",
    "df_bronze_weekday = spark.table(\"`1team-postgresql-connection_catalog`.bronze.bronze_weekday_202307_202506\")\n",
    "df_bronze = df_bronze_airline\n",
    "display(df_bronze)"
   ]
  },
  {
   "cell_type": "code",
   "execution_count": 0,
   "metadata": {
    "application/vnd.databricks.v1+cell": {
     "cellMetadata": {
      "byteLimit": 2048000,
      "rowLimit": 10000
     },
     "inputWidgets": {},
     "nuid": "448c3446-50f2-4451-b6fe-afc10a77d99b",
     "showTitle": false,
     "tableResultSettingsMap": {
      "0": {
       "dataGridStateBlob": "{\"version\":1,\"tableState\":{\"columnPinning\":{\"left\":[\"#row_number#\"],\"right\":[]},\"columnSizing\":{},\"columnVisibility\":{}},\"settings\":{\"columns\":{}},\"syncTimestamp\":1752045881475}",
       "filterBlob": null,
       "queryPlanFiltersBlob": null,
       "tableResultIndex": 0
      }
     },
     "title": ""
    }
   },
   "outputs": [],
   "source": [
    "from pyspark.sql import functions as F\n",
    "from pyspark.sql.window import Window\n",
    "\n",
    "# 0. 월별(연,월) 윈도우 정의\n",
    "w_month = Window.partitionBy(\"year\", \"month\")\n",
    "\n",
    "# 1. 항공편당 평균 여객 수 컬럼 추가\n",
    "df_bronze = df_bronze.withColumn(\n",
    "    \"avg_passenger_per_flight\",\n",
    "    F.col(\"passenger_total\") / F.col(\"flight_total\")\n",
    ")\n",
    "\n",
    "# 2. 항공편당 평균 화물량 컬럼 추가\n",
    "df_bronze = df_bronze.withColumn(\n",
    "    \"avg_cargo_per_flight\",\n",
    "    F.col(\"cargo_total\") / F.col(\"flight_total\")\n",
    ")\n",
    "\n",
    "# 3. 월별 전체 flight_total 평균을 활용한 혼잡도(congestion_index) 컬럼 추가\n",
    "df_bronze = df_bronze.withColumn(\n",
    "    \"month_flight_total_mean\",\n",
    "    F.avg(\"flight_total\").over(w_month)\n",
    ").withColumn(\n",
    "    \"congestion_index\",\n",
    "    F.col(\"flight_total\") / F.col(\"month_flight_total_mean\")\n",
    ").drop(\"month_flight_total_mean\")\n",
    "\n",
    "# 4. 월별 전체 flight_total 합계를 활용한 항공사 운항 점유율(airline_flight_share) 컬럼 추가\n",
    "df_bronze = df_bronze.withColumn(\n",
    "    \"month_flight_total_sum\",\n",
    "    F.sum(\"flight_total\").over(w_month)\n",
    ").withColumn(\n",
    "    \"airline_flight_share\",\n",
    "    F.col(\"flight_total\") / F.col(\"month_flight_total_sum\")\n",
    ").drop(\"month_flight_total_sum\")\n",
    "\n",
    "# 5. 날짜, 항공사 컬럼 문자열(varchar) 변환 및 공백 제거\n",
    "df_bronze = df_bronze \\\n",
    "    .withColumn(\"year\", F.trim(F.col(\"year\")).cast(\"string\")) \\\n",
    "    .withColumn(\"month\", F.lpad(F.trim(F.col(\"month\")).cast(\"string\"), 2, \"0\")) \\\n",
    "    .withColumn(\"airline\", F.trim(F.col(\"airline\")).cast(\"string\"))\n",
    "\n",
    "# 6. date 컬럼(YYYYMMDD, 1일 고정) 추가\n",
    "df_bronze = df_bronze.withColumn(\n",
    "    \"date\",\n",
    "    F.concat(F.col(\"year\"), F.col(\"month\"), F.lit(\"01\"))\n",
    ")\n",
    "\n",
    "# 7. date를 맨 앞 컬럼으로 이동\n",
    "cols = [\"date\"] + [c for c in df_bronze.columns if c != \"date\"]\n",
    "df_bronze = df_bronze.select(*cols)\n",
    "\n",
    "df_bronze.printSchema()\n",
    "display(df_bronze)\n"
   ]
  },
  {
   "cell_type": "code",
   "execution_count": 0,
   "metadata": {
    "application/vnd.databricks.v1+cell": {
     "cellMetadata": {
      "byteLimit": 2048000,
      "rowLimit": 10000
     },
     "inputWidgets": {},
     "nuid": "2938a416-d515-47a4-a8b5-4377c874ffb3",
     "showTitle": false,
     "tableResultSettingsMap": {},
     "title": ""
    }
   },
   "outputs": [],
   "source": [
    "df_bronze.write \\\n",
    "    .format(\"jdbc\") \\\n",
    "    .option(\"url\", \"jdbc:postgresql://1dt-2nd-team1-postgres.postgres.database.azure.com:5432/postgres\") \\\n",
    "    .option(\"dbtable\", \"silver.silver_airline_202307_202506\") \\\n",
    "    .option(\"user\", \"azureuser\") \\\n",
    "    .option(\"password\", \"asdASD123!@#\") \\\n",
    "    .option(\"driver\", \"org.postgresql.Driver\") \\\n",
    "    .option(\"sslmode\", \"require\") \\\n",
    "    .mode(\"overwrite\") \\\n",
    "    .save()\n"
   ]
  },
  {
   "cell_type": "code",
   "execution_count": 0,
   "metadata": {
    "application/vnd.databricks.v1+cell": {
     "cellMetadata": {
      "byteLimit": 2048000,
      "rowLimit": 10000
     },
     "inputWidgets": {},
     "nuid": "797e0e5b-5cc5-4dd1-a867-f3940ee931c9",
     "showTitle": false,
     "tableResultSettingsMap": {},
     "title": ""
    }
   },
   "outputs": [],
   "source": [
    "df_bronze = df_bronze_weekday"
   ]
  },
  {
   "cell_type": "code",
   "execution_count": 0,
   "metadata": {
    "application/vnd.databricks.v1+cell": {
     "cellMetadata": {
      "byteLimit": 2048000,
      "rowLimit": 10000
     },
     "inputWidgets": {},
     "nuid": "3fe1c5f3-7fae-4a61-8c12-5b9c3985c803",
     "showTitle": false,
     "tableResultSettingsMap": {},
     "title": ""
    }
   },
   "outputs": [],
   "source": [
    "from pyspark.sql import functions as F\n",
    "from pyspark.sql.window import Window\n",
    "\n",
    "# 0. 월별(연,월) 윈도우 정의\n",
    "w_month = Window.partitionBy(\"year\", \"month\")\n",
    "\n",
    "# 1. 항공편당 평균 여객 수 컬럼 추가\n",
    "df_bronze = df_bronze.withColumn(\n",
    "    \"avg_passenger_per_flight\",\n",
    "    F.col(\"passenger_total\") / F.col(\"flight_total\")\n",
    ")\n",
    "\n",
    "# 2. 항공편당 평균 화물량 컬럼 추가\n",
    "df_bronze = df_bronze.withColumn(\n",
    "    \"avg_cargo_per_flight\",\n",
    "    F.col(\"cargo_total\") / F.col(\"flight_total\")\n",
    ")\n",
    "\n",
    "# 3. 월별 전체 flight_total 평균을 활용한 혼잡도(congestion_index) 컬럼 추가\n",
    "df_bronze = df_bronze.withColumn(\n",
    "    \"month_flight_total_mean\",\n",
    "    F.avg(\"flight_total\").over(w_month)\n",
    ").withColumn(\n",
    "    \"congestion_index\",\n",
    "    F.col(\"flight_total\") / F.col(\"month_flight_total_mean\")\n",
    ").drop(\"month_flight_total_mean\")\n",
    "\n",
    "# 4. 월별 전체 flight_total 합계를 활용한 요일별 운항 점유율(weekday_flight_share) 컬럼 추가\n",
    "df_bronze = df_bronze.withColumn(\n",
    "    \"month_flight_total_sum\",\n",
    "    F.sum(\"flight_total\").over(w_month)\n",
    ").withColumn(\n",
    "    \"weekday_flight_share\",\n",
    "    F.col(\"flight_total\") / F.col(\"month_flight_total_sum\")\n",
    ").drop(\"month_flight_total_sum\")\n",
    "\n",
    "# 5. 날짜, 요일 컬럼 문자열(varchar) 변환 및 공백 제거\n",
    "df_bronze = df_bronze \\\n",
    "    .withColumn(\"year\", F.trim(F.col(\"year\")).cast(\"string\")) \\\n",
    "    .withColumn(\"month\", F.lpad(F.trim(F.col(\"month\")).cast(\"string\"), 2, \"0\")) \\\n",
    "    .withColumn(\"weekday\", F.trim(F.col(\"weekday\")).cast(\"string\"))\n",
    "\n",
    "# 6. date 컬럼(YYYYMMDD, 1일 고정) 추가\n",
    "df_bronze = df_bronze.withColumn(\n",
    "    \"date\",\n",
    "    F.concat(F.col(\"year\"), F.col(\"month\"), F.lit(\"01\"))\n",
    ")\n",
    "\n",
    "# 7. date를 맨 앞 컬럼으로 이동\n",
    "cols = [\"date\"] + [c for c in df_bronze.columns if c != \"date\"]\n",
    "df_bronze = df_bronze.select(*cols)\n",
    "\n",
    "df_bronze.printSchema()\n",
    "display(df_bronze)\n"
   ]
  },
  {
   "cell_type": "code",
   "execution_count": 0,
   "metadata": {
    "application/vnd.databricks.v1+cell": {
     "cellMetadata": {
      "byteLimit": 2048000,
      "rowLimit": 10000
     },
     "inputWidgets": {},
     "nuid": "09ddd9e7-592c-4ba8-bcef-bb7716ebd5d9",
     "showTitle": false,
     "tableResultSettingsMap": {
      "0": {
       "dataGridStateBlob": "{\"version\":1,\"tableState\":{\"columnPinning\":{\"left\":[\"#row_number#\"],\"right\":[]},\"columnSizing\":{},\"columnVisibility\":{}},\"settings\":{\"columns\":{}},\"syncTimestamp\":1752045936140}",
       "filterBlob": null,
       "queryPlanFiltersBlob": null,
       "tableResultIndex": 0
      }
     },
     "title": ""
    }
   },
   "outputs": [],
   "source": [
    "display(df_bronze)"
   ]
  },
  {
   "cell_type": "code",
   "execution_count": 0,
   "metadata": {
    "application/vnd.databricks.v1+cell": {
     "cellMetadata": {
      "byteLimit": 2048000,
      "rowLimit": 10000
     },
     "inputWidgets": {},
     "nuid": "c795f77c-23a4-46cb-9bcb-a6d2df8d6900",
     "showTitle": false,
     "tableResultSettingsMap": {},
     "title": ""
    }
   },
   "outputs": [],
   "source": [
    "df_bronze.write \\\n",
    "    .format(\"jdbc\") \\\n",
    "    .option(\"url\", \"jdbc:postgresql://1dt-2nd-team1-postgres.postgres.database.azure.com:5432/postgres\") \\\n",
    "    .option(\"dbtable\", \"silver.silver_weekday_202307_202506\") \\\n",
    "    .option(\"user\", \"azureuser\") \\\n",
    "    .option(\"password\", \"asdASD123!@#\") \\\n",
    "    .option(\"driver\", \"org.postgresql.Driver\") \\\n",
    "    .option(\"sslmode\", \"require\") \\\n",
    "    .mode(\"overwrite\") \\\n",
    "    .save()"
   ]
  }
 ],
 "metadata": {
  "application/vnd.databricks.v1+notebook": {
   "computePreferences": null,
   "dashboards": [],
   "environmentMetadata": {
    "base_environment": "",
    "environment_version": "2"
   },
   "inputWidgetPreferences": null,
   "language": "python",
   "notebookMetadata": {
    "pythonIndentUnit": 4
   },
   "notebookName": "1dt019data",
   "widgets": {}
  },
  "language_info": {
   "name": "python"
  }
 },
 "nbformat": 4,
 "nbformat_minor": 0
}