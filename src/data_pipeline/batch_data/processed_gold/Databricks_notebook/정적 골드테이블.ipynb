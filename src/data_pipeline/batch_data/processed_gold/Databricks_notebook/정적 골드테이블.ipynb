{
 "cells": [
  {
   "cell_type": "code",
   "execution_count": 0,
   "metadata": {
    "application/vnd.databricks.v1+cell": {
     "cellMetadata": {
      "byteLimit": 2048000,
      "rowLimit": 10000
     },
     "inputWidgets": {},
     "nuid": "ded6d956-796a-4c98-bd3a-370781b57dbe",
     "showTitle": false,
     "tableResultSettingsMap": {},
     "title": ""
    }
   },
   "outputs": [],
   "source": [
    "from pyspark.sql.functions import when, col, lpad, count, substring, concat, to_date, lit, format_number, round, sum as _sum\n",
    "from pyspark.sql import functions as F\n",
    "from functools import reduce"
   ]
  },
  {
   "cell_type": "code",
   "execution_count": 0,
   "metadata": {
    "application/vnd.databricks.v1+cell": {
     "cellMetadata": {
      "byteLimit": 2048000,
      "rowLimit": 10000
     },
     "inputWidgets": {},
     "nuid": "b286df6b-182e-4339-9dc0-59edcb36c89e",
     "showTitle": false,
     "tableResultSettingsMap": {
      "0": {
       "dataGridStateBlob": "{\"version\":1,\"tableState\":{\"columnPinning\":{\"left\":[\"#row_number#\"],\"right\":[]},\"columnSizing\":{},\"columnVisibility\":{}},\"settings\":{\"columns\":{}},\"syncTimestamp\":1752214902307}",
       "filterBlob": null,
       "queryPlanFiltersBlob": null,
       "tableResultIndex": 0
      }
     },
     "title": ""
    }
   },
   "outputs": [],
   "source": [
    "# 1. 메인테이블 불러오기 - 시간대컬럼 추출\n",
    "df_flight = spark.table(\"`1team-postgresql-connection_catalog`.silver.silver_flight_info\")\n",
    "# day_of_week Column\n",
    "# 1 = 일요일\n",
    "# 2 = 월요일\n",
    "# 3 = 화요일\n",
    "# 4 = 수요일\n",
    "# 5 = 목요일\n",
    "# 6 = 금요일\n",
    "# 7 = 토요일\n",
    "\n",
    "df_flight.display()"
   ]
  },
  {
   "cell_type": "code",
   "execution_count": 0,
   "metadata": {
    "application/vnd.databricks.v1+cell": {
     "cellMetadata": {
      "byteLimit": 2048000,
      "rowLimit": 10000
     },
     "inputWidgets": {},
     "nuid": "5659b4b9-93ae-448d-abeb-760b0685a99b",
     "showTitle": false,
     "tableResultSettingsMap": {
      "0": {
       "dataGridStateBlob": "{\"version\":1,\"tableState\":{\"columnPinning\":{\"left\":[\"#row_number#\"],\"right\":[]},\"columnSizing\":{},\"columnVisibility\":{}},\"settings\":{\"columns\":{}},\"syncTimestamp\":1752215021796}",
       "filterBlob": null,
       "queryPlanFiltersBlob": null,
       "tableResultIndex": 0
      }
     },
     "title": ""
    }
   },
   "outputs": [],
   "source": [
    "# 2. 계획시간, 출발시간의 시간부분 추출, 지연 시간 열 추가 (취소건은 null)\n",
    "df_flight = df_flight.withColumn(\n",
    "    \"scheduled_hour\",\n",
    "    substring(\"scheduled_time\", 1, 2)\n",
    ").withColumn(\n",
    "    \"departure_hour\",\n",
    "    when(\n",
    "        (col(\"departure_time\").isNotNull()) & \n",
    "        (col(\"departure_time\") != '') & \n",
    "        (col(\"departure_time\") != ':'),\n",
    "        substring(\"departure_time\", 1, 2)\n",
    "    ).otherwise(None)\n",
    ").withColumn(\n",
    "    \"delayed_time\",\n",
    "    when(col(\"delayed_time\") == \"취소\", None)\n",
    "    .otherwise(col(\"delayed_time\"))\n",
    ")\n",
    "\n",
    "df_flight = df_flight.withColumn(\n",
    "    \"month\",\n",
    "    lpad(col(\"month\"), 2, \"0\")\n",
    ")\n",
    "\n",
    "df_flight.display()"
   ]
  },
  {
   "cell_type": "code",
   "execution_count": 0,
   "metadata": {
    "application/vnd.databricks.v1+cell": {
     "cellMetadata": {
      "byteLimit": 2048000,
      "rowLimit": 10000
     },
     "inputWidgets": {},
     "nuid": "0aab591b-093b-4001-ac27-a9cd21e2c664",
     "showTitle": false,
     "tableResultSettingsMap": {
      "0": {
       "dataGridStateBlob": "{\"version\":1,\"tableState\":{\"columnPinning\":{\"left\":[\"#row_number#\"],\"right\":[]},\"columnSizing\":{},\"columnVisibility\":{}},\"settings\":{\"columns\":{}},\"syncTimestamp\":1752198185014}",
       "filterBlob": null,
       "queryPlanFiltersBlob": null,
       "tableResultIndex": 0
      }
     },
     "title": ""
    }
   },
   "outputs": [],
   "source": [
    "# 3. 날짜 형식 변환(yyyy-mm-dd) & 평일(0)/주말(1) 컬럼 추가\n",
    "df_flight = df_flight.withColumn(\n",
    "    \"date\",\n",
    "    col(\"date\").cast(\"string\")  \n",
    ").withColumn(\n",
    "    \"date\",\n",
    "    concat(\n",
    "        substring(\"date\", 1, 4), lit(\"-\"),\n",
    "        substring(\"date\", 5, 2), lit(\"-\"),\n",
    "        substring(\"date\", 7, 2)\n",
    "    )\n",
    ")\n",
    "\n",
    "df_flight.display()"
   ]
  },
  {
   "cell_type": "code",
   "execution_count": 0,
   "metadata": {
    "application/vnd.databricks.v1+cell": {
     "cellMetadata": {
      "byteLimit": 2048000,
      "rowLimit": 10000
     },
     "inputWidgets": {},
     "nuid": "f7c62c99-8f27-4045-afb8-5fb3bf2bd083",
     "showTitle": false,
     "tableResultSettingsMap": {
      "0": {
       "dataGridStateBlob": "{\"version\":1,\"tableState\":{\"columnPinning\":{\"left\":[\"#row_number#\"],\"right\":[]},\"columnSizing\":{},\"columnVisibility\":{}},\"settings\":{\"columns\":{}},\"syncTimestamp\":1752486120211}",
       "filterBlob": null,
       "queryPlanFiltersBlob": null,
       "tableResultIndex": 0
      },
      "1": {
       "dataGridStateBlob": "{\"version\":1,\"tableState\":{\"columnPinning\":{\"left\":[\"#row_number#\"],\"right\":[]},\"columnSizing\":{},\"columnVisibility\":{}},\"settings\":{\"columns\":{}},\"syncTimestamp\":1752493830986}",
       "filterBlob": null,
       "queryPlanFiltersBlob": null,
       "tableResultIndex": 1
      }
     },
     "title": ""
    }
   },
   "outputs": [],
   "source": [
    "# 4.시간대별, 월별, 요일별, 항공사별 테이블 불러오기\n",
    "df_hourly = spark.table(\"`1team-postgresql-connection_catalog`.silver.silver_hourly\")\n",
    "df_monthly = spark.table(\"`1team-postgresql-connection_catalog`.silver.silver_monthly\")\n",
    "df_weekday = spark.table(\"`1team-postgresql-connection_catalog`.silver.silver_weekday\")\n",
    "df_airline = spark.table(\"`1team-postgresql-connection_catalog`.silver.silver_airline\")\n",
    "\n",
    "df_hourly.display()\n",
    "df_monthly.display()\n",
    "df_weekday.display()\n",
    "df_airline.display()"
   ]
  },
  {
   "cell_type": "code",
   "execution_count": 0,
   "metadata": {
    "application/vnd.databricks.v1+cell": {
     "cellMetadata": {
      "byteLimit": 2048000,
      "rowLimit": 10000
     },
     "inputWidgets": {},
     "nuid": "62fa3024-e191-470d-b9d5-2a3a2171ec4c",
     "showTitle": false,
     "tableResultSettingsMap": {
      "0": {
       "dataGridStateBlob": "{\"version\":1,\"tableState\":{\"columnPinning\":{\"left\":[\"#row_number#\"],\"right\":[]},\"columnSizing\":{},\"columnVisibility\":{}},\"settings\":{\"columns\":{}},\"syncTimestamp\":1752486766514}",
       "filterBlob": null,
       "queryPlanFiltersBlob": null,
       "tableResultIndex": 0
      },
      "1": {
       "dataGridStateBlob": "{\"version\":1,\"tableState\":{\"columnPinning\":{\"left\":[\"#row_number#\"],\"right\":[]},\"columnSizing\":{},\"columnVisibility\":{}},\"settings\":{\"columns\":{}},\"syncTimestamp\":1752498230038}",
       "filterBlob": null,
       "queryPlanFiltersBlob": null,
       "tableResultIndex": 1
      }
     },
     "title": ""
    }
   },
   "outputs": [],
   "source": [
    "# 5. month 컬럼 0 추가\n",
    "df_hourly = df_hourly.withColumn(\n",
    "    \"month\",\n",
    "    lpad(col(\"month\"), 2, \"0\")\n",
    ")\n",
    "df_monthly = df_monthly.withColumn(\n",
    "    \"month\",\n",
    "    lpad(col(\"month\"), 2, \"0\")\n",
    ")\n",
    "\n",
    "# 월별로 총합 집계\n",
    "monthly_sum = df_monthly.groupBy(\"year\", \"month\").agg(\n",
    "    _sum(\"passenger_departure\").alias(\"monthly_passenger_total\"),\n",
    "    _sum(\"cargo_departure\").alias(\"monthly_cargo_total\"),\n",
    "    _sum(\"flight_departure\").alias(\"monthly_flight_total\")\n",
    ")\n",
    "\n",
    "# 원본 df_monthly와 월별 year, month로 조인\n",
    "df_monthly = df_monthly.join(\n",
    "    monthly_sum,\n",
    "    on=[\"year\", \"month\"],\n",
    "    how=\"left\"\n",
    ")\n",
    "\n",
    "df_hourly.display()\n",
    "df_monthly.display()"
   ]
  },
  {
   "cell_type": "code",
   "execution_count": 0,
   "metadata": {
    "application/vnd.databricks.v1+cell": {
     "cellMetadata": {
      "byteLimit": 2048000,
      "rowLimit": 10000
     },
     "inputWidgets": {},
     "nuid": "53e7b311-3336-4db5-bdb1-9850c63bf1f3",
     "showTitle": false,
     "tableResultSettingsMap": {},
     "title": ""
    }
   },
   "outputs": [],
   "source": [
    "# 6. 항공사별 테이블에 존재하는 항공사만 남기기\n",
    "df_flight_filtered = df_flight.join(\n",
    "    df_airline.select(\"airline\").distinct(),\n",
    "    \"airline\",\n",
    "    \"inner\"\n",
    ")\n",
    "\n",
    "df_flight_filtered.display()"
   ]
  },
  {
   "cell_type": "code",
   "execution_count": 0,
   "metadata": {
    "application/vnd.databricks.v1+cell": {
     "cellMetadata": {
      "byteLimit": 2048000,
      "rowLimit": 10000
     },
     "inputWidgets": {},
     "nuid": "97117b24-950c-4863-87fe-5ca979c639d9",
     "showTitle": false,
     "tableResultSettingsMap": {},
     "title": ""
    }
   },
   "outputs": [],
   "source": [
    "df_flight_filtered.count()"
   ]
  },
  {
   "cell_type": "code",
   "execution_count": 0,
   "metadata": {
    "application/vnd.databricks.v1+cell": {
     "cellMetadata": {
      "byteLimit": 2048000,
      "rowLimit": 10000
     },
     "inputWidgets": {},
     "nuid": "6058f919-2fa6-461d-9603-88325be1600a",
     "showTitle": false,
     "tableResultSettingsMap": {},
     "title": ""
    }
   },
   "outputs": [],
   "source": [
    "# 7. 메인 테이블에서 취소된 데이터 제외\n",
    "df_valid = df_flight_filtered.filter(\n",
    "    (col(\"departure_time\") != \":\") & (col(\"status\") != \"취소\")\n",
    ")\n",
    "\n",
    "df_valid.display()"
   ]
  },
  {
   "cell_type": "code",
   "execution_count": 0,
   "metadata": {
    "application/vnd.databricks.v1+cell": {
     "cellMetadata": {
      "byteLimit": 2048000,
      "rowLimit": 10000
     },
     "inputWidgets": {},
     "nuid": "1e96655e-d493-4d6f-8fe2-687144e3e5ed",
     "showTitle": false,
     "tableResultSettingsMap": {},
     "title": ""
    }
   },
   "outputs": [],
   "source": [
    "df_valid.count()"
   ]
  },
  {
   "cell_type": "code",
   "execution_count": 0,
   "metadata": {
    "application/vnd.databricks.v1+cell": {
     "cellMetadata": {
      "byteLimit": 2048000,
      "rowLimit": 10000
     },
     "inputWidgets": {},
     "nuid": "6d8d8dbc-1d6f-49fb-a1b1-5fd32b38ded9",
     "showTitle": false,
     "tableResultSettingsMap": {
      "0": {
       "dataGridStateBlob": "{\"version\":1,\"tableState\":{\"columnPinning\":{\"left\":[\"#row_number#\"],\"right\":[]},\"columnSizing\":{},\"columnVisibility\":{}},\"settings\":{\"columns\":{}},\"syncTimestamp\":1752486765288}",
       "filterBlob": null,
       "queryPlanFiltersBlob": null,
       "tableResultIndex": 0
      }
     },
     "title": ""
    }
   },
   "outputs": [],
   "source": [
    "# 8. 항공사별 테이블의 월별 총합 계산\n",
    "airline_sum = df_airline.groupBy(\"year\", \"month\").agg(\n",
    "    _sum(\"flight_departures\").alias(\"airline_flight_departure_sum\"),\n",
    "    _sum(\"passenger_departures\").alias(\"airline_passenger_departure_sum\"),\n",
    "    _sum(\"cargo_departures\").alias(\"airline_cargo_departure_sum\")\n",
    ")\n",
    "\n",
    "airline_sum.display()"
   ]
  },
  {
   "cell_type": "code",
   "execution_count": 0,
   "metadata": {
    "application/vnd.databricks.v1+cell": {
     "cellMetadata": {
      "byteLimit": 2048000,
      "rowLimit": 10000
     },
     "inputWidgets": {},
     "nuid": "e85236b4-2e23-478c-aa44-da567e879c22",
     "showTitle": false,
     "tableResultSettingsMap": {
      "0": {
       "dataGridStateBlob": "{\"version\":1,\"tableState\":{\"columnPinning\":{\"left\":[\"#row_number#\"],\"right\":[]},\"columnSizing\":{},\"columnVisibility\":{}},\"settings\":{\"columns\":{}},\"syncTimestamp\":1752484517213}",
       "filterBlob": null,
       "queryPlanFiltersBlob": null,
       "tableResultIndex": 0
      }
     },
     "title": ""
    }
   },
   "outputs": [],
   "source": [
    "# 9. 항공사별 테이블의 비율 계산\n",
    "airline_ratio = df_airline.join(\n",
    "    airline_sum, on=[\"year\", \"month\"]\n",
    ").withColumn(\n",
    "    \"a_flight_ratio\", col(\"flight_departures\") / col(\"airline_flight_departure_sum\")\n",
    ").withColumn(\n",
    "    \"a_passenger_ratio\", col(\"passenger_departures\") / col(\"airline_passenger_departure_sum\")\n",
    ").withColumn(\n",
    "    \"a_cargo_ratio\", col(\"cargo_departures\") / col(\"airline_cargo_departure_sum\")\n",
    ")\n",
    "\n",
    "airline_ratio.display()"
   ]
  },
  {
   "cell_type": "code",
   "execution_count": 0,
   "metadata": {
    "application/vnd.databricks.v1+cell": {
     "cellMetadata": {
      "byteLimit": 2048000,
      "rowLimit": 10000
     },
     "inputWidgets": {},
     "nuid": "82a1e08c-d3f7-4f05-ab67-ed0f167af714",
     "showTitle": false,
     "tableResultSettingsMap": {
      "0": {
       "dataGridStateBlob": "{\"version\":1,\"tableState\":{\"columnPinning\":{\"left\":[\"#row_number#\"],\"right\":[]},\"columnSizing\":{},\"columnVisibility\":{}},\"settings\":{\"columns\":{}},\"syncTimestamp\":1752211924739}",
       "filterBlob": null,
       "queryPlanFiltersBlob": null,
       "tableResultIndex": 0
      }
     },
     "title": ""
    }
   },
   "outputs": [],
   "source": [
    "# 10. 시간대별 테이블의 월별 총합 계산\n",
    "hourly_sum = df_hourly.groupBy(\"year\", \"month\").agg(\n",
    "    _sum(\"flight_departure\").alias(\"hourly_flight_departure\"),\n",
    "    _sum(\"passenger_departure\").alias(\"hourly_passenger_departure\"),\n",
    "    _sum(\"cargo_departure\").alias(\"hourly_cargo_departure\")\n",
    ")\n",
    "\n",
    "hourly_sum.display()"
   ]
  },
  {
   "cell_type": "code",
   "execution_count": 0,
   "metadata": {
    "application/vnd.databricks.v1+cell": {
     "cellMetadata": {
      "byteLimit": 2048000,
      "rowLimit": 10000
     },
     "inputWidgets": {},
     "nuid": "486642df-5a51-46d2-89cf-fd0f2679eeeb",
     "showTitle": false,
     "tableResultSettingsMap": {},
     "title": ""
    }
   },
   "outputs": [],
   "source": [
    "# 11. 시간대별 테이블의 비율 계산\n",
    "time_ratio = df_hourly.join(\n",
    "    hourly_sum, on=[\"year\", \"month\"]\n",
    ").withColumn(\n",
    "    \"t_flight_ratio\", col(\"flight_departure\") / col(\"hourly_flight_departure\")\n",
    ").withColumn(\n",
    "    \"t_passenger_ratio\", col(\"passenger_departure\") / col(\"hourly_passenger_departure\")\n",
    ").withColumn(\n",
    "    \"t_cargo_ratio\", col(\"cargo_departure\") / col(\"hourly_cargo_departure\")\n",
    ")\n",
    "\n",
    "time_ratio.display()"
   ]
  },
  {
   "cell_type": "code",
   "execution_count": 0,
   "metadata": {
    "application/vnd.databricks.v1+cell": {
     "cellMetadata": {
      "byteLimit": 2048000,
      "rowLimit": 10000
     },
     "inputWidgets": {},
     "nuid": "47bc8dbe-6a66-41d3-b39d-f15e8a46cec3",
     "showTitle": false,
     "tableResultSettingsMap": {},
     "title": ""
    }
   },
   "outputs": [],
   "source": [
    "# 12. 메인 테이블의 비행 데이터를 활용한 일자별, 월별 합계 및 비율 계산\n",
    "day_total = df_valid.groupBy(\"year\", \"month\", \"day\").count().withColumnRenamed(\"count\", \"flight_day_total\")\n",
    "month_total = df_valid.groupBy(\"year\", \"month\").count().withColumnRenamed(\"count\", \"flight_month_total\")\n",
    "\n",
    "day_ratio = day_total.join(month_total, on=[\"year\", \"month\"]).withColumn(\n",
    "    \"day_ratio\", col(\"flight_day_total\") / col(\"flight_month_total\")\n",
    ").orderBy(\n",
    "        col(\"year\").cast(\"int\").asc(),\n",
    "        col(\"month\").cast(\"int\").asc(),\n",
    "        col(\"day\").cast(\"int\").asc())\n",
    "\n",
    "day_ratio.display()"
   ]
  },
  {
   "cell_type": "code",
   "execution_count": 0,
   "metadata": {
    "application/vnd.databricks.v1+cell": {
     "cellMetadata": {
      "byteLimit": 2048000,
      "rowLimit": 10000
     },
     "inputWidgets": {},
     "nuid": "dc4c2ebf-28d0-4b65-a3a3-d48f693e4ea2",
     "showTitle": false,
     "tableResultSettingsMap": {},
     "title": ""
    }
   },
   "outputs": [],
   "source": [
    "# 13. 컬럼명 간소화\n",
    "ar = airline_ratio.alias(\"ar\")\n",
    "dr = day_ratio.alias(\"dr\")\n",
    "tr = time_ratio.alias(\"tr\")\n",
    "dm = df_monthly.alias(\"dm\")\n",
    "df = df_valid.alias(\"df\")"
   ]
  },
  {
   "cell_type": "code",
   "execution_count": 0,
   "metadata": {
    "application/vnd.databricks.v1+cell": {
     "cellMetadata": {
      "byteLimit": 2048000,
      "rowLimit": 10000
     },
     "inputWidgets": {},
     "nuid": "8199784c-9d4e-4276-a0dd-e6f6a87cef39",
     "showTitle": false,
     "tableResultSettingsMap": {},
     "title": ""
    }
   },
   "outputs": [],
   "source": [
    "# 14. 모든 비율 조인\n",
    "df_joined = df \\\n",
    "    .join(dr, (col(\"df.year\") == col(\"dr.year\")) & (col(\"df.month\") == col(\"dr.month\")) & (col(\"df.day\") == col(\"dr.day\")), \"left\") \\\n",
    "    .join(tr, (col(\"df.year\") == col(\"tr.year\")) & (col(\"df.month\") == col(\"tr.month\")) & (col(\"df.scheduled_hour\") == col(\"tr.hour_of_day\")), \"left\") \\\n",
    "    .join(dm, (col(\"df.year\") == col(\"dm.year\")) & (col(\"df.month\") == col(\"dm.month\")), \"left\") \\\n",
    "    .join(ar, (col(\"df.year\") == col(\"ar.year\")) & (col(\"df.month\") == col(\"ar.month\")) & (col(\"df.airline\") == col(\"ar.airline\")), \"left\")\n",
    "\n",
    "df_selected = df_joined.select(\n",
    "    col(\"df.year\").alias(\"year\"),\n",
    "    col(\"df.month\").alias(\"month\"),\n",
    "    col(\"df.airline\").alias(\"airline\"),\n",
    "    col(\"df.date\").alias(\"date\"),\n",
    "    col(\"df.day\").alias(\"day\"),\n",
    "    col(\"df.day_of_week\").alias(\"day_of_week\"),\n",
    "    col(\"df.flight_number\").alias(\"flight_number\"),\n",
    "    col(\"df.destination_city\").alias(\"destination_city\"),\n",
    "    col(\"df.scheduled_time\").alias(\"scheduled_time\"),\n",
    "    col(\"df.departure_time\").alias(\"departure_time\"),\n",
    "    col(\"df.flight_type\").alias(\"flight_type\"),\n",
    "    col(\"df.status\").alias(\"status\"),\n",
    "    col(\"df.is_departed\").alias(\"is_departed\"),\n",
    "    col(\"df.delay_reason\").alias(\"delay_reason\"),\n",
    "    col(\"df.delayed_time\").alias(\"delayed_time\"),\n",
    "    col(\"df.scheduled_hour\").alias(\"scheduled_hour\"),\n",
    "    col(\"df.departure_hour\").alias(\"departure_hour\"),\n",
    "    col(\"dr.day_ratio\").alias(\"day_ratio\"),\n",
    "    col(\"tr.t_flight_ratio\").alias(\"t_flight_ratio\"),\n",
    "    col(\"tr.t_passenger_ratio\").alias(\"t_passenger_ratio\"),\n",
    "    col(\"tr.t_cargo_ratio\").alias(\"t_cargo_ratio\"),\n",
    "    col(\"ar.a_flight_ratio\").alias(\"a_flight_ratio\"),\n",
    "    col(\"ar.a_passenger_ratio\").alias(\"a_passenger_ratio\"),\n",
    "    col(\"ar.a_cargo_ratio\").alias(\"a_cargo_ratio\"),\n",
    "    col(\"dm.flight_departure\").alias(\"flight_departure\"),\n",
    "    col(\"dm.passenger_departure\").alias(\"passenger_departure\"),\n",
    "    col(\"dm.cargo_departure\").alias(\"cargo_departure\"),\n",
    "    col(\"dm.monthly_passenger_total\").alias(\"monthly_passenger_total\"),\n",
    "    col(\"dm.monthly_cargo_total\").alias(\"monthly_cargo_total\"),\n",
    "    col(\"dm.monthly_flight_total\").alias(\"monthly_flight_total\")\n",
    ")\n",
    "df_selected.display()"
   ]
  },
  {
   "cell_type": "code",
   "execution_count": 0,
   "metadata": {
    "application/vnd.databricks.v1+cell": {
     "cellMetadata": {
      "byteLimit": 2048000,
      "rowLimit": 10000
     },
     "inputWidgets": {},
     "nuid": "96d9c3cc-60d3-46e8-bd58-20d3f947540a",
     "showTitle": false,
     "tableResultSettingsMap": {},
     "title": ""
    }
   },
   "outputs": [],
   "source": [
    "# 15. 추정치 계산(총합 * 비율 * 비율 * 비율)\n",
    "df_estimated = df_selected.withColumn(\n",
    "    \"expected_passenger\",\n",
    "    col(\"passenger_departure\") * col(\"day_ratio\") * col(\"t_passenger_ratio\") * col(\"a_passenger_ratio\")\n",
    ").withColumn(\n",
    "    \"expected_cargo\",\n",
    "    col(\"cargo_departure\") * col(\"day_ratio\") * col(\"t_cargo_ratio\") * col(\"a_cargo_ratio\")\n",
    ")\n",
    "\n",
    "df_estimated.display()"
   ]
  },
  {
   "cell_type": "code",
   "execution_count": 0,
   "metadata": {
    "application/vnd.databricks.v1+cell": {
     "cellMetadata": {
      "byteLimit": 2048000,
      "rowLimit": 10000
     },
     "inputWidgets": {},
     "nuid": "8b377544-004b-420a-8508-770666c441ca",
     "showTitle": false,
     "tableResultSettingsMap": {},
     "title": ""
    }
   },
   "outputs": [],
   "source": [
    "# 16. 월별 추정치 합계 계산\n",
    "estimated_sum_df = df_estimated.groupBy(\"year\", \"month\").agg(\n",
    "    _sum(\"expected_passenger\").alias(\"total_estimated_passenger\"),\n",
    "    _sum(\"expected_cargo\").alias(\"total_estimated_cargo\")\n",
    ")\n",
    "\n",
    "estimated_sum_df.display()"
   ]
  },
  {
   "cell_type": "code",
   "execution_count": 0,
   "metadata": {
    "application/vnd.databricks.v1+cell": {
     "cellMetadata": {
      "byteLimit": 2048000,
      "rowLimit": 10000
     },
     "inputWidgets": {},
     "nuid": "230ed79e-0c3b-4c56-ac92-4deb08e6eb21",
     "showTitle": false,
     "tableResultSettingsMap": {
      "0": {
       "dataGridStateBlob": "{\"version\":1,\"tableState\":{\"columnPinning\":{\"left\":[\"#row_number#\"],\"right\":[]},\"columnSizing\":{},\"columnVisibility\":{}},\"settings\":{\"columns\":{}},\"syncTimestamp\":1752498785107}",
       "filterBlob": null,
       "queryPlanFiltersBlob": null,
       "tableResultIndex": 0
      }
     },
     "title": ""
    }
   },
   "outputs": [],
   "source": [
    "# 17. 월별 보정계수 계산\n",
    "scaling_df = (\n",
    "    estimated_sum_df\n",
    "    .join(dm, on=[\"year\", \"month\"])\n",
    "    .withColumn(\"scaling_passenger\", col(\"dm.monthly_passenger_total\") / col(\"total_estimated_passenger\"))\n",
    "    .withColumn(\"scaling_cargo\",  col(\"dm.monthly_cargo_total\") / col(\"total_estimated_cargo\"))\n",
    ")\n",
    "\n",
    "scaling_df = scaling_df.drop(\"date\", \"day\")\n",
    "\n",
    "scaling_df.display()"
   ]
  },
  {
   "cell_type": "code",
   "execution_count": 0,
   "metadata": {
    "application/vnd.databricks.v1+cell": {
     "cellMetadata": {
      "byteLimit": 2048000,
      "rowLimit": 10000
     },
     "inputWidgets": {},
     "nuid": "52449631-ff5e-41d2-9987-677800a5bdcd",
     "showTitle": false,
     "tableResultSettingsMap": {},
     "title": ""
    }
   },
   "outputs": [],
   "source": [
    "# 18. 최종 추정치 계산\n",
    "df_final = (\n",
    "    df_estimated\n",
    "    .join(scaling_df, on=[\"year\", \"month\"], how=\"left\")\n",
    "    .withColumn(\"final_est_passenger\", col(\"expected_passenger\") * col(\"scaling_passenger\"))\n",
    "    .withColumn(\"final_est_cargo\", col(\"expected_cargo\") * col(\"scaling_cargo\"))\n",
    ")\n",
    "\n",
    "df_final.display()"
   ]
  },
  {
   "cell_type": "code",
   "execution_count": 0,
   "metadata": {
    "application/vnd.databricks.v1+cell": {
     "cellMetadata": {
      "byteLimit": 2048000,
      "rowLimit": 10000
     },
     "inputWidgets": {},
     "nuid": "522c1d0b-f7e1-4b82-b91b-3e3f79df6004",
     "showTitle": false,
     "tableResultSettingsMap": {},
     "title": ""
    }
   },
   "outputs": [],
   "source": [
    "df_final.count()"
   ]
  },
  {
   "cell_type": "code",
   "execution_count": 0,
   "metadata": {
    "application/vnd.databricks.v1+cell": {
     "cellMetadata": {
      "byteLimit": 2048000,
      "rowLimit": 10000
     },
     "inputWidgets": {},
     "nuid": "38c6d55a-f914-4778-bf90-c86f20d19585",
     "showTitle": false,
     "tableResultSettingsMap": {},
     "title": ""
    }
   },
   "outputs": [],
   "source": [
    "# 19. 실제 값과 추정치 비교(1)\n",
    "df_final.agg(\n",
    "    _sum(\"final_est_passenger\").alias(\"total_estimated_passenger\"),\n",
    "    _sum(\"final_est_cargo\").alias(\"total_estimated_cargo\")).display()"
   ]
  },
  {
   "cell_type": "code",
   "execution_count": 0,
   "metadata": {
    "application/vnd.databricks.v1+cell": {
     "cellMetadata": {
      "byteLimit": 2048000,
      "rowLimit": 10000
     },
     "inputWidgets": {},
     "nuid": "4a7792c9-0ef5-4696-88e7-073000290232",
     "showTitle": false,
     "tableResultSettingsMap": {},
     "title": ""
    }
   },
   "outputs": [],
   "source": [
    "# 20. 실제 값과 추정치 비교(2)\n",
    "dm.agg(\n",
    "    _sum(\"passenger_departure\").alias(\"total_passenger\"),\n",
    "    _sum(\"cargo_departure\").alias(\"total_cargo\")\n",
    ").show()"
   ]
  },
  {
   "cell_type": "code",
   "execution_count": 0,
   "metadata": {
    "application/vnd.databricks.v1+cell": {
     "cellMetadata": {
      "byteLimit": 2048000,
      "rowLimit": 10000
     },
     "inputWidgets": {},
     "nuid": "db0b693f-34ee-41ec-be6e-5a9f7826bcbb",
     "showTitle": false,
     "tableResultSettingsMap": {
      "0": {
       "dataGridStateBlob": "{\"version\":1,\"tableState\":{\"columnPinning\":{\"left\":[\"#row_number#\"],\"right\":[]},\"columnSizing\":{},\"columnVisibility\":{}},\"settings\":{\"columns\":{}},\"syncTimestamp\":1752468729564}",
       "filterBlob": null,
       "queryPlanFiltersBlob": null,
       "tableResultIndex": 0
      }
     },
     "title": ""
    }
   },
   "outputs": [],
   "source": [
    "# 21. 사용할 컬럼 추출 및 메인 테이블과 조인\n",
    "df_final2 = df_final.select(\n",
    "    \"date\", \"year\", \"month\", \"day\", \"airline\", \"day_of_week\", \"flight_number\", \"destination_city\", \"scheduled_time\", \"departure_time\", \"flight_type\", \"status\", \"scheduled_hour\", \"departure_hour\", \"is_departed\", \"delayed_time\", \"delay_reason\", \"final_est_passenger\", \"final_est_cargo\"\n",
    ")\n",
    "df_final2 = df_final2.withColumn(\n",
    "    \"day\",\n",
    "    lpad(col(\"day\"), 2, \"0\")\n",
    ")\n",
    "\n",
    "df_final2.display()"
   ]
  },
  {
   "cell_type": "code",
   "execution_count": 0,
   "metadata": {
    "application/vnd.databricks.v1+cell": {
     "cellMetadata": {
      "byteLimit": 2048000,
      "rowLimit": 10000
     },
     "inputWidgets": {},
     "nuid": "e2c3608d-e6c4-4d52-bb5b-b8055caacd0b",
     "showTitle": false,
     "tableResultSettingsMap": {},
     "title": ""
    }
   },
   "outputs": [],
   "source": [
    "df_final2.count()"
   ]
  },
  {
   "cell_type": "code",
   "execution_count": 0,
   "metadata": {
    "application/vnd.databricks.v1+cell": {
     "cellMetadata": {
      "byteLimit": 2048000,
      "rowLimit": 10000
     },
     "inputWidgets": {},
     "nuid": "b442dd0d-e064-472e-a5a9-554c5931661d",
     "showTitle": false,
     "tableResultSettingsMap": {},
     "title": ""
    }
   },
   "outputs": [],
   "source": [
    "# 22. 공휴일 테이블 불러오기\n",
    "df_holiday = spark.table(\"`1team-postgresql-connection_catalog`.silver.silver_holiday_list\")\n",
    "\n",
    "df_holiday.display()"
   ]
  },
  {
   "cell_type": "code",
   "execution_count": 0,
   "metadata": {
    "application/vnd.databricks.v1+cell": {
     "cellMetadata": {
      "byteLimit": 2048000,
      "rowLimit": 10000
     },
     "inputWidgets": {},
     "nuid": "d0d01fed-9198-4a66-b453-f2f745f1beae",
     "showTitle": false,
     "tableResultSettingsMap": {
      "0": {
       "dataGridStateBlob": "{\"version\":1,\"tableState\":{\"columnPinning\":{\"left\":[\"#row_number#\"],\"right\":[]},\"columnSizing\":{},\"columnVisibility\":{}},\"settings\":{\"columns\":{}},\"syncTimestamp\":1752499630473}",
       "filterBlob": null,
       "queryPlanFiltersBlob": null,
       "tableResultIndex": 0
      }
     },
     "title": ""
    }
   },
   "outputs": [],
   "source": [
    "# 23. 공휴일 테이블과 조인\n",
    "df_final3 = df_final2.join(\n",
    "    df_holiday.select(\"year\", \"month\", \"day\").distinct().withColumn(\"date_kind\", F.lit(1)),\n",
    "    on=[\"year\", \"month\", \"day\"],\n",
    "    how=\"left\"\n",
    ").withColumn(\n",
    "    \"is_holiday\",\n",
    "    F.when(F.col(\"date_kind\").isNotNull(), 1).otherwise(0)\n",
    ").drop(\"date_kind\")\n",
    "\n",
    "\n",
    "df_final3.display()"
   ]
  },
  {
   "cell_type": "code",
   "execution_count": 0,
   "metadata": {
    "application/vnd.databricks.v1+cell": {
     "cellMetadata": {
      "byteLimit": 2048000,
      "rowLimit": 10000
     },
     "inputWidgets": {},
     "nuid": "2183f478-10cc-46cb-9c51-b96e5fa54e32",
     "showTitle": false,
     "tableResultSettingsMap": {},
     "title": ""
    }
   },
   "outputs": [],
   "source": [
    "df_final3.count()"
   ]
  },
  {
   "cell_type": "code",
   "execution_count": 0,
   "metadata": {
    "application/vnd.databricks.v1+cell": {
     "cellMetadata": {
      "byteLimit": 2048000,
      "rowLimit": 10000
     },
     "inputWidgets": {},
     "nuid": "9d4949b8-f366-4f72-a7c3-59d6bb39c99d",
     "showTitle": false,
     "tableResultSettingsMap": {},
     "title": ""
    }
   },
   "outputs": [],
   "source": [
    "# 24. 기상 테이블 불러오기\n",
    "df_weather = spark.table(\"`1team-postgresql-connection_catalog`.silver.silver_temperature\")\n",
    "\n",
    "df_weather.display()"
   ]
  },
  {
   "cell_type": "code",
   "execution_count": 0,
   "metadata": {
    "application/vnd.databricks.v1+cell": {
     "cellMetadata": {
      "byteLimit": 2048000,
      "rowLimit": 10000
     },
     "inputWidgets": {},
     "nuid": "52707953-085a-45e6-b8c7-4f7ee03821ef",
     "showTitle": false,
     "tableResultSettingsMap": {},
     "title": ""
    }
   },
   "outputs": [],
   "source": [
    "# 25. 필요한 컬럼 추출, month 컬럼 0 추가\n",
    "df_weather2 = df_weather.select(\n",
    "    \"year\", \"month\", \"day\", col(\"time\").alias(\"scheduled_hour\"),\n",
    "    \"wind_speed\", \"visibillity\", \"weather_phenomenon\",\n",
    "    \"temperature\", \"dew_point_temp\", \"precipitation\"\n",
    ").distinct()\n",
    "\n",
    "df_weather2 = df_weather2.withColumn(\n",
    "    \"month\",\n",
    "    lpad(col(\"month\"), 2, \"0\")\n",
    ")\n",
    "\n",
    "df_weather2.display()"
   ]
  },
  {
   "cell_type": "code",
   "execution_count": 0,
   "metadata": {
    "application/vnd.databricks.v1+cell": {
     "cellMetadata": {
      "byteLimit": 2048000,
      "rowLimit": 10000
     },
     "inputWidgets": {},
     "nuid": "2ed1ea4b-781a-48c3-97ed-7e06aff06f2d",
     "showTitle": false,
     "tableResultSettingsMap": {
      "0": {
       "dataGridStateBlob": "{\"version\":1,\"tableState\":{\"columnPinning\":{\"left\":[\"#row_number#\"],\"right\":[]},\"columnSizing\":{},\"columnVisibility\":{}},\"settings\":{\"columns\":{}},\"syncTimestamp\":1752230058905}",
       "filterBlob": null,
       "queryPlanFiltersBlob": null,
       "tableResultIndex": 0
      }
     },
     "title": ""
    }
   },
   "outputs": [],
   "source": [
    "# 26. 메인 테이블과 조인\n",
    "df_gold = df_final3.join(\n",
    "    df_weather2,\n",
    "    on=[\"year\", \"month\", \"day\", \"scheduled_hour\"],\n",
    "    how=\"left\"\n",
    ").orderBy(\n",
    "    col(\"year\").cast(\"int\"),\n",
    "    col(\"month\").cast(\"int\"),\n",
    "    col(\"day\").cast(\"int\"),\n",
    "    col(\"departure_hour\").cast(\"int\"),\n",
    "    col(\"airline\")\n",
    ")\n",
    "\n",
    "df_gold.display()"
   ]
  },
  {
   "cell_type": "code",
   "execution_count": 0,
   "metadata": {
    "application/vnd.databricks.v1+cell": {
     "cellMetadata": {
      "byteLimit": 2048000,
      "rowLimit": 10000
     },
     "inputWidgets": {},
     "nuid": "497cef94-b817-4855-a8de-15278656508a",
     "showTitle": false,
     "tableResultSettingsMap": {},
     "title": ""
    }
   },
   "outputs": [],
   "source": [
    "df_gold.count()"
   ]
  },
  {
   "cell_type": "code",
   "execution_count": 0,
   "metadata": {
    "application/vnd.databricks.v1+cell": {
     "cellMetadata": {
      "byteLimit": 2048000,
      "rowLimit": 10000
     },
     "inputWidgets": {},
     "nuid": "3ce95c1e-ff58-4848-a710-cae07a45fe68",
     "showTitle": false,
     "tableResultSettingsMap": {
      "0": {
       "dataGridStateBlob": "{\"version\":1,\"tableState\":{\"columnPinning\":{\"left\":[\"#row_number#\"],\"right\":[]},\"columnSizing\":{},\"columnVisibility\":{}},\"settings\":{\"columns\":{}},\"syncTimestamp\":1752500995645}",
       "filterBlob": null,
       "queryPlanFiltersBlob": null,
       "tableResultIndex": 0
      }
     },
     "title": ""
    }
   },
   "outputs": [],
   "source": [
    "# 27. 기상 데이터 소수점 처리\n",
    "df_gold =  df_gold.withColumn(\"temperature\", format_number(col(\"temperature\"), 2)) \\\n",
    "                            .withColumn(\"dew_point_temp\", format_number(col(\"dew_point_temp\"), 2))\n",
    "\n",
    "df_gold.display()"
   ]
  },
  {
   "cell_type": "code",
   "execution_count": 0,
   "metadata": {
    "application/vnd.databricks.v1+cell": {
     "cellMetadata": {
      "byteLimit": 2048000,
      "rowLimit": 10000
     },
     "inputWidgets": {},
     "nuid": "cb161e04-c222-4072-b808-561b9ec9106d",
     "showTitle": false,
     "tableResultSettingsMap": {},
     "title": ""
    }
   },
   "outputs": [],
   "source": [
    "# 28. 예상 승객 수, 예상 화물량 소수점 처리\n",
    "df_gold2 =  df_gold.withColumn(\"final_est_passenger\", format_number(col(\"final_est_passenger\"), 2)) \\\n",
    "                            .withColumn(\"final_est_cargo\", format_number(col(\"final_est_cargo\"), 2))\n",
    "\n",
    "df_gold2.display()"
   ]
  },
  {
   "cell_type": "code",
   "execution_count": 0,
   "metadata": {
    "application/vnd.databricks.v1+cell": {
     "cellMetadata": {
      "byteLimit": 2048000,
      "rowLimit": 10000
     },
     "inputWidgets": {},
     "nuid": "de685f96-ab6a-4e02-badf-9708e50c9124",
     "showTitle": false,
     "tableResultSettingsMap": {
      "0": {
       "dataGridStateBlob": "{\"version\":1,\"tableState\":{\"columnPinning\":{\"left\":[\"#row_number#\"],\"right\":[]},\"columnSizing\":{},\"columnVisibility\":{}},\"settings\":{\"columns\":{}},\"syncTimestamp\":1752501138580}",
       "filterBlob": null,
       "queryPlanFiltersBlob": null,
       "tableResultIndex": 0
      }
     },
     "title": ""
    }
   },
   "outputs": [],
   "source": [
    "# 29. delayed_time 컬럼 정제\n",
    "reg_df = df_gold2.withColumn(\n",
    "    \"delayed_time\",\n",
    "    when(col(\"delayed_time\") < 0, 0)              # 조기출발(음수) → 0\n",
    "    .when(col(\"delayed_time\").isNull(), None)     # 취소 등 결측치는 그대로\n",
    "    .otherwise(col(\"delayed_time\"))               # 나머지는 그대로\n",
    ")\n",
    "\n",
    "reg_df.display()"
   ]
  },
  {
   "cell_type": "code",
   "execution_count": 0,
   "metadata": {
    "application/vnd.databricks.v1+cell": {
     "cellMetadata": {
      "byteLimit": 2048000,
      "rowLimit": 10000
     },
     "inputWidgets": {},
     "nuid": "086c93b2-abd0-4c05-b7f0-f81fa8440de8",
     "showTitle": false,
     "tableResultSettingsMap": {
      "0": {
       "dataGridStateBlob": "{\"version\":1,\"tableState\":{\"columnPinning\":{\"left\":[\"#row_number#\"],\"right\":[]},\"columnSizing\":{},\"columnVisibility\":{}},\"settings\":{\"columns\":{}},\"syncTimestamp\":1752232731195}",
       "filterBlob": null,
       "queryPlanFiltersBlob": null,
       "tableResultIndex": 0
      }
     },
     "title": ""
    }
   },
   "outputs": [],
   "source": [
    "# 30. 지연 정도 컬럼 정제\n",
    "reg_df = reg_df.withColumn(\n",
    "    \"delay_category\",\n",
    "    when(col(\"delayed_time\") < 25, \"정상\")\n",
    "    .when(col(\"delayed_time\") < 30, \"경미한 지연\")\n",
    "    .when(col(\"delayed_time\") < 40, \"중간 지연\")\n",
    "    .otherwise(\"심각한 지연\")\n",
    ")\n",
    "\n",
    "reg_df.display()"
   ]
  },
  {
   "cell_type": "code",
   "execution_count": 0,
   "metadata": {
    "application/vnd.databricks.v1+cell": {
     "cellMetadata": {
      "byteLimit": 2048000,
      "rowLimit": 10000
     },
     "inputWidgets": {},
     "nuid": "ceab16b7-8d61-4e53-b4c5-0bf83e333d62",
     "showTitle": false,
     "tableResultSettingsMap": {},
     "title": ""
    }
   },
   "outputs": [],
   "source": [
    "# 31. 컬럼 타입 변환\n",
    "reg_df = (\n",
    "    reg_df\n",
    "    .withColumn(\"date\", to_date(col(\"date\")))  # 문자열 → 날짜(datetime)\n",
    "    .withColumn(\"year\", col(\"year\").cast(\"int\"))\n",
    "    .withColumn(\"month\", col(\"month\").cast(\"int\"))\n",
    "    .withColumn(\"day\", col(\"day\").cast(\"int\"))\n",
    "    .withColumn(\"day_of_week\", col(\"day_of_week\").cast(\"int\"))\n",
    "    .withColumn(\"airline\", col(\"airline\").cast(\"string\"))\n",
    "    .withColumn(\"is_holiday\", col(\"is_holiday\").cast(\"int\"))\n",
    "    .withColumn(\"flight_number\", col(\"flight_number\").cast(\"string\"))\n",
    "    .withColumn(\"destination_city\", col(\"destination_city\").cast(\"string\"))\n",
    "    .withColumn(\"flight_type\", col(\"flight_type\").cast(\"string\"))\n",
    "    .withColumn(\"status\", col(\"status\").cast(\"string\"))\n",
    "    .withColumn(\"scheduled_time\", col(\"scheduled_time\").cast(\"string\"))\n",
    "    .withColumn(\"scheduled_hour\", col(\"scheduled_hour\").cast(\"int\"))\n",
    "    .withColumn(\"departure_time\", col(\"departure_time\").cast(\"string\"))\n",
    "    .withColumn(\"departure_hour\", col(\"departure_hour\").cast(\"int\"))\n",
    "    .withColumn(\"delayed_time\", col(\"delayed_time\").cast(\"int\"))\n",
    "    .withColumn(\"is_departed\", col(\"is_departed\").cast(\"int\"))\n",
    "    .withColumn(\"final_est_passenger\", col(\"final_est_passenger\").cast(\"float\"))\n",
    "    .withColumn(\"final_est_cargo\", col(\"final_est_cargo\").cast(\"float\"))\n",
    "    .withColumn(\"wind_speed\", col(\"wind_speed\").cast(\"int\"))\n",
    "    .withColumn(\"visibillity\", col(\"visibillity\").cast(\"int\"))\n",
    "    .withColumn(\"weather_phenomenon\", col(\"weather_phenomenon\").cast(\"int\"))\n",
    "    .withColumn(\"precipitation\", col(\"precipitation\").cast(\"int\"))\n",
    ")\n",
    "\n",
    "reg_df.display()"
   ]
  },
  {
   "cell_type": "code",
   "execution_count": 0,
   "metadata": {
    "application/vnd.databricks.v1+cell": {
     "cellMetadata": {
      "byteLimit": 2048000,
      "rowLimit": 10000
     },
     "inputWidgets": {},
     "nuid": "745c528c-52e0-4cbd-acf3-7800449f3f4f",
     "showTitle": false,
     "tableResultSettingsMap": {
      "0": {
       "dataGridStateBlob": "{\"version\":1,\"tableState\":{\"columnPinning\":{\"left\":[\"#row_number#\"],\"right\":[]},\"columnSizing\":{},\"columnVisibility\":{}},\"settings\":{\"columns\":{}},\"syncTimestamp\":1752234725823}",
       "filterBlob": null,
       "queryPlanFiltersBlob": null,
       "tableResultIndex": 0
      }
     },
     "title": ""
    }
   },
   "outputs": [],
   "source": [
    "# 32. 분위수 값 미리 계산\n",
    "q1 = reg_df.approxQuantile(\"final_est_passenger\", [0.2], 0.01)[0]\n",
    "q2 = reg_df.approxQuantile(\"final_est_passenger\", [0.7], 0.01)[0]\n",
    "\n",
    "reg_df = reg_df.withColumn(\n",
    "    \"congestion_level\",\n",
    "    when(col(\"final_est_passenger\") < q1, \"여유\")\n",
    "    .when(col(\"final_est_passenger\") < q2, \"보통\")\n",
    "    .otherwise(\"혼잡\")\n",
    ")\n",
    "reg_df.display()"
   ]
  },
  {
   "cell_type": "code",
   "execution_count": 0,
   "metadata": {
    "application/vnd.databricks.v1+cell": {
     "cellMetadata": {
      "byteLimit": 2048000,
      "rowLimit": 10000
     },
     "inputWidgets": {},
     "nuid": "803a8a1f-f358-467b-82e1-fb6b658a268f",
     "showTitle": false,
     "tableResultSettingsMap": {},
     "title": ""
    }
   },
   "outputs": [],
   "source": [
    "reg_df.count()"
   ]
  },
  {
   "cell_type": "code",
   "execution_count": 0,
   "metadata": {
    "application/vnd.databricks.v1+cell": {
     "cellMetadata": {
      "byteLimit": 2048000,
      "rowLimit": 10000
     },
     "inputWidgets": {},
     "nuid": "861bb985-861f-407e-bf02-7357b6e6528e",
     "showTitle": false,
     "tableResultSettingsMap": {},
     "title": ""
    }
   },
   "outputs": [],
   "source": [
    "# 33. 컬럼 순서 정리\n",
    "column_order = [\n",
    "    # 날짜/시간\n",
    "    \"date\", \"year\", \"month\", \"day\", \"day_of_week\", \"is_holiday\",\n",
    "    \"scheduled_time\", \"scheduled_hour\", \"departure_time\", \"departure_hour\",\n",
    "\n",
    "    # 항공편/운항 정보\n",
    "    \"airline\", \"flight_number\",\"destination_city\", \"flight_type\", \n",
    "    \"final_est_passenger\", \"final_est_cargo\",\"congestion_level\",\n",
    "\n",
    "    # 운항 상태/지연\n",
    "    \"status\", \"is_departed\", \"delayed_time\", \"delay_category\", \"delay_reason\",\n",
    "\n",
    "    # 기상/환경\n",
    "    \"wind_speed\", \"visibillity\", \"weather_phenomenon\",\n",
    "    \"temperature\", \"dew_point_temp\", \"precipitation\"\n",
    "]\n",
    "reg_df = reg_df.select(column_order)\n",
    "reg_df.display()"
   ]
  },
  {
   "cell_type": "code",
   "execution_count": 0,
   "metadata": {
    "application/vnd.databricks.v1+cell": {
     "cellMetadata": {
      "byteLimit": 2048000,
      "rowLimit": 10000
     },
     "inputWidgets": {},
     "nuid": "f7c2663e-3621-467a-944b-125a8caaca76",
     "showTitle": false,
     "tableResultSettingsMap": {},
     "title": ""
    }
   },
   "outputs": [],
   "source": [
    "# 34. flight_type별 평균(expected_cargo) 구하기\n",
    "reg_df.groupBy(\"flight_type\").agg(\n",
    "    F.avg(\"final_est_cargo\").alias(\"avg_cargo\"),\n",
    "    F.sum(\"final_est_cargo\").alias(\"sum_cargo\"),\n",
    "    F.count(\"*\").alias(\"flight_count\")\n",
    ").orderBy(\"flight_type\").display()"
   ]
  },
  {
   "cell_type": "code",
   "execution_count": 0,
   "metadata": {
    "application/vnd.databricks.v1+cell": {
     "cellMetadata": {
      "byteLimit": 2048000,
      "rowLimit": 10000
     },
     "inputWidgets": {},
     "nuid": "781cbadf-f220-4881-9fbf-daf6827d067e",
     "showTitle": false,
     "tableResultSettingsMap": {},
     "title": ""
    }
   },
   "outputs": [],
   "source": [
    "# 35. 누락값 확인\n",
    "df_null = reg_df.filter(\n",
    "    reduce(lambda x, y: x | y, (col(c).isNull() for c in reg_df.columns))\n",
    ")\n",
    "df_null.display()"
   ]
  },
  {
   "cell_type": "code",
   "execution_count": 0,
   "metadata": {
    "application/vnd.databricks.v1+cell": {
     "cellMetadata": {
      "byteLimit": 2048000,
      "rowLimit": 10000
     },
     "inputWidgets": {},
     "nuid": "d09d208e-d4c8-4ae4-b6cd-11113211605b",
     "showTitle": false,
     "tableResultSettingsMap": {},
     "title": ""
    }
   },
   "outputs": [],
   "source": [
    "# 36. 누락값 제거\n",
    "reg_df = reg_df.dropna()\n",
    "\n",
    "reg_df.count()"
   ]
  },
  {
   "cell_type": "code",
   "execution_count": 0,
   "metadata": {
    "application/vnd.databricks.v1+cell": {
     "cellMetadata": {
      "byteLimit": 2048000,
      "rowLimit": 10000
     },
     "inputWidgets": {},
     "nuid": "d623362c-3ba5-4915-8d25-245ad1ebfd66",
     "showTitle": false,
     "tableResultSettingsMap": {},
     "title": ""
    }
   },
   "outputs": [],
   "source": [
    "# 37. db 저장\n",
    "host = \"1dt-2nd-team1-postgres.postgres.database.azure.com\"\n",
    "port = \"5432\"\n",
    "database = \"postgres\"\n",
    "user = \"azureuser\"\n",
    "password = \"asdASD123!@#\"\n",
    "jdbc_url = f\"jdbc:postgresql://{host}:{port}/{database}?sslmode=require\"\n",
    "\n",
    "reg_df.orderBy(\n",
    "    col(\"date\"),\n",
    "    col(\"year\"),\n",
    "    col(\"month\"),\n",
    "    col(\"day\"),\n",
    "    col(\"scheduled_time\")\n",
    ").write.format(\"jdbc\").option(\"url\", jdbc_url).option(\"dbtable\", \"gold.gold_flight_info\").option(\"user\", user).option(\"password\", password) \\\n",
    "    .option(\"driver\", \"org.postgresql.Driver\") \\\n",
    "    .mode(\"append\") \\\n",
    "    .save()"
   ]
  },
  {
   "cell_type": "code",
   "execution_count": 0,
   "metadata": {
    "application/vnd.databricks.v1+cell": {
     "cellMetadata": {
      "byteLimit": 2048000,
      "rowLimit": 10000
     },
     "inputWidgets": {},
     "nuid": "39829125-957a-4ba0-b5c7-c59535d45e58",
     "showTitle": false,
     "tableResultSettingsMap": {},
     "title": ""
    }
   },
   "outputs": [],
   "source": []
  }
 ],
 "metadata": {
  "application/vnd.databricks.v1+notebook": {
   "computePreferences": null,
   "dashboards": [],
   "environmentMetadata": {
    "base_environment": "",
    "environment_version": "2"
   },
   "inputWidgetPreferences": null,
   "language": "python",
   "notebookMetadata": {
    "pythonIndentUnit": 4
   },
   "notebookName": "정적 골드테이블",
   "widgets": {}
  },
  "language_info": {
   "name": "python"
  }
 },
 "nbformat": 4,
 "nbformat_minor": 0
}