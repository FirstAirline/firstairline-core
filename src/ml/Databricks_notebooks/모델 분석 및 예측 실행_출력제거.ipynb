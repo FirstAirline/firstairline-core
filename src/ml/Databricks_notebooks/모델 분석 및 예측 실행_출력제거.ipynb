{
 "cells": [
  {
   "cell_type": "markdown",
   "metadata": {
    "application/vnd.databricks.v1+cell": {
     "cellMetadata": {},
     "inputWidgets": {},
     "nuid": "b2d9d20e-ef19-4580-9bf5-ebec68af324f",
     "showTitle": false,
     "tableResultSettingsMap": {},
     "title": ""
    }
   },
   "source": [
    "# 데이터 불러오기"
   ]
  },
  {
   "cell_type": "code",
   "execution_count": 0,
   "metadata": {
    "application/vnd.databricks.v1+cell": {
     "cellMetadata": {
      "byteLimit": 2048000,
      "rowLimit": 10000
     },
     "inputWidgets": {},
     "nuid": "188a14d2-7fe3-4822-81e4-f456ff0d9e07",
     "showTitle": false,
     "tableResultSettingsMap": {},
     "title": ""
    }
   },
   "outputs": [],
   "source": [
    "df_flight = spark.table(\"`1team-postgresql-connection_catalog`.gold.df_flight\")\n",
    "\n"
   ]
  },
  {
   "cell_type": "code",
   "execution_count": 0,
   "metadata": {
    "application/vnd.databricks.v1+cell": {
     "cellMetadata": {},
     "inputWidgets": {},
     "nuid": "f97fb253-7369-4fd0-8869-691766b96493",
     "showTitle": false,
     "tableResultSettingsMap": {},
     "title": ""
    }
   },
   "outputs": [],
   "source": [
    "df_api = spark.table(\"`1team-postgresql-connection_catalog`.gold.df_api\")"
   ]
  },
  {
   "cell_type": "code",
   "execution_count": 0,
   "metadata": {
    "application/vnd.databricks.v1+cell": {
     "cellMetadata": {
      "byteLimit": 2048000,
      "rowLimit": 10000
     },
     "inputWidgets": {},
     "nuid": "4d1b410e-dc43-4b9a-8318-1a2b5a2ddde6",
     "showTitle": false,
     "tableResultSettingsMap": {},
     "title": ""
    }
   },
   "outputs": [],
   "source": [
    "df_flight.show(5)\n",
    "df_api.show(5)\n"
   ]
  },
  {
   "cell_type": "markdown",
   "metadata": {
    "application/vnd.databricks.v1+cell": {
     "cellMetadata": {},
     "inputWidgets": {},
     "nuid": "8a060799-4c73-4b6b-a6df-8f31824d8b6b",
     "showTitle": false,
     "tableResultSettingsMap": {},
     "title": ""
    }
   },
   "source": [
    "#모델 분석"
   ]
  },
  {
   "cell_type": "markdown",
   "metadata": {
    "application/vnd.databricks.v1+cell": {
     "cellMetadata": {},
     "inputWidgets": {},
     "nuid": "6cf1cfd0-dca1-4c4b-95a6-377b7e9487f0",
     "showTitle": false,
     "tableResultSettingsMap": {},
     "title": ""
    }
   },
   "source": [
    "## 희망 모델\n",
    "-선형회귀\n",
    "-랜덤포레스트\n",
    "-xgboost\n",
    "-ligthgbm\n",
    "-fcnn(딥러닝)\n",
    "-릿지회귀\n",
    "-catboost"
   ]
  },
  {
   "cell_type": "code",
   "execution_count": 0,
   "metadata": {
    "application/vnd.databricks.v1+cell": {
     "cellMetadata": {
      "byteLimit": 2048000,
      "rowLimit": 10000
     },
     "inputWidgets": {},
     "nuid": "8bcffa51-6b55-4c81-9e77-18dc1fe38d8d",
     "showTitle": false,
     "tableResultSettingsMap": {},
     "title": ""
    }
   },
   "outputs": [],
   "source": [
    "# Spark DataFrame → Pandas\n",
    "df = df_flight.toPandas()\n",
    "\n",
    "# ✅ 공통 결측 제거\n",
    "df = df.dropna()\n",
    "\n",
    "# ✅ 범주형 인코딩 (원핫)\n",
    "df_encoded = pd.get_dummies(df, columns=[\"congestion_level\"], drop_first=True)\n",
    "\n",
    "# ✅ 입력(X), 출력(y)\n",
    "X_base = df_encoded.drop(columns=[\"delayed_time\"])\n",
    "y = df_encoded[\"delayed_time\"]\n"
   ]
  },
  {
   "cell_type": "markdown",
   "metadata": {
    "application/vnd.databricks.v1+cell": {
     "cellMetadata": {},
     "inputWidgets": {},
     "nuid": "95cf2d17-0fba-4fb7-a928-9a0fd04e6e28",
     "showTitle": false,
     "tableResultSettingsMap": {},
     "title": ""
    }
   },
   "source": [
    "### 선형회귀"
   ]
  },
  {
   "cell_type": "code",
   "execution_count": 0,
   "metadata": {
    "application/vnd.databricks.v1+cell": {
     "cellMetadata": {
      "byteLimit": 2048000,
      "rowLimit": 10000
     },
     "inputWidgets": {},
     "nuid": "a284b500-4170-43fc-84d4-af2555a60dfb",
     "showTitle": false,
     "tableResultSettingsMap": {},
     "title": ""
    }
   },
   "outputs": [],
   "source": [
    "# 모델 이름별 결과 저장을 위한 리스트 생성\n",
    "model_results = []\n"
   ]
  },
  {
   "cell_type": "code",
   "execution_count": 0,
   "metadata": {
    "application/vnd.databricks.v1+cell": {
     "cellMetadata": {
      "byteLimit": 2048000,
      "rowLimit": 10000
     },
     "inputWidgets": {},
     "nuid": "bd5e8cf3-db58-42f7-a4fb-8b10c8e081e7",
     "showTitle": false,
     "tableResultSettingsMap": {},
     "title": ""
    }
   },
   "outputs": [],
   "source": [
    "from sklearn.linear_model import LinearRegression\n",
    "from sklearn.metrics import mean_absolute_error, mean_squared_error, r2_score\n",
    "from sklearn.model_selection import train_test_split\n",
    "\n",
    "# \uD83D\uDD39 1. 입력 복사\n",
    "X = X_base.copy()\n",
    "\n",
    "# \uD83D\uDD39 2. 학습/테스트 분할\n",
    "X_train, X_test, y_train, y_test = train_test_split(\n",
    "    X, y, test_size=0.2, random_state=42\n",
    ")\n",
    "\n",
    "# \uD83D\uDD39 3. 모델 학습\n",
    "model_lr = LinearRegression()\n",
    "model_lr.fit(X_train, y_train)\n",
    "\n",
    "# \uD83D\uDD39 4. 예측\n",
    "y_pred = model_lr.predict(X_test)\n",
    "\n",
    "# \uD83D\uDD39 5. 성능 평가\n",
    "mae = mean_absolute_error(y_test, y_pred)\n",
    "rmse = mean_squared_error(y_test, y_pred, squared=False)\n",
    "r2 = r2_score(y_test, y_pred)\n",
    "\n",
    "print(\"\uD83D\uDCCA 선형 회귀 성능\")\n",
    "print(f\"MAE  : {mae:.2f}분\")\n",
    "print(f\"RMSE : {rmse:.2f}분\")\n",
    "print(f\"R²   : {r2:.3f}\")\n"
   ]
  },
  {
   "cell_type": "code",
   "execution_count": 0,
   "metadata": {
    "application/vnd.databricks.v1+cell": {
     "cellMetadata": {
      "byteLimit": 2048000,
      "rowLimit": 10000
     },
     "inputWidgets": {},
     "nuid": "2c308490-d313-47de-894f-f71fc11eeee7",
     "showTitle": false,
     "tableResultSettingsMap": {},
     "title": ""
    }
   },
   "outputs": [],
   "source": [
    "model_results.append({\n",
    "    '모델': 'Linear Regression',\n",
    "    'MAE': mae,\n",
    "    'RMSE': rmse,\n",
    "    'R2': r2\n",
    "})\n"
   ]
  },
  {
   "cell_type": "markdown",
   "metadata": {
    "application/vnd.databricks.v1+cell": {
     "cellMetadata": {},
     "inputWidgets": {},
     "nuid": "9bc1a2ca-5593-4ee1-b2f3-c136ba501643",
     "showTitle": false,
     "tableResultSettingsMap": {},
     "title": ""
    }
   },
   "source": [
    "### 랜덤포레스트"
   ]
  },
  {
   "cell_type": "code",
   "execution_count": 0,
   "metadata": {
    "application/vnd.databricks.v1+cell": {
     "cellMetadata": {
      "byteLimit": 2048000,
      "rowLimit": 10000
     },
     "inputWidgets": {},
     "nuid": "6e8096b2-91eb-42ec-b1e1-fac9613a4c20",
     "showTitle": false,
     "tableResultSettingsMap": {},
     "title": ""
    }
   },
   "outputs": [],
   "source": [
    "from sklearn.model_selection import train_test_split\n",
    "from sklearn.ensemble import RandomForestRegressor\n",
    "from sklearn.metrics import mean_absolute_error, mean_squared_error, r2_score\n",
    "\n",
    "# \uD83D\uDD39 1. 입력 복사 (방금 만든 공통 X_base 활용)\n",
    "X = X_base.copy()\n",
    "\n",
    "# \uD83D\uDD39 2. 학습/테스트 분리\n",
    "X_train, X_test, y_train, y_test = train_test_split(\n",
    "    X, y, test_size=0.2, random_state=42\n",
    ")\n",
    "\n",
    "# \uD83D\uDD39 3. 모델 생성\n",
    "rf_model = RandomForestRegressor(\n",
    "    n_estimators=100,\n",
    "    max_depth=None,\n",
    "    random_state=42\n",
    ")\n",
    "\n",
    "# \uD83D\uDD39 4. 학습\n",
    "rf_model.fit(X_train, y_train)\n",
    "\n",
    "# \uD83D\uDD39 5. 예측\n",
    "y_pred = rf_model.predict(X_test)\n",
    "\n",
    "# \uD83D\uDD39 6. 성능 평가\n",
    "mae = mean_absolute_error(y_test, y_pred)\n",
    "rmse = mean_squared_error(y_test, y_pred, squared=False)\n",
    "r2 = r2_score(y_test, y_pred)\n",
    "\n",
    "print(\"\uD83C\uDF32 랜덤포레스트 회귀 성능\")\n",
    "print(f\"MAE  : {mae:.2f}분\")\n",
    "print(f\"RMSE : {rmse:.2f}분\")\n",
    "print(f\"R²   : {r2:.3f}\")\n"
   ]
  },
  {
   "cell_type": "code",
   "execution_count": 0,
   "metadata": {
    "application/vnd.databricks.v1+cell": {
     "cellMetadata": {
      "byteLimit": 2048000,
      "rowLimit": 10000
     },
     "inputWidgets": {},
     "nuid": "9c32c7b8-3e6e-4b88-9558-8534b601061c",
     "showTitle": false,
     "tableResultSettingsMap": {},
     "title": ""
    }
   },
   "outputs": [],
   "source": [
    "model_results.append({\n",
    "    '모델': 'Random Forest',\n",
    "    'MAE': mae,\n",
    "    'RMSE': rmse,\n",
    "    'R2': r2\n",
    "})\n"
   ]
  },
  {
   "cell_type": "code",
   "execution_count": 0,
   "metadata": {
    "application/vnd.databricks.v1+cell": {
     "cellMetadata": {
      "byteLimit": 2048000,
      "rowLimit": 10000
     },
     "inputWidgets": {},
     "nuid": "6bc5f5f4-c65d-4a3e-b796-612993188707",
     "showTitle": false,
     "tableResultSettingsMap": {},
     "title": ""
    }
   },
   "outputs": [],
   "source": [
    "import matplotlib.pyplot as plt\n",
    "import numpy as np\n",
    "#피쳐중요도 확인\n",
    "# \uD83D\uDD39 중요도 추출\n",
    "importances = rf_model.feature_importances_\n",
    "indices = np.argsort(importances)[::-1]\n",
    "\n",
    "# \uD83D\uDD39 시각화\n",
    "plt.figure(figsize=(10, 5))\n",
    "plt.title(\"\uD83C\uDFAF Variable Importance - Random Forest\")\n",
    "plt.bar(range(X.shape[1]), importances[indices], align='center')\n",
    "plt.xticks(range(X.shape[1]), X.columns[indices], rotation=45, ha='right')\n",
    "plt.tight_layout()\n",
    "plt.show()\n"
   ]
  },
  {
   "cell_type": "markdown",
   "metadata": {
    "application/vnd.databricks.v1+cell": {
     "cellMetadata": {},
     "inputWidgets": {},
     "nuid": "07b7aaa8-89c2-4384-9910-6b6e396f17c1",
     "showTitle": false,
     "tableResultSettingsMap": {},
     "title": ""
    }
   },
   "source": [
    "###xgboost"
   ]
  },
  {
   "cell_type": "code",
   "execution_count": 0,
   "metadata": {
    "application/vnd.databricks.v1+cell": {
     "cellMetadata": {
      "byteLimit": 2048000,
      "rowLimit": 10000
     },
     "inputWidgets": {},
     "nuid": "28eb6b23-ca1f-4002-b25d-9ce69f9e830d",
     "showTitle": false,
     "tableResultSettingsMap": {},
     "title": ""
    }
   },
   "outputs": [],
   "source": [
    "%pip install xgboost"
   ]
  },
  {
   "cell_type": "code",
   "execution_count": 0,
   "metadata": {
    "application/vnd.databricks.v1+cell": {
     "cellMetadata": {
      "byteLimit": 2048000,
      "rowLimit": 10000
     },
     "inputWidgets": {},
     "nuid": "a30c5ab6-51cb-4cfb-b764-0605a4888168",
     "showTitle": false,
     "tableResultSettingsMap": {},
     "title": ""
    }
   },
   "outputs": [],
   "source": [
    "from xgboost import XGBRegressor\n",
    "from sklearn.model_selection import train_test_split\n",
    "from sklearn.metrics import mean_absolute_error, mean_squared_error, r2_score\n",
    "\n",
    "# ⛳ 에러 해결을 위한 데이터 타입 정리\n",
    "X = X_base.copy().apply(pd.to_numeric, errors='coerce')  # <-- 핵심\n",
    "y = y.copy()\n",
    "\n",
    "# 결측값 제거 (NaN 발생했을 수도 있음)\n",
    "combined = pd.concat([X, y], axis=1).dropna()\n",
    "X = combined.drop(columns=[\"delayed_time\"])\n",
    "y = combined[\"delayed_time\"]\n",
    "\n",
    "# Train/Test 분리\n",
    "X_train, X_test, y_train, y_test = train_test_split(\n",
    "    X, y, test_size=0.2, random_state=42\n",
    ")\n",
    "\n",
    "# 모델 생성 및 학습\n",
    "xgb_model = XGBRegressor(n_estimators=100, max_depth=6, random_state=42)\n",
    "xgb_model.fit(X_train, y_train)\n",
    "\n",
    "# 예측\n",
    "y_pred = xgb_model.predict(X_test)\n",
    "\n",
    "# 평가\n",
    "mae = mean_absolute_error(y_test, y_pred)\n",
    "rmse = mean_squared_error(y_test, y_pred, squared=False)\n",
    "r2 = r2_score(y_test, y_pred)\n",
    "\n",
    "print(\"\uD83D\uDCC8 XGBoost 회귀 성능\")\n",
    "print(f\"MAE  : {mae:.2f}분\")\n",
    "print(f\"RMSE : {rmse:.2f}분\")\n",
    "print(f\"R²   : {r2:.3f}\")\n"
   ]
  },
  {
   "cell_type": "code",
   "execution_count": 0,
   "metadata": {
    "application/vnd.databricks.v1+cell": {
     "cellMetadata": {
      "byteLimit": 2048000,
      "rowLimit": 10000
     },
     "inputWidgets": {},
     "nuid": "27b79460-3112-47cf-b6b8-3e0386769c85",
     "showTitle": false,
     "tableResultSettingsMap": {},
     "title": ""
    }
   },
   "outputs": [],
   "source": [
    "model_results.append({\n",
    "    '모델': 'XGBoost',\n",
    "    'MAE': mae,\n",
    "    'RMSE': rmse,\n",
    "    'R2': r2\n",
    "})\n"
   ]
  },
  {
   "cell_type": "markdown",
   "metadata": {
    "application/vnd.databricks.v1+cell": {
     "cellMetadata": {},
     "inputWidgets": {},
     "nuid": "d400dc6d-ca23-4683-a0d2-e297a3122a9a",
     "showTitle": false,
     "tableResultSettingsMap": {},
     "title": ""
    }
   },
   "source": [
    "### lightgbm"
   ]
  },
  {
   "cell_type": "code",
   "execution_count": 0,
   "metadata": {
    "application/vnd.databricks.v1+cell": {
     "cellMetadata": {
      "byteLimit": 2048000,
      "rowLimit": 10000
     },
     "inputWidgets": {},
     "nuid": "585a37cf-2508-4892-a04d-9ffcdf03bdb8",
     "showTitle": false,
     "tableResultSettingsMap": {},
     "title": ""
    }
   },
   "outputs": [],
   "source": [
    "%pip install lightgbm\n"
   ]
  },
  {
   "cell_type": "code",
   "execution_count": 0,
   "metadata": {
    "application/vnd.databricks.v1+cell": {
     "cellMetadata": {
      "byteLimit": 2048000,
      "rowLimit": 10000
     },
     "inputWidgets": {},
     "nuid": "09642abb-51e1-4168-999e-471230dbab20",
     "showTitle": false,
     "tableResultSettingsMap": {},
     "title": ""
    }
   },
   "outputs": [],
   "source": [
    "# 1. 라이브러리 로드 및 패키지 설치\n",
    "# %pip install lightgbm\n",
    "\n",
    "import pandas as pd\n",
    "from lightgbm import LGBMRegressor\n",
    "from sklearn.model_selection import train_test_split\n",
    "from sklearn.metrics import mean_absolute_error, mean_squared_error, r2_score\n",
    "import matplotlib.pyplot as plt\n",
    "import numpy as np\n",
    "\n",
    "# 2. 데이터 준비 및 전처리 (df_flightDataFrame이 이미 Spark/Pandas로 있는 상태라고 가정)\n",
    "# (필요하면 Databricks에서: df = df_flight.toPandas())\n",
    "# 그리고 아래와 같이 공통파이프라인 적용:\n",
    "# 범주형 인코딩(원핫), 결측치 제거, 타입 변환\n",
    "\n",
    "df = df_flight.toPandas().dropna()\n",
    "df_encoded = pd.get_dummies(df, columns=[\"congestion_level\"], drop_first=True)\n",
    "X_base = df_encoded.drop(columns=[\"delayed_time\"])\n",
    "y = df_encoded[\"delayed_time\"]\n",
    "\n",
    "# 타입 통일\n",
    "X = X_base.copy().apply(pd.to_numeric, errors='coerce')\n",
    "y_temp = y.copy()\n",
    "\n",
    "# 결측치 합동 처리\n",
    "combined = pd.concat([X, y_temp], axis=1).dropna()\n",
    "X = combined.drop(columns=[\"delayed_time\"])\n",
    "y = combined[\"delayed_time\"]\n",
    "\n",
    "# 3. 학습/테스트 분할\n",
    "X_train, X_test, y_train, y_test = train_test_split(\n",
    "    X, y, test_size=0.2, random_state=42\n",
    ")\n",
    "\n",
    "# 4. LGBM 모델 생성, 학습\n",
    "lgb_model = LGBMRegressor(\n",
    "    n_estimators=100,\n",
    "    max_depth=-1,     \n",
    "    random_state=42\n",
    ")\n",
    "lgb_model.fit(X_train, y_train)\n",
    "\n",
    "# 5. 예측 및 평가\n",
    "y_pred = lgb_model.predict(X_test)\n",
    "\n",
    "mae = mean_absolute_error(y_test, y_pred)\n",
    "rmse = mean_squared_error(y_test, y_pred, squared=False)\n",
    "r2 = r2_score(y_test, y_pred)\n",
    "\n",
    "print(\"✨ LightGBM 회귀 성능\")\n",
    "print(f\"MAE  : {mae:.2f}분\")\n",
    "print(f\"RMSE : {rmse:.2f}분\")\n",
    "print(f\"R²   : {r2:.3f}\")\n",
    "\n",
    "\n"
   ]
  },
  {
   "cell_type": "code",
   "execution_count": 0,
   "metadata": {
    "application/vnd.databricks.v1+cell": {
     "cellMetadata": {
      "byteLimit": 2048000,
      "rowLimit": 10000
     },
     "inputWidgets": {},
     "nuid": "7ac9565e-9657-44c5-ab78-0b0d58f4ed0f",
     "showTitle": false,
     "tableResultSettingsMap": {},
     "title": ""
    }
   },
   "outputs": [],
   "source": [
    "model_results.append({\n",
    "    '모델': 'LightGBM',\n",
    "    'MAE': mae,\n",
    "    'RMSE': rmse,\n",
    "    'R2': r2\n",
    "})\n"
   ]
  },
  {
   "cell_type": "code",
   "execution_count": 0,
   "metadata": {
    "application/vnd.databricks.v1+cell": {
     "cellMetadata": {
      "byteLimit": 2048000,
      "rowLimit": 10000
     },
     "inputWidgets": {},
     "nuid": "8ecf0d2b-4e94-4935-b2f2-11658463c598",
     "showTitle": false,
     "tableResultSettingsMap": {},
     "title": ""
    }
   },
   "outputs": [],
   "source": [
    "# 6. 변수 중요도 시각화 (선택이지만 인기 있음)\n",
    "importances = lgb_model.feature_importances_\n",
    "indices = np.argsort(importances)[::-1]\n",
    "plt.figure(figsize=(10, 5))\n",
    "plt.title(\"LightGBM Feature Importance\")\n",
    "plt.bar(range(X.shape[1]), importances[indices], align='center')\n",
    "plt.xticks(range(X.shape[1]), X.columns[indices], rotation=45, ha='right')\n",
    "plt.tight_layout()\n",
    "plt.show()"
   ]
  },
  {
   "cell_type": "markdown",
   "metadata": {
    "application/vnd.databricks.v1+cell": {
     "cellMetadata": {},
     "inputWidgets": {},
     "nuid": "308d8ff3-ddc0-49f7-b0b0-3dd4be92ffd1",
     "showTitle": false,
     "tableResultSettingsMap": {},
     "title": ""
    }
   },
   "source": [
    "### 딥러닝(fcnn, keras)"
   ]
  },
  {
   "cell_type": "code",
   "execution_count": 0,
   "metadata": {
    "application/vnd.databricks.v1+cell": {
     "cellMetadata": {
      "byteLimit": 2048000,
      "rowLimit": 10000
     },
     "inputWidgets": {},
     "nuid": "dbc92958-a74d-4e4d-a699-b802c4a80ee6",
     "showTitle": false,
     "tableResultSettingsMap": {},
     "title": ""
    }
   },
   "outputs": [],
   "source": [
    "%pip install tensorflow"
   ]
  },
  {
   "cell_type": "code",
   "execution_count": 0,
   "metadata": {
    "application/vnd.databricks.v1+cell": {
     "cellMetadata": {
      "byteLimit": 2048000,
      "rowLimit": 10000
     },
     "inputWidgets": {},
     "nuid": "95fed640-a0d8-463f-b0ed-e081f8fa8ab7",
     "showTitle": false,
     "tableResultSettingsMap": {},
     "title": ""
    }
   },
   "outputs": [],
   "source": [
    "\n",
    "import pandas as pd\n",
    "from sklearn.model_selection import train_test_split\n",
    "from sklearn.metrics import mean_absolute_error, mean_squared_error, r2_score\n",
    "from tensorflow import keras\n",
    "\n",
    "# 데이터 준비 (공통 파이프라인 적용)\n",
    "df = df_flight.toPandas().dropna()\n",
    "df_encoded = pd.get_dummies(df, columns=[\"congestion_level\"], drop_first=True)\n",
    "X_base = df_encoded.drop(columns=[\"delayed_time\"])\n",
    "y = df_encoded[\"delayed_time\"]\n",
    "X = X_base.copy().apply(pd.to_numeric, errors='coerce')\n",
    "y_temp = y.copy()\n",
    "combined = pd.concat([X, y_temp], axis=1).dropna()\n",
    "X = combined.drop(columns=[\"delayed_time\"])\n",
    "y = combined[\"delayed_time\"]\n",
    "\n",
    "# 학습/테스트 분리\n",
    "X_train, X_test, y_train, y_test = train_test_split(\n",
    "    X.values, y.values, test_size=0.2, random_state=42\n",
    ")\n",
    "\n",
    "# 딥러닝(Fully Connected Neural Network)\n",
    "model = keras.models.Sequential([\n",
    "    keras.layers.Dense(64, activation='relu', input_shape=(X_train.shape[1],)),\n",
    "    keras.layers.Dense(64, activation='relu'),\n",
    "    keras.layers.Dense(1)\n",
    "])\n",
    "model.compile(optimizer='adam', loss='mae')\n",
    "history = model.fit(X_train, y_train, epochs=20, batch_size=32, validation_split=0.1, verbose=0)\n",
    "\n",
    "# 예측 및 평가\n",
    "y_pred = model.predict(X_test).flatten()\n",
    "mae = mean_absolute_error(y_test, y_pred)\n",
    "rmse = mean_squared_error(y_test, y_pred, squared=False)\n",
    "r2 = r2_score(y_test, y_pred)\n",
    "print(f\"\uD83E\uDD16 FCNN(딥러닝) 성능\\nMAE: {mae:.2f}분 | RMSE: {rmse:.2f}분 | R^2: {r2:.3f}\")\n"
   ]
  },
  {
   "cell_type": "code",
   "execution_count": 0,
   "metadata": {
    "application/vnd.databricks.v1+cell": {
     "cellMetadata": {
      "byteLimit": 2048000,
      "rowLimit": 10000
     },
     "inputWidgets": {},
     "nuid": "56f7b98e-29b0-47e2-8fff-dd57609e5cce",
     "showTitle": false,
     "tableResultSettingsMap": {},
     "title": ""
    }
   },
   "outputs": [],
   "source": [
    "model_results.append({\n",
    "    '모델': 'FCNN (딥러닝)',\n",
    "    'MAE': mae,\n",
    "    'RMSE': rmse,\n",
    "    'R2': r2\n",
    "})\n"
   ]
  },
  {
   "cell_type": "markdown",
   "metadata": {
    "application/vnd.databricks.v1+cell": {
     "cellMetadata": {},
     "inputWidgets": {},
     "nuid": "1c7f4e93-da7a-4550-acdb-439368d64f05",
     "showTitle": false,
     "tableResultSettingsMap": {},
     "title": ""
    }
   },
   "source": [
    "### 릿지회귀"
   ]
  },
  {
   "cell_type": "code",
   "execution_count": 0,
   "metadata": {
    "application/vnd.databricks.v1+cell": {
     "cellMetadata": {
      "byteLimit": 2048000,
      "rowLimit": 10000
     },
     "inputWidgets": {},
     "nuid": "bf36c8a0-5bf6-40ba-bb9d-7acd14fa0a4d",
     "showTitle": false,
     "tableResultSettingsMap": {},
     "title": ""
    }
   },
   "outputs": [],
   "source": [
    "from sklearn.linear_model import Ridge\n",
    "from sklearn.model_selection import train_test_split\n",
    "from sklearn.metrics import mean_absolute_error, mean_squared_error, r2_score\n",
    "\n",
    "# 데이터 준비 (동일 프로세스)\n",
    "df = df_flight.toPandas().dropna()\n",
    "df_encoded = pd.get_dummies(df, columns=[\"congestion_level\"], drop_first=True)\n",
    "X_base = df_encoded.drop(columns=[\"delayed_time\"])\n",
    "y = df_encoded[\"delayed_time\"]\n",
    "X = X_base.copy().apply(pd.to_numeric, errors='coerce')\n",
    "y_temp = y.copy()\n",
    "combined = pd.concat([X, y_temp], axis=1).dropna()\n",
    "X = combined.drop(columns=[\"delayed_time\"])\n",
    "y = combined[\"delayed_time\"]\n",
    "\n",
    "# 학습/테스트 분리\n",
    "X_train, X_test, y_train, y_test = train_test_split(\n",
    "    X, y, test_size=0.2, random_state=42\n",
    ")\n",
    "\n",
    "# 릿지 회귀 모델 생성 및 학습\n",
    "ridge_model = Ridge(alpha=1.0)\n",
    "ridge_model.fit(X_train, y_train)\n",
    "\n",
    "# 예측 및 평가\n",
    "y_pred = ridge_model.predict(X_test)\n",
    "mae = mean_absolute_error(y_test, y_pred)\n",
    "rmse = mean_squared_error(y_test, y_pred, squared=False)\n",
    "r2 = r2_score(y_test, y_pred)\n",
    "print(f\"\uD83D\uDD35 Ridge 회귀 성능\\nMAE: {mae:.2f}분 | RMSE: {rmse:.2f}분 | R^2: {r2:.3f}\")\n"
   ]
  },
  {
   "cell_type": "code",
   "execution_count": 0,
   "metadata": {
    "application/vnd.databricks.v1+cell": {
     "cellMetadata": {
      "byteLimit": 2048000,
      "rowLimit": 10000
     },
     "inputWidgets": {},
     "nuid": "95bacd1b-0c37-4acd-82ec-fce0e1083a88",
     "showTitle": false,
     "tableResultSettingsMap": {},
     "title": ""
    }
   },
   "outputs": [],
   "source": [
    "model_results.append({\n",
    "    '모델': 'Ridge Regression',\n",
    "    'MAE': mae,\n",
    "    'RMSE': rmse,\n",
    "    'R2': r2\n",
    "})\n"
   ]
  },
  {
   "cell_type": "markdown",
   "metadata": {
    "application/vnd.databricks.v1+cell": {
     "cellMetadata": {},
     "inputWidgets": {},
     "nuid": "a631fce6-75ce-4a0a-9aa8-b410f0dc239d",
     "showTitle": false,
     "tableResultSettingsMap": {},
     "title": ""
    }
   },
   "source": [
    "### catboost regressor"
   ]
  },
  {
   "cell_type": "code",
   "execution_count": 0,
   "metadata": {
    "application/vnd.databricks.v1+cell": {
     "cellMetadata": {
      "byteLimit": 2048000,
      "rowLimit": 10000
     },
     "inputWidgets": {},
     "nuid": "920c7341-2943-45c2-b423-f7c5276875f6",
     "showTitle": false,
     "tableResultSettingsMap": {},
     "title": ""
    }
   },
   "outputs": [],
   "source": [
    "%pip install catboost"
   ]
  },
  {
   "cell_type": "code",
   "execution_count": 0,
   "metadata": {
    "application/vnd.databricks.v1+cell": {
     "cellMetadata": {
      "byteLimit": 2048000,
      "rowLimit": 10000
     },
     "inputWidgets": {},
     "nuid": "37b72220-39bc-48e7-b17f-95505fda345a",
     "showTitle": false,
     "tableResultSettingsMap": {},
     "title": ""
    }
   },
   "outputs": [],
   "source": [
    "\n",
    "\n",
    "from catboost import CatBoostRegressor\n",
    "from sklearn.model_selection import train_test_split\n",
    "from sklearn.metrics import mean_absolute_error, mean_squared_error, r2_score\n",
    "\n",
    "# 데이터 준비 (공통)\n",
    "df = df_flight.toPandas().dropna()\n",
    "df_encoded = pd.get_dummies(df, columns=[\"congestion_level\"], drop_first=True)\n",
    "X_base = df_encoded.drop(columns=[\"delayed_time\"])\n",
    "y = df_encoded[\"delayed_time\"]\n",
    "X = X_base.copy().apply(pd.to_numeric, errors='coerce')\n",
    "y_temp = y.copy()\n",
    "combined = pd.concat([X, y_temp], axis=1).dropna()\n",
    "X = combined.drop(columns=[\"delayed_time\"])\n",
    "y = combined[\"delayed_time\"]\n",
    "\n",
    "# 학습/테스트 분리\n",
    "X_train, X_test, y_train, y_test = train_test_split(\n",
    "    X, y, test_size=0.2, random_state=42\n",
    ")\n",
    "\n",
    "# CatBoost 모델 생성, 학습, 평가\n",
    "cat_model = CatBoostRegressor(verbose=0, iterations=100, random_seed=42)\n",
    "cat_model.fit(X_train, y_train)\n",
    "y_pred = cat_model.predict(X_test)\n",
    "mae = mean_absolute_error(y_test, y_pred)\n",
    "rmse = mean_squared_error(y_test, y_pred, squared=False)\n",
    "r2 = r2_score(y_test, y_pred)\n",
    "print(f\"\uD83D\uDC31 CatBoost 회귀 성능\\nMAE: {mae:.2f}분 | RMSE: {rmse:.2f}분 | R^2: {r2:.3f}\")\n"
   ]
  },
  {
   "cell_type": "code",
   "execution_count": 0,
   "metadata": {
    "application/vnd.databricks.v1+cell": {
     "cellMetadata": {
      "byteLimit": 2048000,
      "rowLimit": 10000
     },
     "inputWidgets": {},
     "nuid": "4461762c-5f1d-490f-825f-f40da0802f4d",
     "showTitle": false,
     "tableResultSettingsMap": {},
     "title": ""
    }
   },
   "outputs": [],
   "source": [
    "model_results.append({\n",
    "    '모델': 'CatBoost',\n",
    "    'MAE': mae,\n",
    "    'RMSE': rmse,\n",
    "    'R2': r2\n",
    "})\n"
   ]
  },
  {
   "cell_type": "markdown",
   "metadata": {
    "application/vnd.databricks.v1+cell": {
     "cellMetadata": {},
     "inputWidgets": {},
     "nuid": "5d6b18d7-8f65-49fe-aede-31800c21d325",
     "showTitle": false,
     "tableResultSettingsMap": {},
     "title": ""
    }
   },
   "source": [
    "### GBTregressor( boosted decision tree regression)"
   ]
  },
  {
   "cell_type": "markdown",
   "metadata": {
    "application/vnd.databricks.v1+cell": {
     "cellMetadata": {},
     "inputWidgets": {},
     "nuid": "67d35963-6933-4959-a10a-0221891a905f",
     "showTitle": false,
     "tableResultSettingsMap": {},
     "title": ""
    }
   },
   "source": [
    "❌ Spark MLlib 사용하는 GBTRegressor, StringIndexer, VectorAssembler 등은\n",
    "→ Py4JSecurityException 등의 문제로 Databricks 제한 환경에서 통제될 수 있습니다."
   ]
  },
  {
   "cell_type": "code",
   "execution_count": 0,
   "metadata": {
    "application/vnd.databricks.v1+cell": {
     "cellMetadata": {
      "byteLimit": 2048000,
      "rowLimit": 10000
     },
     "collapsed": true,
     "inputWidgets": {},
     "nuid": "3a125c73-35f4-477d-a4de-127adb9afc92",
     "showTitle": false,
     "tableResultSettingsMap": {},
     "title": ""
    }
   },
   "outputs": [],
   "source": [
    "from pyspark.ml.feature import VectorAssembler\n",
    "from pyspark.ml.regression import GBTRegressor\n",
    "from pyspark.ml.evaluation import RegressionEvaluator\n",
    "from pyspark.ml import Pipeline\n",
    "from pyspark.sql.functions import when, col\n",
    "\n",
    "# Step 1: delayed_time 있는 데이터만 사용\n",
    "df_clean = df_flight.dropna(subset=[\"delayed_time\"])\n",
    "\n",
    "# Step 2: 혼잡도(범주형) 인코딩 → 수치형 (0=여유, 1=보통, 2=혼잡)\n",
    "df_encoded = df_clean.withColumn(\n",
    "    \"congestion_index\",\n",
    "    when(col(\"congestion_level\") == \"여유\", 0)\n",
    "    .when(col(\"congestion_level\") == \"보통\", 1)\n",
    "    .when(col(\"congestion_level\") == \"혼잡\", 2)\n",
    "    .otherwise(None)\n",
    ")\n",
    "\n",
    "# Step 3: features 벡터 생성 (Builder 패턴 사용!)\n",
    "assembler = VectorAssembler() \\\n",
    "    .setInputCols([\n",
    "        \"hour_of_day\",\n",
    "        \"passenger_forecast\",\n",
    "        \"temperature\",\n",
    "        \"wind_speed\",\n",
    "        \"visibility\",\n",
    "        \"is_holiday\",\n",
    "        \"congestion_index\"\n",
    "    ]) \\\n",
    "    .setOutputCol(\"features\")\n",
    "\n",
    "# Step 4: GBT Regressor 정의 (Builder 생성 방식)\n",
    "gbt = GBTRegressor() \\\n",
    "    .setLabelCol(\"delayed_time\") \\\n",
    "    .setFeaturesCol(\"features\") \\\n",
    "    .setMaxIter(100) \\\n",
    "    .setMaxDepth(5) \\\n",
    "    .setSeed(42)\n",
    "\n",
    "# Step 5: 파이프라인 연결\n",
    "pipeline = Pipeline(stages=[assembler, gbt])\n",
    "\n",
    "# Step 6: Train/Test Split\n",
    "train_data, test_data = df_encoded.randomSplit([0.8, 0.2], seed=42)\n",
    "\n",
    "# Step 7: 학습\n",
    "model = pipeline.fit(train_data)\n",
    "\n",
    "# Step 8: 예측\n",
    "predictions = model.transform(test_data)\n",
    "\n",
    "# Step 9: 성능 평가\n",
    "evaluator = RegressionEvaluator() \\\n",
    "    .setLabelCol(\"delayed_time\") \\\n",
    "    .setPredictionCol(\"prediction\") \\\n",
    "    .setMetricName(\"mae\")\n",
    "mae = evaluator.evaluate(predictions)\n",
    "\n",
    "rmse = RegressionEvaluator(labelCol=\"delayed_time\", predictionCol=\"prediction\", metricName=\"rmse\").evaluate(predictions)\n",
    "r2 = RegressionEvaluator(labelCol=\"delayed_time\", predictionCol=\"prediction\", metricName=\"r2\").evaluate(predictions)\n",
    "\n",
    "# Step 10: 결과 출력\n",
    "print(\"✅ ✅ GBTRegressor (Boosted Tree) 결과\")\n",
    "print(f\"MAE  : {mae:.2f}분\")\n",
    "print(f\"RMSE : {rmse:.2f}분\")\n",
    "print(f\"R²   : {r2:.3f}\")\n"
   ]
  },
  {
   "cell_type": "markdown",
   "metadata": {
    "application/vnd.databricks.v1+cell": {
     "cellMetadata": {},
     "inputWidgets": {},
     "nuid": "1d5d4c5a-462c-46be-a217-02ac0d0d1f77",
     "showTitle": false,
     "tableResultSettingsMap": {},
     "title": ""
    }
   },
   "source": [
    "### 성능비교"
   ]
  },
  {
   "cell_type": "code",
   "execution_count": 0,
   "metadata": {
    "application/vnd.databricks.v1+cell": {
     "cellMetadata": {
      "byteLimit": 2048000,
      "rowLimit": 10000
     },
     "inputWidgets": {},
     "nuid": "3efd00d2-ba36-411a-82d2-0e00c1862cde",
     "showTitle": false,
     "tableResultSettingsMap": {},
     "title": ""
    }
   },
   "outputs": [],
   "source": [
    "import pandas as pd\n",
    "\n",
    "# 비교 표로 변환\n",
    "results_df = pd.DataFrame(model_results)\n",
    "\n",
    "# MAE 기준 정렬\n",
    "results_df = results_df.sort_values(by='MAE', ascending=True).reset_index(drop=True)\n",
    "\n",
    "# 결과 출력\n",
    "print(\"\uD83D\uDCCA 모델별 성능 비교표 (MAE 기준 정렬)\")\n",
    "display(results_df)\n"
   ]
  },
  {
   "cell_type": "markdown",
   "metadata": {
    "application/vnd.databricks.v1+cell": {
     "cellMetadata": {},
     "inputWidgets": {},
     "nuid": "26b2fe25-1ff7-4916-ad45-1bbaaa18cbcd",
     "showTitle": false,
     "tableResultSettingsMap": {},
     "title": ""
    }
   },
   "source": [
    "### 모델 성능 비교 요약\n",
    "\n",
    "| 순위 | 모델             | MAE   | RMSE  | R²     | 해석 요약                                 |\n",
    "|-----:|------------------|-------|-------|--------|--------------------------------------------|\n",
    "| 1    | _FCNN (딥러닝)_   | 20.26 | 52.95 | -0.036 | MAE 최저 (_예측값 안정적_), R²는 낮음       |\n",
    "| 2    | XGBoost          | 21.28 | 48.77 | 0.121  | R² 최고, MAE는 2위                           |\n",
    "| 3    | LightGBM         | 21.63 | 48.93 | 0.115  | 성능 균형, XGBoost와 유사                   |\n",
    "| 4    | CatBoost         | 21.65 | 49.00 | 0.112  | LightGBM과 거의 동일 성능                   |\n",
    "| 5    | Random Forest    | 22.02 | 52.19 | -0.007 | MAE/R² 모두 하락                            |\n",
    "| 6    | Ridge Regression | 23.45 | 51.85 | 0.006  | 전통회귀 기준선                             |\n",
    "| 7    | Linear Regression| 23.45 | 51.85 | 0.006  | Ridge와 유사                                |\n",
    "```\n",
    "\n"
   ]
  },
  {
   "cell_type": "markdown",
   "metadata": {
    "application/vnd.databricks.v1+cell": {
     "cellMetadata": {},
     "inputWidgets": {},
     "nuid": "5c0b4e8f-a8e8-4594-906a-8ef7d99e26f8",
     "showTitle": false,
     "tableResultSettingsMap": {},
     "title": ""
    }
   },
   "source": [
    "### \uD83D\uDCA1 모델 비교 요약 및 최종 선택\n",
    "\n",
    "\uD83D\uDD39 **MAE 기준 최상**\n",
    "- _FCNN (딥러닝)_ → **20.26분**\n",
    "  - 한 건당 예측 오류가 평균 20분으로 가장 작음\n",
    "  - 예측값이 비교적 **안정적**임\n",
    "\n",
    "\uD83D\uDD39 **R² 기준 최상 (설명력)**\n",
    "- **XGBoost** → **R² = 0.121**\n",
    "  - 약 **12%의 분산 설명력**을 가짐\n",
    "  - 절대 수치는 높지 않지만, **모델 중 가장 높음**\n",
    "\n",
    "\uD83D\uDD39 **모델 간 전반 비교**\n",
    "- _XGBoost_, _LightGBM_, _CatBoost_는 거의 유사한 성능군\n",
    "  - MAE: **21.5~21.6**, R²: **0.11~0.12**\n",
    "- _Linear Regression_, _Ridge_는 기준선(Baseline) 역할로 적합\n",
    "- _Random Forest_는 추가 튜닝(깊이 조정 등) 후 재검토 필요\n",
    "\n",
    "---\n",
    "\n",
    "### ✅ 최종 모델 선택 기준 및 판단\n",
    "\n",
    "> MAE 기준으로는 **FCNN (딥러닝)**이 가장 낮은 예측 오차를 보였으나,  \n",
    "> **설명력(R²)** 측면에서는 **XGBoost**가 가장 우수한 성능을 보였습니다.\n",
    "\n",
    "> 예측 오류가 일정 수준 이상 줄어든 상황에서,  \n",
    "> **모델의 해석 가능성과 설명력**이 중요한 특성으로 판단됩니다.\n",
    "\n",
    "> 따라서 실제 서비스에 적용할 모델로는  \n",
    "> `**XGBoost**`를 채택하는 것이 가장 합리적인 선택입니다.\n",
    "```\n",
    "\n",
    "## \uD83D\uDC47 결과 미리보기 (Databricks에서 렌더링 시)\n",
    "\n",
    "### \uD83D\uDCA1 모델 비교 요약 및 최종 선택\n",
    "\n",
    "\uD83D\uDD39 **MAE 기준 최상**\n",
    "- _FCNN (딥러닝)_ → **20.26분**\n",
    "  - 한 건당 예측 오류가 평균 20분으로 가장 작음\n",
    "  - 예측값이 비교적 **안정적**임\n",
    "\n",
    "\uD83D\uDD39 **R² 기준 최상 (설명력)**\n",
    "- **XGBoost** → **R² = 0.121**\n",
    "  - 약 **12%의 분산 설명력**을 가짐  \n",
    "  - 절대 수치는 높지 않지만, **모델 중 가장 높음**\n",
    "\n",
    "\uD83D\uDD39 **모델 간 전반 비교**\n",
    "- _XGBoost_, _LightGBM_, _CatBoost_는 거의 유사한 성능군\n",
    "  - MAE: **21.5~21.6**, R²: **0.11~0.12**\n",
    "- _Linear Regression_, _Ridge_는 기준선(Baseline) 역할로 적합\n",
    "- _Random Forest_는 추가 튜닝(깊이 조\n"
   ]
  },
  {
   "cell_type": "markdown",
   "metadata": {
    "application/vnd.databricks.v1+cell": {
     "cellMetadata": {},
     "inputWidgets": {},
     "nuid": "b4a89acd-2679-416a-bc55-6d07a970e658",
     "showTitle": false,
     "tableResultSettingsMap": {},
     "title": ""
    }
   },
   "source": [
    "| 모델                          | R²(Coefficient_of_Determination) | MAE(Mean_Absolute_Error) | Relative_Absolute_Error | Relative_Squared_Error | RMSE(Root_Mean_Squared_Error) |\n",
    "|-------------------------------|----------------------------------|-------------------------|------------------------|------------------------|-------------------------------|\n",
    "| Linear Regression (선형 회귀) | 0.0963                           | 22.33                   | 0.9619                 | 0.9037                 | 48.57                         |\n",
    "| Decision Forest Regression    | 0.0721                           | 20.74                   | 0.8932                 | 0.9279                 | 49.21                         |\n",
    "| Boosted Decision Tree         | 0.1962                           | 20.58                   | 0.8863                 | 0.8038                 | 45.80                         |\n",
    "| Neural Network Regression     | -0.0001                          | 23.28                   | 1.0028                 | 1.0000                 | 51.08                         |\n",
    "| Poisson Regression            | 0.0954                           | 22.32                   | 0.9613                 | 0.9046                 | 48.58                         |\n",
    "```\n",
    "\n",
    "ML 기준 모델\n",
    "\n"
   ]
  },
  {
   "cell_type": "markdown",
   "metadata": {
    "application/vnd.databricks.v1+cell": {
     "cellMetadata": {},
     "inputWidgets": {},
     "nuid": "0f920d17-2871-44bc-b9ff-7f4a075c48ce",
     "showTitle": false,
     "tableResultSettingsMap": {},
     "title": ""
    }
   },
   "source": [
    "| 모델                             | R²(Coefficient_of_Determination) | MAE(Mean_Absolute_Error) | Relative_Absolute_Error | Relative_Squared_Error | RMSE(Root_Mean_Squared_Error) |\n",
    "|-----------------------------------|----------------------------------|-------------------------|------------------------|-----------------------|-------------------------------|\n",
    "| Linear Regression(선형 회귀)      | 0.7086703                        | 10.26241                | 0.4420651              | 0.2913297             | 27.57181                      |\n",
    "| decision forest regression        | 0.9555479                        | 5.055495                | 0.2177713              | 0.0444521             | 10.77008                      |\n",
    "| boosted decision tree regression  | 0.9601012                        | 5.951071                | 0.2563493              | 0.03989882            | 10.20359                      |\n",
    "| neural network regression         | -0.0000096                       | 23.28129                | 1.002869               | 1.00001               | 51.08284                      |\n",
    "| poisson regression                | -0.1730987                       | 8.083411                | 0.3482023              | 1.173099              | 48.58476                      |\n",
    "```\n",
    "ml 전체컬럼"
   ]
  },
  {
   "cell_type": "markdown",
   "metadata": {
    "application/vnd.databricks.v1+cell": {
     "cellMetadata": {},
     "inputWidgets": {},
     "nuid": "e0ccd16d-7e4c-439b-859a-eeee0aa81698",
     "showTitle": false,
     "tableResultSettingsMap": {},
     "title": ""
    }
   },
   "source": [
    "#모델 선정 후 등록"
   ]
  },
  {
   "cell_type": "code",
   "execution_count": 0,
   "metadata": {
    "application/vnd.databricks.v1+cell": {
     "cellMetadata": {
      "byteLimit": 2048000,
      "rowLimit": 10000
     },
     "inputWidgets": {},
     "nuid": "2f84f956-49f5-44e9-9bed-7f9987da64be",
     "showTitle": false,
     "tableResultSettingsMap": {},
     "title": ""
    }
   },
   "outputs": [],
   "source": [
    "import joblib\n",
    "joblib.dump(xgb_model, \"final_xgboost_model.pkl\")\n"
   ]
  },
  {
   "cell_type": "markdown",
   "metadata": {
    "application/vnd.databricks.v1+cell": {
     "cellMetadata": {},
     "inputWidgets": {},
     "nuid": "9432c12d-b275-43e3-b083-665cabfebf21",
     "showTitle": false,
     "tableResultSettingsMap": {},
     "title": ""
    }
   },
   "source": [
    "# 실시가 ㄴ데이터 추론"
   ]
  },
  {
   "cell_type": "code",
   "execution_count": 0,
   "metadata": {
    "application/vnd.databricks.v1+cell": {
     "cellMetadata": {
      "byteLimit": 2048000,
      "rowLimit": 10000
     },
     "inputWidgets": {},
     "nuid": "b9158245-f9a5-4aba-9e24-497ea30f25c0",
     "showTitle": false,
     "tableResultSettingsMap": {},
     "title": ""
    }
   },
   "outputs": [],
   "source": [
    "required_features = [\n",
    "    'hour_of_day',\n",
    "    'passenger_forecast',\n",
    "    'temperature',\n",
    "    'wind_speed',\n",
    "    'visibility',\n",
    "    'is_holiday',\n",
    "    'congestion_level_여유',\n",
    "    'congestion_level_혼잡'\n",
    "]\n"
   ]
  },
  {
   "cell_type": "code",
   "execution_count": 0,
   "metadata": {
    "application/vnd.databricks.v1+cell": {
     "cellMetadata": {
      "byteLimit": 2048000,
      "rowLimit": 10000
     },
     "inputWidgets": {},
     "nuid": "992f45fe-29f1-4e3d-9abb-e720164f775e",
     "showTitle": false,
     "tableResultSettingsMap": {},
     "title": ""
    }
   },
   "outputs": [],
   "source": [
    "# Step 1: 필요 없는 항목 제거\n",
    "df_api = df_api.drop(columns=[\"year\", \"month\", \"day\", \"congestion_level\"], errors=\"ignore\")\n",
    "\n",
    "# Step 2: 필요한 컬럼 없으면 생성 => 기본값 넣기\n",
    "for col in ['is_holiday', 'congestion_level_여유', 'congestion_level_혼잡']:\n",
    "    if col not in df_api.columns:\n",
    "        df_api[col] = 0  # 예: 실제 예측 상황에서 default는 0으로\n",
    "\n",
    "# Step 3: 컬럼 순서도 통일\n",
    "df_api = df_api[required_features]\n",
    "\n",
    "# Step 4: 숫자로 처리 + 결측 제거\n",
    "df_api = df_api.apply(pd.to_numeric, errors='coerce').dropna()\n",
    "\n",
    "# Step 5: 예측\n",
    "y_pred = xgb_model.predict(df_api)\n"
   ]
  },
  {
   "cell_type": "code",
   "execution_count": 0,
   "metadata": {
    "application/vnd.databricks.v1+cell": {
     "cellMetadata": {
      "byteLimit": 2048000,
      "rowLimit": 10000
     },
     "inputWidgets": {},
     "nuid": "d88ea623-51e2-4d10-96e1-86501b4c8d0d",
     "showTitle": false,
     "tableResultSettingsMap": {},
     "title": ""
    }
   },
   "outputs": [],
   "source": [
    "df_api[\"predicted_delayed_time\"] = y_pred\n",
    "display(df_api.head())  # Databricks 노트북에서 표 보기\n",
    "\n"
   ]
  },
  {
   "cell_type": "code",
   "execution_count": 0,
   "metadata": {
    "application/vnd.databricks.v1+cell": {
     "cellMetadata": {
      "byteLimit": 2048000,
      "rowLimit": 10000
     },
     "inputWidgets": {},
     "nuid": "98b7d5e1-a354-455f-aa8b-c63fa6a747b4",
     "showTitle": false,
     "tableResultSettingsMap": {},
     "title": ""
    }
   },
   "outputs": [],
   "source": [
    "from pyspark.sql import SparkSession\n",
    "\n",
    "# pandas → spark로 다시 변환\n",
    "df_api_spark_result = spark.createDataFrame(df_api)\n",
    "\n",
    "# 저장 \n",
    "df_api_spark_result.write \\\n",
    "    .format(\"jdbc\") \\\n",
    "    .option(\"url\", \"jdbc:postgresql://1dt-2nd-team1-postgres.postgres.database.azure.com:5432/postgres\") \\\n",
    "    .option(\"dbtable\", \"gold.df_api_pred\") \\\n",
    "    .option(\"user\", \"azureuser\") \\\n",
    "    .option(\"password\", \"asdASD123!@#\") \\\n",
    "    .option(\"driver\", \"org.postgresql.Driver\") \\\n",
    "    .mode(\"overwrite\") \\\n",
    "    .save()\n"
   ]
  },
  {
   "cell_type": "code",
   "execution_count": 0,
   "metadata": {
    "application/vnd.databricks.v1+cell": {
     "cellMetadata": {},
     "inputWidgets": {},
     "nuid": "6a6a9358-e4ae-409a-bfd7-c15024c3a560",
     "showTitle": false,
     "tableResultSettingsMap": {},
     "title": ""
    }
   },
   "outputs": [],
   "source": [
    "import matplotlib.pyplot as plt\n",
    "\n",
    "plt.hist(df_api[\"predicted_delayed_time\"], bins=30)\n",
    "plt.title(\"Predicted Delayed Time Histogram\")\n",
    "plt.xlabel(\"Predicted Delay (minutes)\")\n",
    "plt.ylabel(\"Count\")\n",
    "plt.show()\n"
   ]
  },
  {
   "cell_type": "markdown",
   "metadata": {
    "application/vnd.databricks.v1+cell": {
     "cellMetadata": {},
     "inputWidgets": {},
     "nuid": "58e6cbf1-6914-40a4-998c-6240c4d16c9a",
     "showTitle": false,
     "tableResultSettingsMap": {},
     "title": ""
    }
   },
   "source": [
    " 5. (선택) 대시보드 연동, 자동 워크플로 스케줄\n",
    "Databricks [Workflows]에서 노트북 실행 스케줄 설정 (10분/1시간 등 반복)\n",
    "\n",
    "대시보드에 df_api_pred 테이블 연동, 실시간 예측값 모니터링"
   ]
  },
  {
   "cell_type": "code",
   "execution_count": 0,
   "metadata": {
    "application/vnd.databricks.v1+cell": {
     "cellMetadata": {
      "byteLimit": 2048000,
      "rowLimit": 10000
     },
     "inputWidgets": {},
     "nuid": "c602902b-07e3-4da3-91b0-eec9a9e44fe3",
     "showTitle": false,
     "tableResultSettingsMap": {},
     "title": ""
    }
   },
   "outputs": [],
   "source": [
    "# \uD83D\uDD39 1. 필수 라이브러리\n",
    "import joblib\n",
    "import pandas as pd\n",
    "\n",
    "# \uD83D\uDD39 2. 저장된 XGBoost 모델 로드\n",
    "xgb_model = joblib.load(\"final_xgboost_model.pkl\")\n",
    "\n",
    "# \uD83D\uDD39 3. 실시간 데이터 (gold.df_api) PostgreSQL에서 로드\n",
    "df_api_spark = spark.read \\\n",
    "    .format(\"jdbc\") \\\n",
    "    .option(\"url\", \"jdbc:postgresql://1dt-2nd-team1-postgres.postgres.database.azure.com:5432/postgres\") \\\n",
    "    .option(\"dbtable\", \"gold.df_api\") \\\n",
    "    .option(\"user\", \"azureuser\") \\\n",
    "    .option(\"password\", \"asdASD123!@#\") \\\n",
    "    .option(\"driver\", \"org.postgresql.Driver\") \\\n",
    "    .load()\n",
    "\n",
    "df_api = df_api_spark.toPandas()\n",
    "\n",
    "# \uD83D\uDD39 4. 전처리 - feature 맞추기\n",
    "required_features = [\n",
    "    \"hour_of_day\",\n",
    "    \"passenger_forecast\",\n",
    "    \"temperature\",\n",
    "    \"wind_speed\",\n",
    "    \"visibility\",\n",
    "    \"is_holiday\",\n",
    "    \"congestion_level_여유\",\n",
    "    \"congestion_level_혼잡\"\n",
    "]\n",
    "\n",
    "# ✅ 원핫 인코딩 (congestion_level → 더미 변수)\n",
    "if \"congestion_level\" in df_api.columns:\n",
    "    df_api = pd.get_dummies(df_api, columns=[\"congestion_level\"], drop_first=True)\n",
    "\n",
    "# ✅ 누락된 컬럼 생성 (기본값 0)\n",
    "for col in required_features:\n",
    "    if col not in df_api.columns:\n",
    "        df_api[col] = 0\n",
    "\n",
    "# ✅ 예측용 컬럼 순서 정렬 및 숫자 변환 + 결측 처리\n",
    "X_pred = df_api[required_features]\n",
    "X_pred = X_pred.apply(pd.to_numeric, errors=\"coerce\").dropna()\n",
    "\n",
    "# \uD83D\uDD39 5. 예측 실행\n",
    "y_pred = xgb_model.predict(X_pred)\n",
    "\n",
    "# \uD83D\uDD39 6. 결과 조합 (예측값 붙이기)\n",
    "df_api.loc[X_pred.index, \"predicted_delayed_time\"] = y_pred\n",
    "\n",
    "# \uD83D\uDD39 7. 결과 테이블 구성: year, month, day, hour_of_day, predicted_delayed_time\n",
    "df_result = df_api[[\"year\", \"month\", \"day\", \"hour_of_day\", \"predicted_delayed_time\"]]\n",
    "\n",
    "# ✅ 8. Pandas → Spark 변환\n",
    "df_result_spark = spark.createDataFrame(df_result)\n",
    "\n",
    "# ✅ 9. PostgreSQL 의 gold.df_api_pred 테이블에 덮어쓰기 저장\n",
    "df_result_spark.write \\\n",
    "    .format(\"jdbc\") \\\n",
    "    .option(\"url\", \"jdbc:postgresql://1dt-2nd-team1-postgres.postgres.database.azure.com:5432/postgres\") \\\n",
    "    .option(\"dbtable\", \"gold.df_api_pred\") \\\n",
    "    .option(\"user\", \"azureuser\") \\\n",
    "    .option(\"password\", \"asdASD123!@#\") \\\n",
    "    .option(\"driver\", \"org.postgresql.Driver\") \\\n",
    "    .mode(\"overwrite\") \\\n",
    "    .save()\n",
    "\n",
    "# \uD83D\uDD39 10. 확인용 출력\n",
    "display(df_result_spark)\n"
   ]
  },
  {
   "cell_type": "markdown",
   "metadata": {
    "application/vnd.databricks.v1+cell": {
     "cellMetadata": {},
     "inputWidgets": {},
     "nuid": "be1e3f57-6b64-4a94-bfb1-106b71aee084",
     "showTitle": false,
     "tableResultSettingsMap": {},
     "title": ""
    }
   },
   "source": [
    "# 데이터 보강후 모델 재실행\n",
    " ## 바보마냥 도착기상(출발 및 도착 관련 중요 변수) 안넣고 모델링함 눈물 머금고 다시하는중 ㅠㅠ"
   ]
  },
  {
   "cell_type": "code",
   "execution_count": 0,
   "metadata": {
    "application/vnd.databricks.v1+cell": {
     "cellMetadata": {
      "byteLimit": 2048000,
      "rowLimit": 10000
     },
     "inputWidgets": {},
     "nuid": "bd0cb072-475c-41ae-81f2-eb5e4865ba28",
     "showTitle": false,
     "tableResultSettingsMap": {},
     "title": ""
    }
   },
   "outputs": [],
   "source": [
    "spark.sql(\"USE CATALOG `1team-postgresql-connection_catalog`\")\n",
    "spark.sql(\"USE SCHEMA gold\")\n"
   ]
  },
  {
   "cell_type": "code",
   "execution_count": 0,
   "metadata": {
    "application/vnd.databricks.v1+cell": {
     "cellMetadata": {
      "byteLimit": 2048000,
      "rowLimit": 10000
     },
     "inputWidgets": {},
     "nuid": "b3000a3b-645e-4846-b963-001bb360c2c5",
     "showTitle": false,
     "tableResultSettingsMap": {},
     "title": ""
    }
   },
   "outputs": [],
   "source": [
    "df_flight = spark.table(\"gold.df_flight\")\n",
    "df_flight.printSchema()\n",
    "\n"
   ]
  },
  {
   "cell_type": "code",
   "execution_count": 0,
   "metadata": {
    "application/vnd.databricks.v1+cell": {
     "cellMetadata": {
      "byteLimit": 2048000,
      "rowLimit": 10000
     },
     "inputWidgets": {},
     "nuid": "1552032e-447d-4e25-8175-11e646137682",
     "showTitle": false,
     "tableResultSettingsMap": {},
     "title": ""
    }
   },
   "outputs": [],
   "source": [
    "df_pd = df_flight.toPandas()\n",
    "print(df_pd.shape)\n",
    "\n"
   ]
  },
  {
   "cell_type": "code",
   "execution_count": 0,
   "metadata": {
    "application/vnd.databricks.v1+cell": {
     "cellMetadata": {
      "byteLimit": 2048000,
      "rowLimit": 10000
     },
     "inputWidgets": {},
     "nuid": "b410b525-8a15-4d89-a39e-f5358ce924a4",
     "showTitle": false,
     "tableResultSettingsMap": {},
     "title": ""
    }
   },
   "outputs": [],
   "source": [
    "import pandas as pd\n",
    "import numpy as np\n",
    "\n",
    "# 주요 라이브러리\n",
    "from sklearn.model_selection import train_test_split\n",
    "from sklearn.preprocessing import StandardScaler, OneHotEncoder\n",
    "from sklearn.compose import ColumnTransformer\n",
    "from sklearn.pipeline import Pipeline\n",
    "from sklearn.metrics import mean_squared_error, r2_score\n"
   ]
  },
  {
   "cell_type": "code",
   "execution_count": 0,
   "metadata": {
    "application/vnd.databricks.v1+cell": {
     "cellMetadata": {
      "byteLimit": 2048000,
      "rowLimit": 10000
     },
     "inputWidgets": {},
     "nuid": "d9a245aa-cdab-4d15-8dba-478c5bc7cf7e",
     "showTitle": false,
     "tableResultSettingsMap": {},
     "title": ""
    }
   },
   "outputs": [],
   "source": [
    "def time_to_min(t):\n",
    "    \"\"\"'HH:MM' 문자열 → 분(int). 결측시 None\"\"\"\n",
    "    if pd.isnull(t):\n",
    "        return None\n",
    "    h, m = map(int, str(t).split(':'))\n",
    "    return h * 60 + m\n"
   ]
  },
  {
   "cell_type": "code",
   "execution_count": 0,
   "metadata": {
    "application/vnd.databricks.v1+cell": {
     "cellMetadata": {
      "byteLimit": 2048000,
      "rowLimit": 10000
     },
     "inputWidgets": {},
     "nuid": "629257bf-cc3b-41ad-a907-65101eb4026f",
     "showTitle": false,
     "tableResultSettingsMap": {},
     "title": ""
    }
   },
   "outputs": [],
   "source": [
    "def compute_departure_delay(row):\n",
    "    sched = row['scheduled_time_min']\n",
    "    dep = row['departure_time_min']\n",
    "    if pd.isnull(sched) or pd.isnull(dep):\n",
    "        return None\n",
    "    # ▶️ 자정 넘김(출발 < 예정) 케이스 보정\n",
    "    if dep < sched:\n",
    "        dep += 24 * 60\n",
    "    return dep - sched\n"
   ]
  },
  {
   "cell_type": "code",
   "execution_count": 0,
   "metadata": {
    "application/vnd.databricks.v1+cell": {
     "cellMetadata": {
      "byteLimit": 2048000,
      "rowLimit": 10000
     },
     "inputWidgets": {},
     "nuid": "d96b34a7-6219-40e6-9f38-80277fb88659",
     "showTitle": false,
     "tableResultSettingsMap": {},
     "title": ""
    }
   },
   "outputs": [],
   "source": [
    "df_pd['scheduled_time_min'] = df_pd['scheduled_time'].apply(time_to_min)\n",
    "df_pd['departure_time_min'] = df_pd['departure_time'].apply(time_to_min)\n",
    "df_pd['departure_delay_min'] = df_pd.apply(compute_departure_delay, axis=1)\n"
   ]
  },
  {
   "cell_type": "code",
   "execution_count": 0,
   "metadata": {
    "application/vnd.databricks.v1+cell": {
     "cellMetadata": {
      "byteLimit": 2048000,
      "rowLimit": 10000
     },
     "inputWidgets": {},
     "nuid": "4f9a538c-53c5-461f-87fc-f65cee1792bc",
     "showTitle": false,
     "tableResultSettingsMap": {},
     "title": ""
    }
   },
   "outputs": [],
   "source": [
    "# full datetime 생성\n",
    "import pandas as pd\n",
    "\n",
    "def combine_datetime(row, time_col):\n",
    "    if pd.isnull(row[time_col]):\n",
    "        return pd.NaT\n",
    "    date_str = f\"{row['year']:04d}-{row['month']:02d}-{row['day']:02d}\"\n",
    "    dt_str = f\"{date_str} {row[time_col]}\"\n",
    "    return pd.to_datetime(dt_str, format=\"%Y-%m-%d %H:%M\")\n",
    "\n",
    "df_pd['scheduled_dt'] = df_pd.apply(lambda r: combine_datetime(r, 'scheduled_time'), axis=1)\n",
    "df_pd['departure_dt'] = df_pd.apply(lambda r: combine_datetime(r, 'departure_time'), axis=1)\n",
    "\n",
    "# 지연(분) 계산\n",
    "df_pd['departure_delay_min'] = (df_pd['departure_dt'] - df_pd['scheduled_dt']).dt.total_seconds() // 60\n"
   ]
  },
  {
   "cell_type": "code",
   "execution_count": 0,
   "metadata": {
    "application/vnd.databricks.v1+cell": {
     "cellMetadata": {
      "byteLimit": 2048000,
      "rowLimit": 10000
     },
     "inputWidgets": {},
     "nuid": "50810b90-0c8d-4e2e-8c62-40e92140fd59",
     "showTitle": false,
     "tableResultSettingsMap": {},
     "title": ""
    }
   },
   "outputs": [],
   "source": [
    "df_pd['departure_delay_min_adj'] = df_pd['departure_delay_min'].clip(lower=0)\n"
   ]
  },
  {
   "cell_type": "code",
   "execution_count": 0,
   "metadata": {
    "application/vnd.databricks.v1+cell": {
     "cellMetadata": {
      "byteLimit": 2048000,
      "rowLimit": 10000
     },
     "inputWidgets": {},
     "nuid": "0d53c624-069b-4cdf-9807-981d83cf2adf",
     "showTitle": false,
     "tableResultSettingsMap": {},
     "title": ""
    }
   },
   "outputs": [],
   "source": [
    "df_api_fixed = spark.createDataFrame(df_pd)\n",
    "\n",
    "df_api_fixed.repartition(4).write \\\n",
    "    .format(\"jdbc\") \\\n",
    "    .option(\"url\", \"jdbc:postgresql://1dt-2nd-team1-postgres.postgres.database.azure.com:5432/postgres\") \\\n",
    "    .option(\"dbtable\", \"gold.df_flight\") \\\n",
    "    .option(\"user\", \"azureuser\") \\\n",
    "    .option(\"password\", \"asdASD123!@#\") \\\n",
    "    .option(\"driver\", \"org.postgresql.Driver\") \\\n",
    "    .option(\"batchsize\", 500) \\\n",
    "    .mode(\"overwrite\") \\\n",
    "    .save()\n"
   ]
  },
  {
   "cell_type": "markdown",
   "metadata": {
    "application/vnd.databricks.v1+cell": {
     "cellMetadata": {},
     "inputWidgets": {},
     "nuid": "0ccc9fcf-5bbd-47eb-a8ba-e7bcd4d23448",
     "showTitle": false,
     "tableResultSettingsMap": {},
     "title": ""
    }
   },
   "source": [
    "#진짜 찐 최종으로 api불러오기 오류나지마라"
   ]
  },
  {
   "cell_type": "code",
   "execution_count": 0,
   "metadata": {
    "application/vnd.databricks.v1+cell": {
     "cellMetadata": {
      "byteLimit": 2048000,
      "rowLimit": 10000
     },
     "inputWidgets": {},
     "nuid": "411eb662-3f33-468c-9057-51960b49fbb9",
     "showTitle": false,
     "tableResultSettingsMap": {},
     "title": ""
    }
   },
   "outputs": [],
   "source": [
    "spark.sql(\"SELECT current_catalog()\").show()\n",
    "spark.sql(\"SELECT current_schema()\").show()\n"
   ]
  },
  {
   "cell_type": "markdown",
   "metadata": {
    "application/vnd.databricks.v1+cell": {
     "cellMetadata": {},
     "inputWidgets": {},
     "nuid": "5d2a7f8c-b6d5-4764-b2bb-0e926f5aca90",
     "showTitle": false,
     "tableResultSettingsMap": {},
     "title": ""
    }
   },
   "source": [
    "##도착기상"
   ]
  },
  {
   "cell_type": "code",
   "execution_count": 0,
   "metadata": {
    "application/vnd.databricks.v1+cell": {
     "cellMetadata": {
      "byteLimit": 2048000,
      "rowLimit": 10000
     },
     "inputWidgets": {},
     "nuid": "6ed6bcf0-7682-473c-91cd-b0ef58c5280b",
     "showTitle": false,
     "tableResultSettingsMap": {},
     "title": ""
    }
   },
   "outputs": [],
   "source": [
    "# 전체 경로 지정해서 불러오기\n",
    "df_departure = spark.table(\"silver.api_silver_departure_weather\")\n",
    "# 또는 카탈로그, 스키마 직접 선택\n",
    "spark.sql(\"USE SCHEMA silver\")\n",
    "df_departure = spark.table(\"api_silver_departure_weather\")\n"
   ]
  },
  {
   "cell_type": "code",
   "execution_count": 0,
   "metadata": {
    "application/vnd.databricks.v1+cell": {
     "cellMetadata": {
      "byteLimit": 2048000,
      "rowLimit": 10000
     },
     "inputWidgets": {},
     "nuid": "a0c5c718-04c3-4595-8d11-b2b4ac63c574",
     "showTitle": false,
     "tableResultSettingsMap": {},
     "title": ""
    }
   },
   "outputs": [],
   "source": [
    "from pyspark.sql.window import Window\n",
    "import pyspark.sql.functions as F\n",
    "\n",
    "# 1. Window 정의: 같은 key마다 timestamp 역순 정렬\n",
    "key_cols = [\"year\", \"month\", \"day\", \"scheduledatetime\", \"flightid\"]  # 실무엔 필요한 조합으로!\n",
    "window_spec = Window.partitionBy(key_cols).orderBy(F.col(\"timestamp\").desc())\n",
    "\n",
    "# 2. row_number 부여 → 각 파티션별 가장 최근(row_number==1)만 남김\n",
    "df_departure_latest = (\n",
    "    df_departure\n",
    "    .withColumn(\"row_number\", F.row_number().over(window_spec))\n",
    "    .filter(\"row_number = 1\")\n",
    "    .drop(\"row_number\")\n",
    ")\n"
   ]
  },
  {
   "cell_type": "code",
   "execution_count": 0,
   "metadata": {
    "application/vnd.databricks.v1+cell": {
     "cellMetadata": {
      "byteLimit": 2048000,
      "rowLimit": 10000
     },
     "inputWidgets": {},
     "nuid": "6fcd1841-5cef-4da1-90d1-ba5be7ae7f50",
     "showTitle": false,
     "tableResultSettingsMap": {},
     "title": ""
    }
   },
   "outputs": [],
   "source": [
    "from pyspark.sql.functions import col, substring\n",
    "\n",
    "df_dep_feature1 = (\n",
    "    df_departure_latest\n",
    "    .select(\n",
    "        \"year\",\n",
    "        \"month\",\n",
    "        \"day\",\n",
    "        \"airline\",\n",
    "        \"flightid\",\n",
    "        \"scheduledatetime\",\n",
    "        \"airport\",\n",
    "        col(\"temp\").cast(\"float\").alias(\"temp\"),\n",
    "        col(\"wind\").cast(\"float\").alias(\"wind\"),\n",
    "        col(\"senstemp\").cast(\"float\").alias(\"senstemp\"),\n",
    "        col(\"himidity\").cast(\"float\").alias(\"himidity\"),\n",
    "        # 필요하다면 이런 최소한의 파생만 허용:\n",
    "        substring(\"scheduledatetime\", 1, 2).alias(\"scheduled_hour\"),\n",
    "    )\n",
    ")\n"
   ]
  },
  {
   "cell_type": "code",
   "execution_count": 0,
   "metadata": {
    "application/vnd.databricks.v1+cell": {
     "cellMetadata": {
      "byteLimit": 2048000,
      "rowLimit": 10000
     },
     "inputWidgets": {},
     "nuid": "41f7e860-a2ce-47fc-99ce-1a0d8ca6e7ac",
     "showTitle": false,
     "tableResultSettingsMap": {},
     "title": ""
    }
   },
   "outputs": [],
   "source": [
    "df_departure=df_dep_feature1"
   ]
  },
  {
   "cell_type": "markdown",
   "metadata": {
    "application/vnd.databricks.v1+cell": {
     "cellMetadata": {},
     "inputWidgets": {},
     "nuid": "69f7ca2f-fb7e-44be-84e6-ed5a27599443",
     "showTitle": false,
     "tableResultSettingsMap": {},
     "title": ""
    }
   },
   "source": [
    "## 인천공항 날씨"
   ]
  },
  {
   "cell_type": "code",
   "execution_count": 0,
   "metadata": {
    "application/vnd.databricks.v1+cell": {
     "cellMetadata": {
      "byteLimit": 2048000,
      "rowLimit": 10000
     },
     "inputWidgets": {},
     "nuid": "3f28c4f9-275b-4249-9c6e-2b7015738ba3",
     "showTitle": false,
     "tableResultSettingsMap": {},
     "title": ""
    }
   },
   "outputs": [],
   "source": [
    "# 1. 테이블 불러오기 (Spark SQL)\n",
    "df_area = spark.table(\"silver.api_silver_area_weather_data\")\n",
    "\n",
    "# 2. 중복제거: observ_date, observ_time 기준으로 가장 최근(timestamp)값 1개만 남기기\n",
    "from pyspark.sql.window import Window\n",
    "import pyspark.sql.functions as F\n",
    "\n",
    "window_spec = Window.partitionBy(\"observ_date\", \"observ_time\").orderBy(F.col(\"timestamp\").desc())\n",
    "df_area_clean = (\n",
    "    df_area.withColumn(\"row_number\", F.row_number().over(window_spec))\n",
    "           .filter(F.col(\"row_number\") == 1)\n",
    "           .drop(\"row_number\")\n",
    ")"
   ]
  },
  {
   "cell_type": "code",
   "execution_count": 0,
   "metadata": {
    "application/vnd.databricks.v1+cell": {
     "cellMetadata": {
      "byteLimit": 2048000,
      "rowLimit": 10000
     },
     "inputWidgets": {},
     "nuid": "106b533a-26d4-4b7d-a620-8624baeecc77",
     "showTitle": false,
     "tableResultSettingsMap": {},
     "title": ""
    }
   },
   "outputs": [],
   "source": [
    "df_dep_feature2 = df_area_clean.select(\n",
    "    \"observ_date\",          # 조인키\n",
    "    \"observ_time\",          # 조인키\n",
    "    \"temperature\",          # 기온\n",
    "    \"mean_wind_speed\",      # 평균 풍속\n",
    "    \"horizontal_visibility\" # 가시거리\n",
    ")\n"
   ]
  },
  {
   "cell_type": "code",
   "execution_count": 0,
   "metadata": {
    "application/vnd.databricks.v1+cell": {
     "cellMetadata": {
      "byteLimit": 2048000,
      "rowLimit": 10000
     },
     "inputWidgets": {},
     "nuid": "c4fc9deb-2023-43ab-91cf-5f0d368868e0",
     "showTitle": false,
     "tableResultSettingsMap": {},
     "title": ""
    }
   },
   "outputs": [],
   "source": [
    "df_weather= df_dep_feature2"
   ]
  },
  {
   "cell_type": "markdown",
   "metadata": {
    "application/vnd.databricks.v1+cell": {
     "cellMetadata": {},
     "inputWidgets": {},
     "nuid": "a8f0e1e1-5e16-421a-b19f-051c96b127d6",
     "showTitle": false,
     "tableResultSettingsMap": {},
     "title": ""
    }
   },
   "source": [
    "## ㅇ인구예측"
   ]
  },
  {
   "cell_type": "code",
   "execution_count": 0,
   "metadata": {
    "application/vnd.databricks.v1+cell": {
     "cellMetadata": {
      "byteLimit": 2048000,
      "rowLimit": 10000
     },
     "inputWidgets": {},
     "nuid": "420425a5-dcb3-4dcb-ba51-a1e8a1eb060c",
     "showTitle": false,
     "tableResultSettingsMap": {},
     "title": ""
    }
   },
   "outputs": [],
   "source": [
    "import pyspark.sql.functions as F\n",
    "\n",
    "# 1. 원본 데이터 불러오기\n",
    "df_forecast = spark.table(\"gold.api_gold_departure_forecast\")  # 실제 환경에 맞게 테이블명 변경\n",
    "\n",
    "# 2. 시간대별(passengers_forecast 합계) 집계\n",
    "df_forecast_grouped = (\n",
    "    df_forecast\n",
    "    .groupBy(\"year\", \"month\", \"day\", \"hour_of_day\")\n",
    "    .agg(\n",
    "        F.sum(F.col(\"passengers_forecast\").cast(\"int\")).alias(\"passengers_forecast\")\n",
    "    )\n",
    "    .withColumn(\n",
    "        \"congestion_level\",\n",
    "        F.when(F.col(\"passengers_forecast\") < 2500, \"여유\")\n",
    "         .when(F.col(\"passengers_forecast\") < 5000, \"보통\")\n",
    "         .otherwise(\"혼잡\")\n",
    "    )\n",
    "    .orderBy(\"hour_of_day\")\n",
    ")\n",
    "\n",
    "## 3. 결과 확인 (최대 24시간치 표시)\n",
    "df_forecast_grouped.show(24)\n",
    "\n"
   ]
  },
  {
   "cell_type": "code",
   "execution_count": 0,
   "metadata": {
    "application/vnd.databricks.v1+cell": {
     "cellMetadata": {
      "byteLimit": 2048000,
      "rowLimit": 10000
     },
     "inputWidgets": {},
     "nuid": "efe66c40-afce-4101-bb84-e272a94cfd19",
     "showTitle": false,
     "tableResultSettingsMap": {},
     "title": ""
    }
   },
   "outputs": [],
   "source": [
    "df_forecast=df_forecast_grouped"
   ]
  },
  {
   "cell_type": "code",
   "execution_count": 0,
   "metadata": {
    "application/vnd.databricks.v1+cell": {
     "cellMetadata": {
      "byteLimit": 2048000,
      "rowLimit": 10000
     },
     "inputWidgets": {},
     "nuid": "41ff27b8-4e1f-49cc-b852-b454b17236ef",
     "showTitle": false,
     "tableResultSettingsMap": {},
     "title": ""
    }
   },
   "outputs": [],
   "source": [
    "from pyspark.sql.functions import substring\n",
    "\n",
    "# 예시: scheduledatetime(예: '0850')에서 시간대 추출 -> '08'\n",
    "df_departure = df_departure.withColumn(\n",
    "    \"hour_of_day\",\n",
    "    substring(\"scheduledatetime\", 1, 2)\n",
    ")\n"
   ]
  },
  {
   "cell_type": "code",
   "execution_count": 0,
   "metadata": {
    "application/vnd.databricks.v1+cell": {
     "cellMetadata": {
      "byteLimit": 2048000,
      "rowLimit": 10000
     },
     "inputWidgets": {},
     "nuid": "c5a430a4-a85b-4851-8fd7-35420d93fe92",
     "showTitle": false,
     "tableResultSettingsMap": {},
     "title": ""
    }
   },
   "outputs": [],
   "source": [
    "import datetime\n",
    "\n",
    "# 오늘 날짜 가져오기 (로컬 시스템 시간 기준)\n",
    "today = datetime.date.today()\n",
    "today_year = today.year\n",
    "today_month = today.month\n",
    "today_day = today.day\n",
    "\n",
    "df_departure_today = df_departure.filter(\n",
    "    (df_departure.year == today_year) &\n",
    "    (df_departure.month == today_month) &\n",
    "    (df_departure.day == today_day)\n",
    ")\n"
   ]
  },
  {
   "cell_type": "code",
   "execution_count": 0,
   "metadata": {
    "application/vnd.databricks.v1+cell": {
     "cellMetadata": {
      "byteLimit": 2048000,
      "rowLimit": 10000
     },
     "inputWidgets": {},
     "nuid": "8dae44b6-c583-4713-a529-90236b4b8e87",
     "showTitle": false,
     "tableResultSettingsMap": {},
     "title": ""
    }
   },
   "outputs": [],
   "source": [
    "from pyspark.sql.functions import substring, lpad, col\n",
    "\n",
    "# df_weather: hour_of_day 파생\n",
    "df_weather = df_weather.withColumn(\"hour_of_day\", substring(\"observ_time\", 1, 2))\n",
    "df_weather = df_weather.withColumn(\"hour_of_day\", lpad(col(\"hour_of_day\"), 2, '0'))\n",
    "\n",
    "# df_forecast: lpad 처리\n",
    "df_forecast = df_forecast.withColumn(\"hour_of_day\", lpad(col(\"hour_of_day\"), 2, '0'))\n",
    "\n",
    "# 기준 (df_departure_today)도 똑같이 맞춰야 함\n",
    "df_departure_today = df_departure_today.withColumn(\"hour_of_day\", lpad(col(\"hour_of_day\"), 2, '0'))\n",
    "\n",
    "# 조인\n",
    "joined_df = (\n",
    "    df_departure_today\n",
    "        .join(df_weather, [\"year\", \"month\", \"day\", \"hour_of_day\"], \"left\")\n",
    "        .join(df_forecast, [\"year\", \"month\", \"day\", \"hour_of_day\"], \"left\")\n",
    ")\n"
   ]
  },
  {
   "cell_type": "code",
   "execution_count": 0,
   "metadata": {
    "application/vnd.databricks.v1+cell": {
     "cellMetadata": {
      "byteLimit": 2048000,
      "rowLimit": 10000
     },
     "inputWidgets": {},
     "nuid": "8ecb6a1c-3858-4186-af2f-434350f14403",
     "showTitle": false,
     "tableResultSettingsMap": {},
     "title": ""
    }
   },
   "outputs": [],
   "source": [
    "# 각 테이블 컬럼 리스트 출력\n",
    "print(\"df_departure_today.columns:\", df_departure_today.columns)\n",
    "\n"
   ]
  },
  {
   "cell_type": "code",
   "execution_count": 0,
   "metadata": {
    "application/vnd.databricks.v1+cell": {
     "cellMetadata": {
      "byteLimit": 2048000,
      "rowLimit": 10000
     },
     "inputWidgets": {},
     "nuid": "0918ac2d-c65b-40a2-822b-82434ddb8ef5",
     "showTitle": false,
     "tableResultSettingsMap": {},
     "title": ""
    }
   },
   "outputs": [],
   "source": [
    "print(\"df_weather.columns:\", df_weather.columns)\n"
   ]
  },
  {
   "cell_type": "code",
   "execution_count": 0,
   "metadata": {
    "application/vnd.databricks.v1+cell": {
     "cellMetadata": {
      "byteLimit": 2048000,
      "rowLimit": 10000
     },
     "inputWidgets": {},
     "nuid": "6f811456-cfbc-4dcd-a79b-16e1b7b8fae4",
     "showTitle": false,
     "tableResultSettingsMap": {},
     "title": ""
    }
   },
   "outputs": [],
   "source": [
    "print(\"df_forecast.columns:\", df_forecast.columns)"
   ]
  },
  {
   "cell_type": "code",
   "execution_count": 0,
   "metadata": {
    "application/vnd.databricks.v1+cell": {
     "cellMetadata": {
      "byteLimit": 2048000,
      "rowLimit": 10000
     },
     "inputWidgets": {},
     "nuid": "819f8a1c-16dc-4b69-babd-380d68f2cbbf",
     "showTitle": false,
     "tableResultSettingsMap": {},
     "title": ""
    }
   },
   "outputs": [],
   "source": [
    "# df_weather에 조인키 생성 및 lpad 적용\n",
    "from pyspark.sql.functions import substring, lpad, col\n",
    "\n",
    "df_weather = (\n",
    "    df_weather\n",
    "    .withColumn(\"year\", substring(\"observ_date\", 1, 4))\n",
    "    .withColumn(\"month\", substring(\"observ_date\", 5, 2))\n",
    "    .withColumn(\"day\", substring(\"observ_date\", 7, 2))\n",
    "    .withColumn(\"hour_of_day\", substring(\"observ_time\", 1, 2))\n",
    "    .withColumn(\"hour_of_day\", lpad(col(\"hour_of_day\"), 2, '0'))\n",
    ")\n",
    "\n",
    "# 이제 모두 'year', 'month', 'day', 'hour_of_day' 기준 조인 OK!\n"
   ]
  },
  {
   "cell_type": "code",
   "execution_count": 0,
   "metadata": {
    "application/vnd.databricks.v1+cell": {
     "cellMetadata": {
      "byteLimit": 2048000,
      "rowLimit": 10000
     },
     "inputWidgets": {},
     "nuid": "6c77649a-d395-4b74-867a-7671b2b7c2be",
     "showTitle": false,
     "tableResultSettingsMap": {},
     "title": ""
    }
   },
   "outputs": [],
   "source": [
    "joined_df = (\n",
    "    df_departure_today\n",
    "    .join(df_weather, [\"year\", \"month\", \"day\", \"hour_of_day\"], how='left')\n",
    "    .join(df_forecast, [\"year\", \"month\", \"day\", \"hour_of_day\"], how='left')\n",
    ")\n"
   ]
  },
  {
   "cell_type": "code",
   "execution_count": 0,
   "metadata": {
    "application/vnd.databricks.v1+cell": {
     "cellMetadata": {
      "byteLimit": 2048000,
      "rowLimit": 10000
     },
     "inputWidgets": {},
     "nuid": "2cb19285-53ed-4544-9669-b36cf1efc4b7",
     "showTitle": false,
     "tableResultSettingsMap": {},
     "title": ""
    }
   },
   "outputs": [],
   "source": [
    "joined_df.repartition(4).write \\\n",
    "    .format(\"jdbc\") \\\n",
    "    .option(\"url\", \"jdbc:postgresql://1dt-2nd-team1-postgres.postgres.database.azure.com:5432/postgres\") \\\n",
    "    .option(\"dbtable\", \"gold.df_api\") \\\n",
    "    .option(\"user\", \"azureuser\") \\\n",
    "    .option(\"password\", \"asdASD123!@#\") \\\n",
    "    .option(\"driver\", \"org.postgresql.Driver\") \\\n",
    "    .option(\"batchsize\", 500) \\\n",
    "    .option(\"connectionTimeout\", \"60000\") \\\n",
    "    .option(\"socketTimeout\", \"60000\") \\\n",
    "    .mode(\"overwrite\") \\\n",
    "    .save()\n"
   ]
  },
  {
   "cell_type": "markdown",
   "metadata": {
    "application/vnd.databricks.v1+cell": {
     "cellMetadata": {},
     "inputWidgets": {},
     "nuid": "d0cb0954-007d-44e7-8290-11c5c52cb365",
     "showTitle": false,
     "tableResultSettingsMap": {},
     "title": ""
    }
   },
   "source": [
    "#분석시작"
   ]
  },
  {
   "cell_type": "code",
   "execution_count": 0,
   "metadata": {
    "application/vnd.databricks.v1+cell": {
     "cellMetadata": {
      "byteLimit": 2048000,
      "rowLimit": 10000
     },
     "inputWidgets": {},
     "nuid": "a41868d9-46ca-4ca7-96a7-6560074298b1",
     "showTitle": false,
     "tableResultSettingsMap": {},
     "title": ""
    }
   },
   "outputs": [],
   "source": [
    "df_api=joined_df"
   ]
  },
  {
   "cell_type": "code",
   "execution_count": 0,
   "metadata": {
    "application/vnd.databricks.v1+cell": {
     "cellMetadata": {
      "byteLimit": 2048000,
      "rowLimit": 10000
     },
     "inputWidgets": {},
     "nuid": "e41d9d0c-d6b1-4db6-b1e8-58ba7ec95c45",
     "showTitle": false,
     "tableResultSettingsMap": {},
     "title": ""
    }
   },
   "outputs": [],
   "source": [
    "# 정적 데이터 최종 피처셋 추출\n",
    "df_flight_model = df_flight.select(\n",
    "    \"year\",\n",
    "    \"month\",\n",
    "    \"day\",\n",
    "    F.col(\"scheduled_hour\").alias(\"hour_of_day\"),\n",
    "    \"airline\",\n",
    "    F.col(\"flight_number\").alias(\"flightid\"),\n",
    "    F.col(\"arrival_city\").alias(\"airport\"),\n",
    "    \"congestion_level\",\n",
    "    \"temperature\",\n",
    "    F.col(\"wind_speed\").alias(\"wind\"),\n",
    "    F.col(\"visibillity\").alias(\"horizontal_visibility\")\n",
    ")\n"
   ]
  },
  {
   "cell_type": "code",
   "execution_count": 0,
   "metadata": {
    "application/vnd.databricks.v1+cell": {
     "cellMetadata": {
      "byteLimit": 2048000,
      "rowLimit": 10000
     },
     "inputWidgets": {},
     "nuid": "18293c77-ce45-41b2-b6e0-62a3290f4596",
     "showTitle": false,
     "tableResultSettingsMap": {},
     "title": ""
    }
   },
   "outputs": [],
   "source": [
    "# 실시간 데이터 최종 피처셋 추출\n",
    "df_api_model = df_api.select(\n",
    "    \"year\",\n",
    "    \"month\",\n",
    "    \"day\",\n",
    "    \"hour_of_day\",\n",
    "    \"airline\",\n",
    "    \"flightid\",\n",
    "    \"airport\",\n",
    "    \"congestion_level\",\n",
    "    F.col(\"temp\").alias(\"temperature\"),\n",
    "    \"wind\",\n",
    "    F.col(\"horizontal_visibility\")\n",
    ")\n"
   ]
  },
  {
   "cell_type": "code",
   "execution_count": 0,
   "metadata": {
    "application/vnd.databricks.v1+cell": {
     "cellMetadata": {
      "byteLimit": 2048000,
      "rowLimit": 10000
     },
     "inputWidgets": {},
     "nuid": "dc8d64ee-6256-4c53-9d7e-a36975071d91",
     "showTitle": false,
     "tableResultSettingsMap": {},
     "title": ""
    }
   },
   "outputs": [],
   "source": [
    "X = df_flight_model.toPandas()\n",
    "y = df_flight.select(\"departure_delay_min\").toPandas().values.ravel()\n"
   ]
  },
  {
   "cell_type": "code",
   "execution_count": 0,
   "metadata": {
    "application/vnd.databricks.v1+cell": {
     "cellMetadata": {
      "byteLimit": 2048000,
      "rowLimit": 10000
     },
     "inputWidgets": {},
     "nuid": "f698bf3e-8867-4444-ac6e-697cabfe781e",
     "showTitle": false,
     "tableResultSettingsMap": {},
     "title": ""
    }
   },
   "outputs": [],
   "source": [
    "!pip install xgboost\n"
   ]
  },
  {
   "cell_type": "code",
   "execution_count": 0,
   "metadata": {
    "application/vnd.databricks.v1+cell": {
     "cellMetadata": {
      "byteLimit": 2048000,
      "rowLimit": 10000
     },
     "inputWidgets": {},
     "nuid": "dc515896-aef9-4340-b621-9bb3c34841e1",
     "showTitle": false,
     "tableResultSettingsMap": {},
     "title": ""
    }
   },
   "outputs": [],
   "source": [
    "!pip install lightgbm\n"
   ]
  },
  {
   "cell_type": "code",
   "execution_count": 0,
   "metadata": {
    "application/vnd.databricks.v1+cell": {
     "cellMetadata": {
      "byteLimit": 2048000,
      "rowLimit": 10000
     },
     "collapsed": true,
     "inputWidgets": {},
     "nuid": "9c513765-9f0a-4a42-800c-c3702d2c31b8",
     "showTitle": false,
     "tableResultSettingsMap": {},
     "title": ""
    }
   },
   "outputs": [],
   "source": [
    "!pip install catboost\n"
   ]
  },
  {
   "cell_type": "code",
   "execution_count": 0,
   "metadata": {
    "application/vnd.databricks.v1+cell": {
     "cellMetadata": {
      "byteLimit": 2048000,
      "rowLimit": 10000
     },
     "collapsed": true,
     "inputWidgets": {},
     "nuid": "88dfe526-675b-4f74-b398-df5cc57fa387",
     "showTitle": false,
     "tableResultSettingsMap": {},
     "title": ""
    }
   },
   "outputs": [],
   "source": [
    "!pip install tensorflow\n"
   ]
  },
  {
   "cell_type": "code",
   "execution_count": 0,
   "metadata": {
    "application/vnd.databricks.v1+cell": {
     "cellMetadata": {},
     "collapsed": true,
     "inputWidgets": {},
     "nuid": "2e03a104-7ddb-4190-894b-c68034d2f52c",
     "showTitle": false,
     "tableResultSettingsMap": {},
     "title": ""
    }
   },
   "outputs": [],
   "source": [
    "#!pip install scikit-learn pandas numpy\n"
   ]
  },
  {
   "cell_type": "code",
   "execution_count": 0,
   "metadata": {
    "application/vnd.databricks.v1+cell": {
     "cellMetadata": {
      "byteLimit": 2048000,
      "rowLimit": 10000
     },
     "inputWidgets": {},
     "nuid": "3146892d-0bd5-430e-8481-1704b8643abc",
     "showTitle": false,
     "tableResultSettingsMap": {},
     "title": ""
    }
   },
   "outputs": [],
   "source": [
    "import pandas as pd\n",
    "import numpy as np\n",
    "\n",
    "# Sklearn & ML/DL 패키지\n",
    "from sklearn.ensemble import RandomForestRegressor\n",
    "from sklearn.linear_model import Ridge, LinearRegression\n",
    "from xgboost import XGBRegressor\n",
    "from lightgbm import LGBMRegressor\n",
    "from catboost import CatBoostRegressor\n",
    "from sklearn.model_selection import train_test_split\n",
    "from sklearn.metrics import mean_squared_error, mean_absolute_error, r2_score\n",
    "\n",
    "# 딥러닝(Fully Connected Neural Network)\n",
    "import tensorflow as tf\n",
    "from tensorflow.keras import layers, models\n"
   ]
  },
  {
   "cell_type": "code",
   "execution_count": 0,
   "metadata": {
    "application/vnd.databricks.v1+cell": {
     "cellMetadata": {
      "byteLimit": 2048000,
      "rowLimit": 10000
     },
     "inputWidgets": {},
     "nuid": "a7905613-6837-417f-b75e-3ce7760ceb8d",
     "showTitle": false,
     "tableResultSettingsMap": {},
     "title": ""
    }
   },
   "outputs": [],
   "source": [
    "X = pd.get_dummies(X, columns=[\"airline\", \"airport\", \"congestion_level\"])\n"
   ]
  },
  {
   "cell_type": "code",
   "execution_count": 0,
   "metadata": {
    "application/vnd.databricks.v1+cell": {
     "cellMetadata": {
      "byteLimit": 2048000,
      "rowLimit": 10000
     },
     "inputWidgets": {},
     "nuid": "6f2ecacb-a03d-4823-883e-96072c604139",
     "showTitle": false,
     "tableResultSettingsMap": {},
     "title": ""
    }
   },
   "outputs": [],
   "source": [
    "X_train, X_test, y_train, y_test = train_test_split(X, y, test_size=0.2, random_state=42)\n"
   ]
  },
  {
   "cell_type": "code",
   "execution_count": 0,
   "metadata": {
    "application/vnd.databricks.v1+cell": {
     "cellMetadata": {
      "byteLimit": 2048000,
      "rowLimit": 10000
     },
     "collapsed": true,
     "inputWidgets": {},
     "nuid": "9679a756-d11f-4069-85a6-b34190c1bcfd",
     "showTitle": false,
     "tableResultSettingsMap": {},
     "title": ""
    }
   },
   "outputs": [],
   "source": [
    "models = {\n",
    "    \"XGBoost\": XGBRegressor(),\n",
    "    \"LightGBM\": LGBMRegressor(),\n",
    "    \"CatBoost\": CatBoostRegressor(verbose=0),\n",
    "    \"RandomForest\": RandomForestRegressor(),\n",
    "    \"Ridge\": Ridge(),\n",
    "    \"Linear\": LinearRegression()\n",
    "}\n"
   ]
  },
  {
   "cell_type": "code",
   "execution_count": 0,
   "metadata": {
    "application/vnd.databricks.v1+cell": {
     "cellMetadata": {
      "byteLimit": 2048000,
      "rowLimit": 10000
     },
     "inputWidgets": {},
     "nuid": "317ee542-7a04-4bbc-a4c8-1406185f8d7d",
     "showTitle": false,
     "tableResultSettingsMap": {},
     "title": ""
    }
   },
   "outputs": [],
   "source": [
    "# --- 기본 라이브러리 및 파이썬 ML 패키지 임포트 ---\n",
    "import pyspark.sql.functions as F\n",
    "import pandas as pd\n",
    "import numpy as np\n",
    "from sklearn.ensemble import RandomForestRegressor\n",
    "from sklearn.linear_model import Ridge, LinearRegression\n",
    "from xgboost import XGBRegressor\n",
    "from lightgbm import LGBMRegressor\n",
    "from catboost import CatBoostRegressor\n",
    "from sklearn.model_selection import train_test_split\n",
    "from sklearn.metrics import mean_squared_error, mean_absolute_error, r2_score\n",
    "\n",
    "# --- 1. 정적 데이터 피처셋 추출 ---\n",
    "df_flight_model = df_flight.select(\n",
    "    \"year\",\n",
    "    \"month\",\n",
    "    \"day\",\n",
    "    F.col(\"scheduled_hour\").alias(\"hour_of_day\"),\n",
    "    \"airline\",\n",
    "    F.col(\"flight_number\").alias(\"flightid\"),\n",
    "    F.col(\"arrival_city\").alias(\"airport\"),\n",
    "    \"congestion_level\",\n",
    "    \"temperature\",\n",
    "    F.col(\"wind_speed\").alias(\"wind\"),\n",
    "    F.col(\"visibillity\").alias(\"horizontal_visibility\")\n",
    ")\n",
    "\n",
    "# --- 2. 피처/타깃 분리 및 데이터프레임 변환 ---\n",
    "X = df_flight_model.toPandas()\n",
    "y = df_flight.select(\"departure_delay_min\").toPandas().values.ravel()\n",
    "\n",
    "# --- 3. 식별자 컬럼 제거 및 인코딩/숫자형 변환 ---\n",
    "# flightid(식별자)는 제외\n",
    "X = X.drop(\"flightid\", axis=1)\n",
    "# 범주형 피처 원핫 인코딩\n",
    "X = pd.get_dummies(X, columns=[\"airline\", \"airport\", \"congestion_level\"])\n",
    "# 수치형 컬럼 float 변환\n",
    "for col in [\"temperature\", \"wind\", \"horizontal_visibility\"]:\n",
    "    X[col] = X[col].astype(float)\n",
    "# hour_of_day도 숫자 변환(문자일 경우)\n",
    "if X[\"hour_of_day\"].dtype == object:\n",
    "    X[\"hour_of_day\"] = X[\"hour_of_day\"].astype(int)\n",
    "\n",
    "# --- 4. 학습/테스트 데이터 분리 ---\n",
    "X_train, X_test, y_train, y_test = train_test_split(X, y, test_size=0.2, random_state=42)\n",
    "\n",
    "# --- 5. 모델 정의 ---\n",
    "models = {\n",
    "    \"XGBoost\": XGBRegressor(),\n",
    "    \"LightGBM\": LGBMRegressor(),\n",
    "    \"CatBoost\": CatBoostRegressor(verbose=0),\n",
    "    \"RandomForest\": RandomForestRegressor(),\n",
    "    \"Ridge\": Ridge(),\n",
    "    \"Linear\": LinearRegression()\n",
    "}\n",
    "\n",
    "# --- 6. 학습 및 평가 ---\n",
    "results = {}\n",
    "for name, model in models.items():\n",
    "    model.fit(X_train, y_train)\n",
    "    y_pred = model.predict(X_test)\n",
    "    results[name] = {\n",
    "        \"RMSE\": np.sqrt(mean_squared_error(y_test, y_pred)),\n",
    "        \"MAE\": mean_absolute_error(y_test, y_pred),\n",
    "        \"R2\": r2_score(y_test, y_pred)\n",
    "    }\n",
    "\n",
    "# --- 7. 결과 출력 (표 형태) ---\n",
    "print(pd.DataFrame(results).T)\n"
   ]
  },
  {
   "cell_type": "code",
   "execution_count": 0,
   "metadata": {
    "application/vnd.databricks.v1+cell": {
     "cellMetadata": {
      "byteLimit": 2048000,
      "rowLimit": 10000
     },
     "inputWidgets": {},
     "nuid": "dd97401a-8452-4308-8f45-c235252e85b0",
     "showTitle": false,
     "tableResultSettingsMap": {},
     "title": ""
    }
   },
   "outputs": [],
   "source": [
    "results = {}"
   ]
  },
  {
   "cell_type": "code",
   "execution_count": 0,
   "metadata": {
    "application/vnd.databricks.v1+cell": {
     "cellMetadata": {
      "byteLimit": 2048000,
      "rowLimit": 10000
     },
     "inputWidgets": {},
     "nuid": "bbb4bfc6-d5b1-4bf7-ad8b-7c4f17ef0e2a",
     "showTitle": false,
     "tableResultSettingsMap": {},
     "title": ""
    }
   },
   "outputs": [],
   "source": [
    "\n",
    "\n",
    "# 1. RandomForest\n",
    "rf = RandomForestRegressor()\n",
    "rf.fit(X_train, y_train)\n",
    "y_pred = rf.predict(X_test)\n",
    "results[\"RandomForest\"] = {\n",
    "    \"RMSE\": np.sqrt(mean_squared_error(y_test, y_pred)),\n",
    "    \"MAE\": mean_absolute_error(y_test, y_pred),\n",
    "    \"R2\": r2_score(y_test, y_pred)\n",
    "}\n",
    "print(\"RandomForest done\")"
   ]
  },
  {
   "cell_type": "code",
   "execution_count": 0,
   "metadata": {
    "application/vnd.databricks.v1+cell": {
     "cellMetadata": {
      "byteLimit": 2048000,
      "rowLimit": 10000
     },
     "inputWidgets": {},
     "nuid": "babda4b6-6635-47bf-a369-7bb602c12dcf",
     "showTitle": false,
     "tableResultSettingsMap": {},
     "title": ""
    }
   },
   "outputs": [],
   "source": [
    "# 2. LightGBM\n",
    "lgbm = LGBMRegressor()\n",
    "lgbm.fit(X_train, y_train)\n",
    "y_pred = lgbm.predict(X_test)\n",
    "results[\"LightGBM\"] = {\n",
    "    \"RMSE\": np.sqrt(mean_squared_error(y_test, y_pred)),\n",
    "    \"MAE\": mean_absolute_error(y_test, y_pred),\n",
    "    \"R2\": r2_score(y_test, y_pred)\n",
    "}\n",
    "print(\"LightGBM done\")"
   ]
  },
  {
   "cell_type": "code",
   "execution_count": 0,
   "metadata": {
    "application/vnd.databricks.v1+cell": {
     "cellMetadata": {
      "byteLimit": 2048000,
      "rowLimit": 10000
     },
     "inputWidgets": {},
     "nuid": "e0995b43-2691-4c00-a4f6-5739db8fe916",
     "showTitle": false,
     "tableResultSettingsMap": {},
     "title": ""
    }
   },
   "outputs": [],
   "source": [
    "# 3. XGBoost\n",
    "xgb = XGBRegressor()\n",
    "xgb.fit(X_train, y_train)\n",
    "y_pred = xgb.predict(X_test)\n",
    "results[\"XGBoost\"] = {\n",
    "    \"RMSE\": np.sqrt(mean_squared_error(y_test, y_pred)),\n",
    "    \"MAE\": mean_absolute_error(y_test, y_pred),\n",
    "    \"R2\": r2_score(y_test, y_pred)\n",
    "}\n",
    "print(\"XGBoost done\")"
   ]
  },
  {
   "cell_type": "code",
   "execution_count": 0,
   "metadata": {
    "application/vnd.databricks.v1+cell": {
     "cellMetadata": {
      "byteLimit": 2048000,
      "rowLimit": 10000
     },
     "inputWidgets": {},
     "nuid": "1b8755ec-8af1-486f-9f9b-0413c4df2230",
     "showTitle": false,
     "tableResultSettingsMap": {},
     "title": ""
    }
   },
   "outputs": [],
   "source": [
    "# 4. CatBoost\n",
    "cat = CatBoostRegressor(verbose=0)\n",
    "cat.fit(X_train, y_train)\n",
    "y_pred = cat.predict(X_test)\n",
    "results[\"CatBoost\"] = {\n",
    "    \"RMSE\": np.sqrt(mean_squared_error(y_test, y_pred)),\n",
    "    \"MAE\": mean_absolute_error(y_test, y_pred),\n",
    "    \"R2\": r2_score(y_test, y_pred)\n",
    "}\n",
    "print(\"CatBoost done\")"
   ]
  },
  {
   "cell_type": "code",
   "execution_count": 0,
   "metadata": {
    "application/vnd.databricks.v1+cell": {
     "cellMetadata": {
      "byteLimit": 2048000,
      "rowLimit": 10000
     },
     "inputWidgets": {},
     "nuid": "db41c285-fae2-4906-a9c8-7e56951269ad",
     "showTitle": false,
     "tableResultSettingsMap": {},
     "title": ""
    }
   },
   "outputs": [],
   "source": [
    "# 5. Ridge\n",
    "ridge = Ridge()\n",
    "ridge.fit(X_train, y_train)\n",
    "y_pred = ridge.predict(X_test)\n",
    "results[\"Ridge\"] = {\n",
    "    \"RMSE\": np.sqrt(mean_squared_error(y_test, y_pred)),\n",
    "    \"MAE\": mean_absolute_error(y_test, y_pred),\n",
    "    \"R2\": r2_score(y_test, y_pred)\n",
    "}\n",
    "print(\"Ridge done\")"
   ]
  },
  {
   "cell_type": "code",
   "execution_count": 0,
   "metadata": {
    "application/vnd.databricks.v1+cell": {
     "cellMetadata": {
      "byteLimit": 2048000,
      "rowLimit": 10000
     },
     "inputWidgets": {},
     "nuid": "af4b74b4-e7fc-4a0e-8a03-4d02a99eae8b",
     "showTitle": false,
     "tableResultSettingsMap": {},
     "title": ""
    }
   },
   "outputs": [],
   "source": [
    "# 6. Linear\n",
    "linear = LinearRegression()\n",
    "linear.fit(X_train, y_train)\n",
    "y_pred = linear.predict(X_test)\n",
    "results[\"Linear\"] = {\n",
    "    \"RMSE\": np.sqrt(mean_squared_error(y_test, y_pred)),\n",
    "    \"MAE\": mean_absolute_error(y_test, y_pred),\n",
    "    \"R2\": r2_score(y_test, y_pred)\n",
    "}\n",
    "print(\"LinearRegression done\")"
   ]
  },
  {
   "cell_type": "code",
   "execution_count": 0,
   "metadata": {
    "application/vnd.databricks.v1+cell": {
     "cellMetadata": {
      "byteLimit": 2048000,
      "rowLimit": 10000
     },
     "inputWidgets": {},
     "nuid": "74407a2f-f12f-47aa-8554-c30c82d30208",
     "showTitle": false,
     "tableResultSettingsMap": {},
     "title": ""
    }
   },
   "outputs": [],
   "source": [
    "import pandas as pd\n",
    "df_results = pd.DataFrame(results).T\n",
    "print(df_results)\n"
   ]
  },
  {
   "cell_type": "markdown",
   "metadata": {
    "application/vnd.databricks.v1+cell": {
     "cellMetadata": {},
     "inputWidgets": {},
     "nuid": "61f9cd35-a715-4fc4-8aec-c76771632c2c",
     "showTitle": false,
     "tableResultSettingsMap": {},
     "title": ""
    }
   },
   "source": [
    "| Model         |    RMSE   |     MAE    |    R2    |\n",
    "|---------------|-----------|-----------|---------|\n",
    "| RandomForest  | 44.27     | 19.07     | 0.2365  |\n",
    "| LightGBM      | 43.55     | 19.90     | 0.2613  |\n",
    "| XGBoost       | 43.62     | 19.72     | 0.2589  |\n",
    "| CatBoost      | 43.49     | 19.58     | 0.2633  |\n",
    "| Ridge         | 47.49     | 22.29     | 0.1214  |\n",
    "| Linear        | 47.49     | 22.29     | 0.1214  |\n"
   ]
  },
  {
   "cell_type": "markdown",
   "metadata": {
    "application/vnd.databricks.v1+cell": {
     "cellMetadata": {},
     "inputWidgets": {},
     "nuid": "7fe7739e-718f-4b65-8bcd-ec3f7b29f75d",
     "showTitle": false,
     "tableResultSettingsMap": {},
     "title": ""
    }
   },
   "source": [
    "### 모델별 성능결과 해석\n",
    "\n",
    "- **CatBoost**가 RMSE(43.49), MAE(19.58)가 가장 낮으며, R²(0.263)도 가장 높음.  \n",
    "  → 전체 모델 중 **가장 뛰어난 예측 성능**을 보임.\n",
    "- **LightGBM, XGBoost, RandomForest**도 CatBoost와 매우 유사한 RMSE/MAE/R²를 보임.  \n",
    "  → **트리 계열 모델 성능이 상향 평준화**된 모습\n",
    "- **Ridge, Linear Regression**에서는 RMSE/MAE가 가장 높고 R²는 가장 낮음(0.12).  \n",
    "  → **선형 계열 모델은 트리 계열에 비해 현저히 낮은 성능**을 보임.\n",
    "- **전체적으로** 트리 계열(부스팅/랜덤포레스트)이 선형 계열보다  \n",
    "  **항공편 출발 지연 예측에 더 적합**함을 확인할 수 있음.\n",
    "\n",
    "**지표 의미**  \n",
    "- RMSE(평균 제곱근 오차): 예측 오차의 표준적인 크기 (단위: 분, 작을수록 예측력 높음)\n",
    "- MAE(평균 절대 오차): 실제 오차의 평균 절대값 (단위: 분, 작을수록 좋음)\n",
    "- R²(결정계수): 1에 가까울수록 예측 적합도와 설명력이 우수\n",
    "\n",
    "**실무 시사점**\n",
    "- 트리 계열 모델은 출발지연 예측에서 가장 효과적인 접근법임\n",
    "- 성능 차이가 미세하므로 최적화, 예측 시간, 실무 환경을 참고하여 모델 최종 선택 권장\n",
    "\n"
   ]
  },
  {
   "cell_type": "markdown",
   "metadata": {
    "application/vnd.databricks.v1+cell": {
     "cellMetadata": {},
     "inputWidgets": {},
     "nuid": "bacfd6dc-d780-4d1f-91ab-a81519930a19",
     "showTitle": false,
     "tableResultSettingsMap": {},
     "title": ""
    }
   },
   "source": [
    "# 모델 저장후 불러오기"
   ]
  },
  {
   "cell_type": "code",
   "execution_count": 0,
   "metadata": {
    "application/vnd.databricks.v1+cell": {
     "cellMetadata": {
      "byteLimit": 2048000,
      "rowLimit": 10000
     },
     "inputWidgets": {},
     "nuid": "961000c2-72c3-4613-955e-39b24875ffb0",
     "showTitle": false,
     "tableResultSettingsMap": {},
     "title": ""
    }
   },
   "outputs": [],
   "source": [
    "from catboost import CatBoostRegressor\n",
    "\n",
    "# 이미 CatBoost 모델을 학습한 경우\n",
    "cat = CatBoostRegressor(verbose=0)\n",
    "cat.fit(X_train, y_train)\n",
    "\n",
    "# 모델을 로컬 PC에 저장 (예: 현재 작업 폴더에 'catboost_model.cbm' 파일 생성)\n",
    "cat.save_model('catboost_model.cbm')\n"
   ]
  },
  {
   "cell_type": "code",
   "execution_count": 0,
   "metadata": {
    "application/vnd.databricks.v1+cell": {
     "cellMetadata": {
      "byteLimit": 2048000,
      "rowLimit": 10000
     },
     "inputWidgets": {},
     "nuid": "bd0d9943-d476-4f94-bb9a-6d72f157d6f9",
     "showTitle": false,
     "tableResultSettingsMap": {},
     "title": ""
    }
   },
   "outputs": [],
   "source": [
    "from catboost import CatBoostRegressor\n",
    "\n",
    "cat_loaded = CatBoostRegressor()\n",
    "cat_loaded.load_model('catboost_model.cbm')\n"
   ]
  },
  {
   "cell_type": "code",
   "execution_count": 0,
   "metadata": {
    "application/vnd.databricks.v1+cell": {
     "cellMetadata": {
      "byteLimit": 2048000,
      "rowLimit": 10000
     },
     "inputWidgets": {},
     "nuid": "949e5cf2-7344-4d92-b5e7-12075fb9be11",
     "showTitle": false,
     "tableResultSettingsMap": {},
     "title": ""
    }
   },
   "outputs": [],
   "source": [
    "joined_df.count()\n"
   ]
  },
  {
   "cell_type": "code",
   "execution_count": 0,
   "metadata": {
    "application/vnd.databricks.v1+cell": {
     "cellMetadata": {
      "byteLimit": 2048000,
      "rowLimit": 10000
     },
     "inputWidgets": {},
     "nuid": "5d078b85-7da8-4e93-9dfe-295f91aa308b",
     "showTitle": false,
     "tableResultSettingsMap": {},
     "title": ""
    }
   },
   "outputs": [],
   "source": [
    "total_row = joined_df.count()\n",
    "batch_size = 5000\n",
    "n_batch = (total_row // batch_size) + int(total_row % batch_size > 0)\n"
   ]
  },
  {
   "cell_type": "code",
   "execution_count": 0,
   "metadata": {
    "application/vnd.databricks.v1+cell": {
     "cellMetadata": {},
     "inputWidgets": {},
     "nuid": "8a317cc1-7c68-45da-9565-8b932fd99d95",
     "showTitle": false,
     "tableResultSettingsMap": {},
     "title": ""
    }
   },
   "outputs": [],
   "source": [
    "from pyspark.sql import Window\n",
    "from pyspark.sql.functions import row_number, monotonically_increasing_id\n",
    "\n",
    "# 1. joined_df에 row index 컬럼 추가\n",
    "w = Window.orderBy(monotonically_increasing_id())\n",
    "joined_df_idx = joined_df.withColumn(\"row_idx\", row_number().over(w)-1)\n",
    "\n",
    "pred_dfs = []\n",
    "\n",
    "for i in range(n_batch):\n",
    "    print(f\"Processing batch {i+1}/{n_batch} ...\")\n",
    "    # 2. 배치 범위만 Spark DF로 추출\n",
    "    start_idx = i * batch_size\n",
    "    end_idx = min((i+1) * batch_size, total_row)\n",
    "    batch_sdf = joined_df_idx.filter((F.col(\"row_idx\") >= start_idx) & (F.col(\"row_idx\") < end_idx)).drop(\"row_idx\")\n",
    "    # 3. Pandas로 변환\n",
    "    X_real = batch_sdf.toPandas()\n",
    "    # ---- 이하 기존 전처리, 예측 동일하게 ----\n",
    "    if 'flightid' in X_real.columns:\n",
    "        X_real = X_real.drop(\"flightid\", axis=1)\n",
    "    X_real = pd.get_dummies(X_real, columns=[\"airline\", \"airport\", \"congestion_level\"])\n",
    "    for col in [\"temperature\", \"wind\", \"horizontal_visibility\"]:\n",
    "        X_real[col] = X_real[col].astype(float)\n",
    "    if X_real[\"hour_of_day\"].dtype == object:\n",
    "        X_real[\"hour_of_day\"] = X_real[\"hour_of_day\"].astype(int)\n",
    "    # feature_list = list(X.columns)  # 기존에 쓰던 변수 활용\n",
    "    X_real = X_real.reindex(columns=feature_list, fill_value=0)\n",
    "    # 예측\n",
    "    y_pred_api = cat_loaded.predict(X_real)\n",
    "    X_real[\"departure_delay_min_pred\"] = y_pred_api\n",
    "    pred_dfs.append(X_real[[\"departure_delay_min_pred\"]])  # 필요한 컬럼만 쌓기\n"
   ]
  },
  {
   "cell_type": "code",
   "execution_count": 0,
   "metadata": {
    "application/vnd.databricks.v1+cell": {
     "cellMetadata": {
      "byteLimit": 2048000,
      "rowLimit": 10000
     },
     "inputWidgets": {},
     "nuid": "3e22d136-b3eb-4c8a-b0be-56905d48c309",
     "showTitle": false,
     "tableResultSettingsMap": {},
     "title": ""
    }
   },
   "outputs": [],
   "source": [
    "# 학습 시 전처리된 X 의 feature 리스트를 사용\n",
    "# 예: X = 정적 데이터(df_flight_model) 전처리 후 사용했던 X\n",
    "feature_list = list(X.columns)   # (X: df_flight_model → drop/인코딩/타입변환한 DataFrame)\n",
    "# joined_df에서 누락된 피처가 있을 수 있으니 fill_value=0로 채우기\n",
    "X_real = X_real.reindex(columns=feature_list, fill_value=0)\n"
   ]
  },
  {
   "cell_type": "code",
   "execution_count": 0,
   "metadata": {
    "application/vnd.databricks.v1+cell": {
     "cellMetadata": {},
     "inputWidgets": {},
     "nuid": "ad2c9f3f-5edf-423f-a3f4-61f31606ec5b",
     "showTitle": false,
     "tableResultSettingsMap": {},
     "title": ""
    }
   },
   "outputs": [],
   "source": [
    "y_pred_api = cat_loaded.predict(X_real)\n",
    "joined_df[\"departure_delay_min_pred\"] = y_pred_api\n"
   ]
  }
 ],
 "metadata": {
  "application/vnd.databricks.v1+notebook": {
   "computePreferences": null,
   "dashboards": [],
   "environmentMetadata": {
    "base_environment": "",
    "environment_version": "2"
   },
   "inputWidgetPreferences": null,
   "language": "python",
   "notebookMetadata": {
    "pythonIndentUnit": 4
   },
   "notebookName": "모델 분석 및 예측 실행_출력제거",
   "widgets": {}
  },
  "language_info": {
   "name": "python"
  }
 },
 "nbformat": 4,
 "nbformat_minor": 0
}